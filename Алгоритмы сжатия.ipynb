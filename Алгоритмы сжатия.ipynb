{
 "cells": [
  {
   "cell_type": "markdown",
   "id": "0dab83eb",
   "metadata": {},
   "source": [
    "### RLE"
   ]
  },
  {
   "cell_type": "code",
   "execution_count": 1,
   "id": "0239c13e",
   "metadata": {},
   "outputs": [
    {
     "name": "stdout",
     "output_type": "stream",
     "text": [
      "[4, 'A', 3, 'B', 2, 'C', 1, 'D', 5, 'A']\n",
      "['A', 'A', 'A', 'A', 'B', 'B', 'B', 'C', 'C', 'D', 'A', 'A', 'A', 'A', 'A']\n"
     ]
    }
   ],
   "source": [
    "def rle_encode(arr):\n",
    "    if not arr:\n",
    "        return []\n",
    "    \n",
    "    encoded_arr = []\n",
    "    count = 1\n",
    "    prev_char = arr[0]\n",
    "    \n",
    "    for i in range(1, len(arr)):\n",
    "        if arr[i] == prev_char:\n",
    "            count += 1\n",
    "        else:\n",
    "            encoded_arr.extend([count, prev_char])\n",
    "            count = 1\n",
    "            prev_char = arr[i]\n",
    "    \n",
    "    encoded_arr.extend([count, prev_char])\n",
    "    \n",
    "    return encoded_arr\n",
    "\n",
    "def rle_decode(arr):\n",
    "    if not arr:\n",
    "        return []\n",
    "    \n",
    "    decoded_arr = []\n",
    "    \n",
    "    for i in range(0, len(arr), 2):\n",
    "        count = int(arr[i])\n",
    "        char = arr[i + 1]\n",
    "        \n",
    "        while count > 0:\n",
    "            decoded_arr.append(char)\n",
    "            count -= 1\n",
    "    \n",
    "    return decoded_arr\n",
    "\n",
    "\n",
    "# Пример использования\n",
    "arr = ['A', 'A', 'A', 'A', 'B', 'B', 'B', 'C', 'C', 'D', 'A', 'A', 'A', 'A', 'A']\n",
    "encoded_arr = rle_encode(arr)\n",
    "print(encoded_arr)\n",
    "\n",
    "decoded_arr = rle_decode(encoded_arr)\n",
    "print(decoded_arr)"
   ]
  },
  {
   "cell_type": "code",
   "execution_count": 2,
   "id": "7de9117c",
   "metadata": {},
   "outputs": [],
   "source": [
    "def compress_file(input_file, output_file):\n",
    "    with open(input_file, 'r') as f:\n",
    "        data = f.read()\n",
    "    \n",
    "    compressed_data = rle_encode(list(data))\n",
    "    \n",
    "    with open(output_file, 'w') as f:\n",
    "        f.write(str(compressed_data))\n",
    "\n",
    "# Пример использования\n",
    "compress_file(r'C:\\Users\\79267\\Desktop\\test.txt', 'compressed_output.txt')\n",
    "\n",
    "def decompress_file(input_file, output_file):\n",
    "    with open(input_file, 'r') as f:\n",
    "        compressed_data = f.read()\n",
    "        \n",
    "        \n",
    "    compressed_data = list(compressed_data.replace(\"[\", '').replace(\" \", '').replace(\"]\", '').replace(\"'\", '').replace(\",\",''))\n",
    "    decompressed_data = rle_decode(compressed_data)\n",
    "    \n",
    "    with open(output_file, 'w') as f:\n",
    "        f.write(''.join(decompressed_data))\n",
    "        \n",
    "\n",
    "# Пример использования\n",
    "decompress_file('compressed_output.txt', 'decompressed_output.txt')"
   ]
  }
 ],
 "metadata": {
  "kernelspec": {
   "display_name": "Python 3 (ipykernel)",
   "language": "python",
   "name": "python3"
  },
  "language_info": {
   "codemirror_mode": {
    "name": "ipython",
    "version": 3
   },
   "file_extension": ".py",
   "mimetype": "text/x-python",
   "name": "python",
   "nbconvert_exporter": "python",
   "pygments_lexer": "ipython3",
   "version": "3.9.7"
  }
 },
 "nbformat": 4,
 "nbformat_minor": 5
}

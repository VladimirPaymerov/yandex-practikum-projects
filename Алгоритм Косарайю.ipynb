{
 "cells": [
  {
   "cell_type": "markdown",
   "id": "a17b25b9",
   "metadata": {},
   "source": [
    "### Алгоритм Косарайю"
   ]
  },
  {
   "cell_type": "code",
   "execution_count": 1,
   "id": "3cb32a4f",
   "metadata": {},
   "outputs": [],
   "source": [
    "def kosaraju(graph):\n",
    "    def dfs1(node):\n",
    "        visited[node] = True\n",
    "        for neighbor in graph[node]:\n",
    "            if not visited[neighbor]:\n",
    "                dfs1(neighbor)\n",
    "        stack.append(node)\n",
    "\n",
    "    def dfs2(node, component):\n",
    "        visited[node] = True\n",
    "        components[node] = component\n",
    "        for neighbor in reversed_graph[node]:\n",
    "            if not visited[neighbor]:\n",
    "                dfs2(neighbor, component)\n",
    "\n",
    "    n = len(graph)\n",
    "    visited = [False] * n\n",
    "    stack = []\n",
    "    components = [-1] * n\n",
    "\n",
    "    for i in range(n):\n",
    "        if not visited[i]:\n",
    "            dfs1(i)\n",
    "\n",
    "    reversed_graph = [[] for _ in range(n)]\n",
    "    for i in range(n):\n",
    "        for neighbor in graph[i]:\n",
    "            reversed_graph[neighbor].append(i)\n",
    "\n",
    "    visited = [False] * n\n",
    "    component_count = 0\n",
    "\n",
    "    while stack:\n",
    "        node = stack.pop()\n",
    "        if not visited[node]:\n",
    "            dfs2(node, component_count)\n",
    "            component_count += 1\n",
    "\n",
    "    return components"
   ]
  },
  {
   "cell_type": "code",
   "execution_count": 12,
   "id": "9ccfe05f",
   "metadata": {},
   "outputs": [
    {
     "name": "stdout",
     "output_type": "stream",
     "text": [
      "[0, 0, 0, 1, 1, 2, 2, 2, 2, 2]\n"
     ]
    }
   ],
   "source": [
    "# Пример графа заданного вектором смежности\n",
    "graph = {\n",
    "    0: [1],\n",
    "    1: [2],\n",
    "    2: [0, 3],\n",
    "    3: [4],\n",
    "    4: [3, 5],\n",
    "    5: [6],\n",
    "    6: [5, 7],\n",
    "    7: [8],\n",
    "    8: [9],\n",
    "    9: [6]\n",
    "}\n",
    "\n",
    "result = kosaraju(graph)\n",
    "print(result)"
   ]
  },
  {
   "cell_type": "markdown",
   "id": "ecd530ed",
   "metadata": {},
   "source": [
    "1. Функция kosaraju(graph):\n",
    "   - Это основная функция, которая запускает алгоритм Косарайю для поиска компонент сильной связности в графе.\n",
    "   - Внутри функции определены две вспомогательные функции dfs1 и dfs2, которые выполняют обходы графа для первого и второго проходов алгоритма.\n",
    "\n",
    "2. Функция dfs1(node):\n",
    "   - Это функция, которая выполняет обход графа в глубину для первого прохода алгоритма.\n",
    "   - Она помечает вершину как посещенную, затем рекурсивно вызывает себя для всех непосещенных соседей текущей вершины.\n",
    "   - После завершения обхода вершина добавляется в стек.\n",
    "\n",
    "3. Функция dfs2(node, component):\n",
    "   - Это функция, которая выполняет обход графа в глубину для второго прохода алгоритма.\n",
    "   - Она помечает вершину как посещенную и присваивает ей номер компоненты сильной связности.\n",
    "   - Затем рекурсивно вызывает себя для всех непосещенных соседей текущей вершины.\n",
    "\n",
    "4. В основной части кода:\n",
    "   - Создается список visited для отслеживания посещенных вершин, список stack для хранения вершин в порядке завершения первого прохода.\n",
    "   - Затем выполняется первый проход алгоритма, вызывая dfs1 для каждой вершины графа.\n",
    "   - После этого строится обратный граф reversed_graph.\n",
    "   - Затем выполняется второй проход алгоритма, вызывая dfs2 для каждой вершины в порядке, определенном стеком.\n",
    "   - Наконец, возвращается список components, содержащий номера компонент сильной связности для каждой вершины графа."
   ]
  }
 ],
 "metadata": {
  "kernelspec": {
   "display_name": "Python 3 (ipykernel)",
   "language": "python",
   "name": "python3"
  },
  "language_info": {
   "codemirror_mode": {
    "name": "ipython",
    "version": 3
   },
   "file_extension": ".py",
   "mimetype": "text/x-python",
   "name": "python",
   "nbconvert_exporter": "python",
   "pygments_lexer": "ipython3",
   "version": "3.9.7"
  }
 },
 "nbformat": 4,
 "nbformat_minor": 5
}

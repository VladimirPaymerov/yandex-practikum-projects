{
 "cells": [
  {
   "cell_type": "markdown",
   "id": "5aaea0de",
   "metadata": {},
   "source": [
    "### Алгоритм Дейкстры"
   ]
  },
  {
   "cell_type": "code",
   "execution_count": 4,
   "id": "1e9016ac",
   "metadata": {},
   "outputs": [],
   "source": [
    "class Edge:\n",
    "    def __init__(self, v1, v2, weight):\n",
    "        self.v1 = v1\n",
    "        self.v2 = v2\n",
    "        self.weight = weight\n",
    "\n",
    "def dijkstra(graph, start):\n",
    "    n = len(graph)\n",
    "    distance = [float('inf')] * n\n",
    "    distance[start] = 0\n",
    "    visited = [False] * n\n",
    "    prev = [-1] * n\n",
    "    edges = []\n",
    "\n",
    "    while True:\n",
    "        min_dist = float('inf')\n",
    "        min_node = -1\n",
    "        for i in range(n):\n",
    "            if not visited[i] and distance[i] < min_dist:\n",
    "                min_dist = distance[i]\n",
    "                min_node = i\n",
    "\n",
    "        if min_node == -1:\n",
    "            break\n",
    "\n",
    "        visited[min_node] = True\n",
    "\n",
    "        for neighbor, weight in graph[min_node]:\n",
    "            if not visited[neighbor]:\n",
    "                new_dist = min_dist + weight\n",
    "                if new_dist < distance[neighbor]:\n",
    "                    distance[neighbor] = new_dist\n",
    "                    prev[neighbor] = min_node\n",
    "                    edges.append(Edge(min_node, neighbor, weight))\n",
    "\n",
    "    # Вывод пути и его стоимости\n",
    "    end_node = 3  # Пример конечной вершины для поиска пути\n",
    "    path = []\n",
    "    current_node = end_node\n",
    "    while current_node != start:\n",
    "        path.append(current_node)\n",
    "        current_node = prev[current_node]\n",
    "    path.append(start)\n",
    "    path.reverse()\n",
    "    \n",
    "    total_cost = distance[end_node]\n",
    "    \n",
    "    return edges, path, total_cost"
   ]
  },
  {
   "cell_type": "code",
   "execution_count": 5,
   "id": "089ab92a",
   "metadata": {},
   "outputs": [
    {
     "name": "stdout",
     "output_type": "stream",
     "text": [
      "Edges in the shortest path:\n",
      "(0, 1) with weight 2\n",
      "(0, 2) with weight 4\n",
      "(1, 2) with weight 1\n",
      "(1, 3) with weight 5\n",
      "(2, 3) with weight 3\n",
      "\n",
      "Best Path:\n",
      "[0, 1, 2, 3]\n",
      "\n",
      "Total Cost of the Best Path: 6\n"
     ]
    }
   ],
   "source": [
    "# Пример графа заданного вектором смежности с весами ребер\n",
    "graph = {\n",
    "    0: [(1, 2), (2, 4)],\n",
    "    1: [(0, 2), (2, 1), (3, 5)],\n",
    "    2: [(0, 4), (1, 1), (3, 3)],\n",
    "    3: [(1, 5), (2, 3)]\n",
    "}\n",
    "\n",
    "start_node = 0\n",
    "result_edges, best_path, cost = dijkstra(graph, start_node)\n",
    "\n",
    "print(\"Edges in the shortest path:\")\n",
    "for edge in result_edges:\n",
    "    print(f\"({edge.v1}, {edge.v2}) with weight {edge.weight}\")\n",
    "\n",
    "print(\"\\nBest Path:\")\n",
    "print(best_path)\n",
    "\n",
    "print(\"\\nTotal Cost of the Best Path:\", cost)"
   ]
  }
 ],
 "metadata": {
  "kernelspec": {
   "display_name": "Python 3 (ipykernel)",
   "language": "python",
   "name": "python3"
  },
  "language_info": {
   "codemirror_mode": {
    "name": "ipython",
    "version": 3
   },
   "file_extension": ".py",
   "mimetype": "text/x-python",
   "name": "python",
   "nbconvert_exporter": "python",
   "pygments_lexer": "ipython3",
   "version": "3.9.7"
  }
 },
 "nbformat": 4,
 "nbformat_minor": 5
}

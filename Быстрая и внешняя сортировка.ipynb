{
 "cells": [
  {
   "cell_type": "code",
   "execution_count": 1,
   "id": "1e4b2c89",
   "metadata": {},
   "outputs": [],
   "source": [
    "import random \n",
    "import time"
   ]
  },
  {
   "cell_type": "markdown",
   "id": "d978e66d",
   "metadata": {},
   "source": [
    "### QuickSort"
   ]
  },
  {
   "cell_type": "code",
   "execution_count": 2,
   "id": "d8b39cac",
   "metadata": {},
   "outputs": [],
   "source": [
    "def quicksort(arr, left, right):\n",
    "    cmp = 0\n",
    "    asg = 0\n",
    "    if left < right:\n",
    "        pivot = arr[right]\n",
    "        i = left - 1\n",
    "        for j in range(left, right):\n",
    "            cmp+=1\n",
    "            if arr[j] <= pivot:\n",
    "                i += 1\n",
    "                arr[i], arr[j] = arr[j], arr[i]\n",
    "                asg+=2\n",
    "        arr[i+1], arr[right] = arr[right], arr[i+1]\n",
    "        asg+=2\n",
    "        p = i + 1\n",
    "        quicksort(arr, left, p-1)\n",
    "        quicksort(arr, p+1, right)\n",
    "    return arr, cmp,asg"
   ]
  },
  {
   "cell_type": "code",
   "execution_count": 3,
   "id": "98d21c83",
   "metadata": {},
   "outputs": [
    {
     "name": "stdout",
     "output_type": "stream",
     "text": [
      "Для N=10 время сотировки: 0.0; кол-во присваиваний: 9; кол-во сравнений: 14\n",
      "Для N=100 время сотировки: 0.0010004043579101562; кол-во присваиваний: 99; кол-во сравнений: 194\n",
      "Для N=1000 время сотировки: 0.013032913208007812; кол-во присваиваний: 999; кол-во сравнений: 1762\n",
      "Для N=10000 время сотировки: 0.07403016090393066; кол-во присваиваний: 9999; кол-во сравнений: 12028\n",
      "Для N=100000 время сотировки: 0.9839365482330322; кол-во присваиваний: 99999; кол-во сравнений: 10650\n",
      "Для N=1000000 время сотировки: 12.39223027229309; кол-во присваиваний: 999999; кол-во сравнений: 1127206\n",
      "Для N=10000000 время сотировки: 183.3449296951294; кол-во присваиваний: 9999999; кол-во сравнений: 13449314\n"
     ]
    }
   ],
   "source": [
    "random.seed(1234)\n",
    "n = [10, 100, 1000, 10000, 100000, 1000000, 10000000]\n",
    "for i in n:\n",
    "    a = [random.randint(1,i) for j in range(i)]\n",
    "    start_time = time.time()\n",
    "    ar, asg, cnt = quicksort(a, 0, len(a)-1)\n",
    "    end_time = time.time()\n",
    "    elapsed_time = end_time-start_time\n",
    "    print(f\"Для N={i} время сотировки: {elapsed_time}; кол-во присваиваний: {asg}; кол-во сравнений: {cnt}\")"
   ]
  },
  {
   "cell_type": "markdown",
   "id": "d16a6634",
   "metadata": {},
   "source": [
    "### MergeSort"
   ]
  },
  {
   "cell_type": "code",
   "execution_count": 4,
   "id": "85f34103",
   "metadata": {},
   "outputs": [],
   "source": [
    "def merge_sort(arr, left, right):\n",
    "    cmp = 0\n",
    "    asg = 0\n",
    "\n",
    "    if left < right:\n",
    "        mid = (left + right) // 2\n",
    "        merge_sort(arr, left, mid)\n",
    "        merge_sort(arr, mid + 1, right)\n",
    "\n",
    "        left_arr = arr[left:mid+1]\n",
    "        right_arr = arr[mid+1:right+1]\n",
    "\n",
    "        i = j = k = 0\n",
    "        while i < len(left_arr) and j < len(right_arr):\n",
    "            cmp += 1\n",
    "            if left_arr[i] <= right_arr[j]:\n",
    "                arr[left + k] = left_arr[i]\n",
    "                i += 1\n",
    "            else:\n",
    "                arr[left + k] = right_arr[j]\n",
    "                j += 1\n",
    "            asg += 1\n",
    "            k += 1\n",
    "\n",
    "        while i < len(left_arr):\n",
    "            arr[left + k] = left_arr[i]\n",
    "            asg += 1\n",
    "            i += 1\n",
    "            k += 1\n",
    "\n",
    "        while j < len(right_arr):\n",
    "            arr[left + k] = right_arr[j]\n",
    "            asg += 1\n",
    "            j += 1\n",
    "            k += 1\n",
    "    \n",
    "    return arr, cmp, asg"
   ]
  },
  {
   "cell_type": "code",
   "execution_count": 5,
   "id": "9b0200a9",
   "metadata": {},
   "outputs": [
    {
     "name": "stdout",
     "output_type": "stream",
     "text": [
      "Для N=10 время сотировки: 2.175001859664917; кол-во присваиваний: 8; кол-во сравнений: 10\n",
      "Для N=100 время сотировки: 0.000997304916381836; кол-во присваиваний: 96; кол-во сравнений: 100\n",
      "Для N=1000 время сотировки: 0.010000944137573242; кол-во присваиваний: 998; кол-во сравнений: 1000\n",
      "Для N=10000 время сотировки: 0.13399696350097656; кол-во присваиваний: 9999; кол-во сравнений: 10000\n",
      "Для N=100000 время сотировки: 1.6950445175170898; кол-во присваиваний: 99999; кол-во сравнений: 100000\n",
      "Для N=1000000 время сотировки: 20.673994541168213; кол-во присваиваний: 999999; кол-во сравнений: 1000000\n",
      "Для N=10000000 время сотировки: 261.06557750701904; кол-во присваиваний: 9999998; кол-во сравнений: 10000000\n"
     ]
    }
   ],
   "source": [
    "random.seed(1234)\n",
    "n = [10, 100, 1000, 10000, 100000, 1000000, 10000000]\n",
    "for i in n:\n",
    "    a = [random.randint(1,i) for j in range(i)]\n",
    "    start_time = time.time()\n",
    "    ar, asg, cnt = merge_sort(a, 0, len(a)-1)\n",
    "    end_time = time.time()\n",
    "    elapsed_time = end_time-start_time\n",
    "    print(f\"Для N={i} время сотировки: {elapsed_time}; кол-во присваиваний: {asg}; кол-во сравнений: {cnt}\")"
   ]
  }
 ],
 "metadata": {
  "kernelspec": {
   "display_name": "Python 3 (ipykernel)",
   "language": "python",
   "name": "python3"
  },
  "language_info": {
   "codemirror_mode": {
    "name": "ipython",
    "version": 3
   },
   "file_extension": ".py",
   "mimetype": "text/x-python",
   "name": "python",
   "nbconvert_exporter": "python",
   "pygments_lexer": "ipython3",
   "version": "3.9.7"
  }
 },
 "nbformat": 4,
 "nbformat_minor": 5
}

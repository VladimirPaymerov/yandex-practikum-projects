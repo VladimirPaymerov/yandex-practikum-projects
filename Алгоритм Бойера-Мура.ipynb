{
 "cells": [
  {
   "cell_type": "markdown",
   "id": "350bbe20",
   "metadata": {},
   "source": [
    "### Алгоритм SearchFullScan"
   ]
  },
  {
   "cell_type": "code",
   "execution_count": 1,
   "id": "9b0d43b7",
   "metadata": {},
   "outputs": [],
   "source": [
    "text = 'abc@edabcd'\n",
    "mask = 'abcd'\n",
    "\n",
    "\n",
    "def SFS(text, mask):\n",
    "    t = 0\n",
    "    while (t <= len(text)-len(mask)):\n",
    "        m = 0\n",
    "        while (m < len(mask) and text[t+m]==mask[m]):\n",
    "            m+=1\n",
    "        if m == len(mask):\n",
    "            return t\n",
    "        t+=1\n",
    "    return -1"
   ]
  },
  {
   "cell_type": "code",
   "execution_count": 2,
   "id": "58217dec",
   "metadata": {},
   "outputs": [
    {
     "data": {
      "text/plain": [
       "6"
      ]
     },
     "execution_count": 2,
     "metadata": {},
     "output_type": "execute_result"
    }
   ],
   "source": [
    "SFS(text, mask)"
   ]
  },
  {
   "cell_type": "markdown",
   "id": "9d978f4c",
   "metadata": {},
   "source": [
    "### Алгоритм со сдвигом по префиксу"
   ]
  },
  {
   "cell_type": "code",
   "execution_count": 3,
   "id": "377b87c4",
   "metadata": {},
   "outputs": [
    {
     "name": "stdout",
     "output_type": "stream",
     "text": [
      "Pattern found at index 6\n"
     ]
    }
   ],
   "source": [
    "def compute_prefix(mask):\n",
    "    shift = {}\n",
    "    for i in mask:\n",
    "        shift[i] = len(mask)\n",
    "    for m in range(0, len(mask)-1):\n",
    "        shift[mask[m]] = len(mask) - m - 1\n",
    "    return shift\n",
    "\n",
    "def SBH(text, mask):\n",
    "    shift = compute_prefix(mask)\n",
    "    t = 0\n",
    "    while (t <= len(text) - len(mask)):\n",
    "        m = len(mask) - 1\n",
    "        while (m >= 0 and text[m+t] == mask[m]):\n",
    "            m-=1\n",
    "        if m < 0:\n",
    "            return t\n",
    "        try:\n",
    "            t += shift[text[t+len(mask)-1]]\n",
    "        except KeyError:\n",
    "            t += len(mask)\n",
    "    return -1\n",
    "\n",
    "text = \"abc@edabcd\"\n",
    "mask = \"abcd\"\n",
    "\n",
    "result = SBH(text, mask)\n",
    "if result != -1:\n",
    "    print(f\"Pattern found at index {result}\")\n",
    "else:\n",
    "    print(\"Pattern not found in the text\")"
   ]
  }
 ],
 "metadata": {
  "kernelspec": {
   "display_name": "Python 3 (ipykernel)",
   "language": "python",
   "name": "python3"
  },
  "language_info": {
   "codemirror_mode": {
    "name": "ipython",
    "version": 3
   },
   "file_extension": ".py",
   "mimetype": "text/x-python",
   "name": "python",
   "nbconvert_exporter": "python",
   "pygments_lexer": "ipython3",
   "version": "3.9.7"
  }
 },
 "nbformat": 4,
 "nbformat_minor": 5
}

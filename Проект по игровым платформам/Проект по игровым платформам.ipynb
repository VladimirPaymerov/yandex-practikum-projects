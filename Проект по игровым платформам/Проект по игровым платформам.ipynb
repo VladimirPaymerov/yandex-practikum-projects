{
 "cells": [
  {
   "cell_type": "markdown",
   "metadata": {},
   "source": [
    "<h1>Содержание<span class=\"tocSkip\"></span></h1>\n",
    "<div class=\"toc\"><ul class=\"toc-item\"><li><span><a href=\"#План-действий:\" data-toc-modified-id=\"План-действий:-1\"><span class=\"toc-item-num\">1&nbsp;&nbsp;</span>План действий:</a></span></li><li><span><a href=\"#Изучение-данных-из-файла\" data-toc-modified-id=\"Изучение-данных-из-файла-2\"><span class=\"toc-item-num\">2&nbsp;&nbsp;</span>Изучение данных из файла</a></span><ul class=\"toc-item\"><li><span><a href=\"#Вывод\" data-toc-modified-id=\"Вывод-2.1\"><span class=\"toc-item-num\">2.1&nbsp;&nbsp;</span>Вывод</a></span></li></ul></li><li><span><a href=\"#Предобработка-данных\" data-toc-modified-id=\"Предобработка-данных-3\"><span class=\"toc-item-num\">3&nbsp;&nbsp;</span>Предобработка данных</a></span></li><li><span><a href=\"#Исследовательский-анализ-данных\" data-toc-modified-id=\"Исследовательский-анализ-данных-4\"><span class=\"toc-item-num\">4&nbsp;&nbsp;</span>Исследовательский анализ данных</a></span></li><li><span><a href=\"#Портрет-пользователя-каждого-региона\" data-toc-modified-id=\"Портрет-пользователя-каждого-региона-5\"><span class=\"toc-item-num\">5&nbsp;&nbsp;</span>Портрет пользователя каждого региона</a></span></li><li><span><a href=\"#Проверка-гипотез\" data-toc-modified-id=\"Проверка-гипотез-6\"><span class=\"toc-item-num\">6&nbsp;&nbsp;</span>Проверка гипотез</a></span></li><li><span><a href=\"#Общий-вывод\" data-toc-modified-id=\"Общий-вывод-7\"><span class=\"toc-item-num\">7&nbsp;&nbsp;</span>Общий вывод</a></span></li></ul></div>"
   ]
  },
  {
   "cell_type": "markdown",
   "metadata": {},
   "source": [
    "## План действий:\n",
    "1. Ознакомиться с файлом, изучить его\n",
    "2. Подготовить данные и проведение необходимых расчетов\n",
    "3. Провести анализ данных\n",
    "4. Составить портрет пользователя каждого региона\n",
    "5. Проверить гипотезы\n",
    "6. Сделать общий вывод и ответить на поставленные вопросы"
   ]
  },
  {
   "cell_type": "markdown",
   "metadata": {},
   "source": [
    "## Изучение данных из файлов"
   ]
  },
  {
   "cell_type": "code",
   "execution_count": 1,
   "metadata": {},
   "outputs": [
    {
     "name": "stdout",
     "output_type": "stream",
     "text": [
      "<class 'pandas.core.frame.DataFrame'>\n",
      "RangeIndex: 16715 entries, 0 to 16714\n",
      "Data columns (total 11 columns):\n",
      "Name               16713 non-null object\n",
      "Platform           16715 non-null object\n",
      "Year_of_Release    16446 non-null float64\n",
      "Genre              16713 non-null object\n",
      "NA_sales           16715 non-null float64\n",
      "EU_sales           16715 non-null float64\n",
      "JP_sales           16715 non-null float64\n",
      "Other_sales        16715 non-null float64\n",
      "Critic_Score       8137 non-null float64\n",
      "User_Score         10014 non-null object\n",
      "Rating             9949 non-null object\n",
      "dtypes: float64(6), object(5)\n",
      "memory usage: 1.4+ MB\n",
      "(16715, 11)\n",
      "                       Name Platform  Year_of_Release         Genre  NA_sales  \\\n",
      "0                Wii Sports      Wii           2006.0        Sports     41.36   \n",
      "1         Super Mario Bros.      NES           1985.0      Platform     29.08   \n",
      "2            Mario Kart Wii      Wii           2008.0        Racing     15.68   \n",
      "3         Wii Sports Resort      Wii           2009.0        Sports     15.61   \n",
      "4  Pokemon Red/Pokemon Blue       GB           1996.0  Role-Playing     11.27   \n",
      "\n",
      "   EU_sales  JP_sales  Other_sales  Critic_Score User_Score Rating  \n",
      "0     28.96      3.77         8.45          76.0          8      E  \n",
      "1      3.58      6.81         0.77           NaN        NaN    NaN  \n",
      "2     12.76      3.79         3.29          82.0        8.3      E  \n",
      "3     10.93      3.28         2.95          80.0          8      E  \n",
      "4      8.89     10.22         1.00           NaN        NaN    NaN  \n"
     ]
    }
   ],
   "source": [
    "import pandas as pd\n",
    "import numpy as np\n",
    "import seaborn as sns\n",
    "from scipy.stats import norm \n",
    "import matplotlib.pyplot as plt\n",
    "from scipy import stats as st\n",
    "\n",
    "\n",
    "#общая информация о данных\n",
    "df.info()\n",
    "# размер данных\n",
    "print(df.shape)\n",
    "print(df.head())"
   ]
  },
  {
   "cell_type": "markdown",
   "metadata": {},
   "source": [
    "Таблица представляет собой сведения об играх, всего в таблице 16715 строк и 11 столбцов.\n",
    "\n",
    "Присутствуют пропущенные значения в некоторых столбцах, возможно есть дубликаты. Также необходимо заменить названия столбцов на удобные (приведем все буквы к нижнему регистру). Заменим тип данных в столбцах year_of_release, critic_score, user_score.\n"
   ]
  },
  {
   "cell_type": "code",
   "execution_count": 2,
   "metadata": {},
   "outputs": [
    {
     "data": {
      "text/html": [
       "<div>\n",
       "<style scoped>\n",
       "    .dataframe tbody tr th:only-of-type {\n",
       "        vertical-align: middle;\n",
       "    }\n",
       "\n",
       "    .dataframe tbody tr th {\n",
       "        vertical-align: top;\n",
       "    }\n",
       "\n",
       "    .dataframe thead th {\n",
       "        text-align: right;\n",
       "    }\n",
       "</style>\n",
       "<table border=\"1\" class=\"dataframe\">\n",
       "  <thead>\n",
       "    <tr style=\"text-align: right;\">\n",
       "      <th></th>\n",
       "      <th>Year_of_Release</th>\n",
       "      <th>NA_sales</th>\n",
       "      <th>EU_sales</th>\n",
       "      <th>JP_sales</th>\n",
       "      <th>Other_sales</th>\n",
       "      <th>Critic_Score</th>\n",
       "    </tr>\n",
       "  </thead>\n",
       "  <tbody>\n",
       "    <tr>\n",
       "      <td>count</td>\n",
       "      <td>16446.000000</td>\n",
       "      <td>16715.000000</td>\n",
       "      <td>16715.000000</td>\n",
       "      <td>16715.000000</td>\n",
       "      <td>16715.000000</td>\n",
       "      <td>8137.000000</td>\n",
       "    </tr>\n",
       "    <tr>\n",
       "      <td>mean</td>\n",
       "      <td>2006.484616</td>\n",
       "      <td>0.263377</td>\n",
       "      <td>0.145060</td>\n",
       "      <td>0.077617</td>\n",
       "      <td>0.047342</td>\n",
       "      <td>68.967679</td>\n",
       "    </tr>\n",
       "    <tr>\n",
       "      <td>std</td>\n",
       "      <td>5.877050</td>\n",
       "      <td>0.813604</td>\n",
       "      <td>0.503339</td>\n",
       "      <td>0.308853</td>\n",
       "      <td>0.186731</td>\n",
       "      <td>13.938165</td>\n",
       "    </tr>\n",
       "    <tr>\n",
       "      <td>min</td>\n",
       "      <td>1980.000000</td>\n",
       "      <td>0.000000</td>\n",
       "      <td>0.000000</td>\n",
       "      <td>0.000000</td>\n",
       "      <td>0.000000</td>\n",
       "      <td>13.000000</td>\n",
       "    </tr>\n",
       "    <tr>\n",
       "      <td>25%</td>\n",
       "      <td>2003.000000</td>\n",
       "      <td>0.000000</td>\n",
       "      <td>0.000000</td>\n",
       "      <td>0.000000</td>\n",
       "      <td>0.000000</td>\n",
       "      <td>60.000000</td>\n",
       "    </tr>\n",
       "    <tr>\n",
       "      <td>50%</td>\n",
       "      <td>2007.000000</td>\n",
       "      <td>0.080000</td>\n",
       "      <td>0.020000</td>\n",
       "      <td>0.000000</td>\n",
       "      <td>0.010000</td>\n",
       "      <td>71.000000</td>\n",
       "    </tr>\n",
       "    <tr>\n",
       "      <td>75%</td>\n",
       "      <td>2010.000000</td>\n",
       "      <td>0.240000</td>\n",
       "      <td>0.110000</td>\n",
       "      <td>0.040000</td>\n",
       "      <td>0.030000</td>\n",
       "      <td>79.000000</td>\n",
       "    </tr>\n",
       "    <tr>\n",
       "      <td>max</td>\n",
       "      <td>2016.000000</td>\n",
       "      <td>41.360000</td>\n",
       "      <td>28.960000</td>\n",
       "      <td>10.220000</td>\n",
       "      <td>10.570000</td>\n",
       "      <td>98.000000</td>\n",
       "    </tr>\n",
       "  </tbody>\n",
       "</table>\n",
       "</div>"
      ],
      "text/plain": [
       "       Year_of_Release      NA_sales      EU_sales      JP_sales  \\\n",
       "count     16446.000000  16715.000000  16715.000000  16715.000000   \n",
       "mean       2006.484616      0.263377      0.145060      0.077617   \n",
       "std           5.877050      0.813604      0.503339      0.308853   \n",
       "min        1980.000000      0.000000      0.000000      0.000000   \n",
       "25%        2003.000000      0.000000      0.000000      0.000000   \n",
       "50%        2007.000000      0.080000      0.020000      0.000000   \n",
       "75%        2010.000000      0.240000      0.110000      0.040000   \n",
       "max        2016.000000     41.360000     28.960000     10.220000   \n",
       "\n",
       "        Other_sales  Critic_Score  \n",
       "count  16715.000000   8137.000000  \n",
       "mean       0.047342     68.967679  \n",
       "std        0.186731     13.938165  \n",
       "min        0.000000     13.000000  \n",
       "25%        0.000000     60.000000  \n",
       "50%        0.010000     71.000000  \n",
       "75%        0.030000     79.000000  \n",
       "max       10.570000     98.000000  "
      ]
     },
     "execution_count": 2,
     "metadata": {},
     "output_type": "execute_result"
    }
   ],
   "source": [
    "# Выведем основные характеристики таблицы\n",
    "df.describe()"
   ]
  },
  {
   "cell_type": "markdown",
   "metadata": {},
   "source": [
    "По данным характеристикам, больше всего продавалось копий в Северной Америке, затем в Европе, и потом в Японии. Средняя оценка за все игры 69 баллов."
   ]
  },
  {
   "cell_type": "markdown",
   "metadata": {},
   "source": [
    "### Вывод\n",
    "Таблицы возможно имеют дубликаты, нужно будет это проверить. Также нужно привести данные к стандартному виду (заменить их тип). И нужно решить на что заменить пропущенные значения в столбцах. "
   ]
  },
  {
   "cell_type": "markdown",
   "metadata": {},
   "source": [
    "## Предобработка данных"
   ]
  },
  {
   "cell_type": "markdown",
   "metadata": {},
   "source": [
    "Найдем количество дубликатов таблице."
   ]
  },
  {
   "cell_type": "code",
   "execution_count": 3,
   "metadata": {},
   "outputs": [
    {
     "name": "stdout",
     "output_type": "stream",
     "text": [
      "0\n"
     ]
    }
   ],
   "source": [
    "print(df.duplicated().sum())"
   ]
  },
  {
   "cell_type": "markdown",
   "metadata": {},
   "source": [
    "Как видим, дубликатов в таблице нет. Поработаем с названием столбцов в таблице, приведем все буквы в них к нижнему регистру."
   ]
  },
  {
   "cell_type": "code",
   "execution_count": 4,
   "metadata": {},
   "outputs": [
    {
     "name": "stdout",
     "output_type": "stream",
     "text": [
      "                       name platform  year_of_release         genre  na_sales  \\\n",
      "0                Wii Sports      Wii           2006.0        Sports     41.36   \n",
      "1         Super Mario Bros.      NES           1985.0      Platform     29.08   \n",
      "2            Mario Kart Wii      Wii           2008.0        Racing     15.68   \n",
      "3         Wii Sports Resort      Wii           2009.0        Sports     15.61   \n",
      "4  Pokemon Red/Pokemon Blue       GB           1996.0  Role-Playing     11.27   \n",
      "\n",
      "   eu_sales  jp_sales  other_sales  critic_score user_score rating  \n",
      "0     28.96      3.77         8.45          76.0          8      E  \n",
      "1      3.58      6.81         0.77           NaN        NaN    NaN  \n",
      "2     12.76      3.79         3.29          82.0        8.3      E  \n",
      "3     10.93      3.28         2.95          80.0          8      E  \n",
      "4      8.89     10.22         1.00           NaN        NaN    NaN  \n"
     ]
    }
   ],
   "source": [
    "df.columns = df.columns.str.lower()\n",
    "print(df.head())"
   ]
  },
  {
   "cell_type": "markdown",
   "metadata": {},
   "source": [
    "Таким образом, привел названия столбцов к удобному для работы виду. Разберемся с пропущенными значениями в столбцах name, year_of_release, genre, critic_score, user_score, rating. "
   ]
  },
  {
   "cell_type": "code",
   "execution_count": 5,
   "metadata": {},
   "outputs": [
    {
     "data": {
      "text/html": [
       "<div>\n",
       "<style scoped>\n",
       "    .dataframe tbody tr th:only-of-type {\n",
       "        vertical-align: middle;\n",
       "    }\n",
       "\n",
       "    .dataframe tbody tr th {\n",
       "        vertical-align: top;\n",
       "    }\n",
       "\n",
       "    .dataframe thead th {\n",
       "        text-align: right;\n",
       "    }\n",
       "</style>\n",
       "<table border=\"1\" class=\"dataframe\">\n",
       "  <thead>\n",
       "    <tr style=\"text-align: right;\">\n",
       "      <th></th>\n",
       "      <th>name</th>\n",
       "      <th>platform</th>\n",
       "      <th>year_of_release</th>\n",
       "      <th>genre</th>\n",
       "      <th>na_sales</th>\n",
       "      <th>eu_sales</th>\n",
       "      <th>jp_sales</th>\n",
       "      <th>other_sales</th>\n",
       "      <th>critic_score</th>\n",
       "      <th>user_score</th>\n",
       "      <th>rating</th>\n",
       "    </tr>\n",
       "  </thead>\n",
       "  <tbody>\n",
       "    <tr>\n",
       "      <td>475</td>\n",
       "      <td>wwe Smackdown vs. Raw 2006</td>\n",
       "      <td>PS2</td>\n",
       "      <td>NaN</td>\n",
       "      <td>Fighting</td>\n",
       "      <td>1.57</td>\n",
       "      <td>1.02</td>\n",
       "      <td>0.00</td>\n",
       "      <td>0.41</td>\n",
       "      <td>NaN</td>\n",
       "      <td>NaN</td>\n",
       "      <td>NaN</td>\n",
       "    </tr>\n",
       "    <tr>\n",
       "      <td>609</td>\n",
       "      <td>Space Invaders</td>\n",
       "      <td>2600</td>\n",
       "      <td>NaN</td>\n",
       "      <td>Shooter</td>\n",
       "      <td>2.36</td>\n",
       "      <td>0.14</td>\n",
       "      <td>0.00</td>\n",
       "      <td>0.03</td>\n",
       "      <td>NaN</td>\n",
       "      <td>NaN</td>\n",
       "      <td>NaN</td>\n",
       "    </tr>\n",
       "    <tr>\n",
       "      <td>1301</td>\n",
       "      <td>Triple Play 99</td>\n",
       "      <td>PS</td>\n",
       "      <td>NaN</td>\n",
       "      <td>Sports</td>\n",
       "      <td>0.81</td>\n",
       "      <td>0.55</td>\n",
       "      <td>0.00</td>\n",
       "      <td>0.10</td>\n",
       "      <td>NaN</td>\n",
       "      <td>NaN</td>\n",
       "      <td>NaN</td>\n",
       "    </tr>\n",
       "    <tr>\n",
       "      <td>1506</td>\n",
       "      <td>Adventure</td>\n",
       "      <td>2600</td>\n",
       "      <td>NaN</td>\n",
       "      <td>Adventure</td>\n",
       "      <td>1.21</td>\n",
       "      <td>0.08</td>\n",
       "      <td>0.00</td>\n",
       "      <td>0.01</td>\n",
       "      <td>NaN</td>\n",
       "      <td>NaN</td>\n",
       "      <td>NaN</td>\n",
       "    </tr>\n",
       "    <tr>\n",
       "      <td>1585</td>\n",
       "      <td>Combat</td>\n",
       "      <td>2600</td>\n",
       "      <td>NaN</td>\n",
       "      <td>Action</td>\n",
       "      <td>1.17</td>\n",
       "      <td>0.07</td>\n",
       "      <td>0.00</td>\n",
       "      <td>0.01</td>\n",
       "      <td>NaN</td>\n",
       "      <td>NaN</td>\n",
       "      <td>NaN</td>\n",
       "    </tr>\n",
       "    <tr>\n",
       "      <td>...</td>\n",
       "      <td>...</td>\n",
       "      <td>...</td>\n",
       "      <td>...</td>\n",
       "      <td>...</td>\n",
       "      <td>...</td>\n",
       "      <td>...</td>\n",
       "      <td>...</td>\n",
       "      <td>...</td>\n",
       "      <td>...</td>\n",
       "      <td>...</td>\n",
       "      <td>...</td>\n",
       "    </tr>\n",
       "    <tr>\n",
       "      <td>16288</td>\n",
       "      <td>Shorts</td>\n",
       "      <td>DS</td>\n",
       "      <td>NaN</td>\n",
       "      <td>Platform</td>\n",
       "      <td>0.01</td>\n",
       "      <td>0.00</td>\n",
       "      <td>0.00</td>\n",
       "      <td>0.00</td>\n",
       "      <td>NaN</td>\n",
       "      <td>tbd</td>\n",
       "      <td>E10+</td>\n",
       "    </tr>\n",
       "    <tr>\n",
       "      <td>16293</td>\n",
       "      <td>AKB1/48: Idol to Guam de Koishitara...</td>\n",
       "      <td>X360</td>\n",
       "      <td>NaN</td>\n",
       "      <td>Misc</td>\n",
       "      <td>0.00</td>\n",
       "      <td>0.00</td>\n",
       "      <td>0.01</td>\n",
       "      <td>0.00</td>\n",
       "      <td>NaN</td>\n",
       "      <td>NaN</td>\n",
       "      <td>NaN</td>\n",
       "    </tr>\n",
       "    <tr>\n",
       "      <td>16329</td>\n",
       "      <td>Brothers in Arms: Furious 4</td>\n",
       "      <td>X360</td>\n",
       "      <td>NaN</td>\n",
       "      <td>Shooter</td>\n",
       "      <td>0.01</td>\n",
       "      <td>0.00</td>\n",
       "      <td>0.00</td>\n",
       "      <td>0.00</td>\n",
       "      <td>NaN</td>\n",
       "      <td>NaN</td>\n",
       "      <td>M</td>\n",
       "    </tr>\n",
       "    <tr>\n",
       "      <td>16348</td>\n",
       "      <td>Agarest Senki: Re-appearance</td>\n",
       "      <td>PS3</td>\n",
       "      <td>NaN</td>\n",
       "      <td>Role-Playing</td>\n",
       "      <td>0.00</td>\n",
       "      <td>0.00</td>\n",
       "      <td>0.01</td>\n",
       "      <td>0.00</td>\n",
       "      <td>NaN</td>\n",
       "      <td>NaN</td>\n",
       "      <td>NaN</td>\n",
       "    </tr>\n",
       "    <tr>\n",
       "      <td>16458</td>\n",
       "      <td>Hakuouki: Shinsengumi Kitan</td>\n",
       "      <td>PS3</td>\n",
       "      <td>NaN</td>\n",
       "      <td>Adventure</td>\n",
       "      <td>0.01</td>\n",
       "      <td>0.00</td>\n",
       "      <td>0.00</td>\n",
       "      <td>0.00</td>\n",
       "      <td>NaN</td>\n",
       "      <td>NaN</td>\n",
       "      <td>NaN</td>\n",
       "    </tr>\n",
       "  </tbody>\n",
       "</table>\n",
       "<p>115 rows × 11 columns</p>\n",
       "</div>"
      ],
      "text/plain": [
       "                                         name platform  year_of_release  \\\n",
       "475                wwe Smackdown vs. Raw 2006      PS2              NaN   \n",
       "609                            Space Invaders     2600              NaN   \n",
       "1301                           Triple Play 99       PS              NaN   \n",
       "1506                                Adventure     2600              NaN   \n",
       "1585                                   Combat     2600              NaN   \n",
       "...                                       ...      ...              ...   \n",
       "16288                                  Shorts       DS              NaN   \n",
       "16293  AKB1/48: Idol to Guam de Koishitara...     X360              NaN   \n",
       "16329             Brothers in Arms: Furious 4     X360              NaN   \n",
       "16348            Agarest Senki: Re-appearance      PS3              NaN   \n",
       "16458             Hakuouki: Shinsengumi Kitan      PS3              NaN   \n",
       "\n",
       "              genre  na_sales  eu_sales  jp_sales  other_sales  critic_score  \\\n",
       "475        Fighting      1.57      1.02      0.00         0.41           NaN   \n",
       "609         Shooter      2.36      0.14      0.00         0.03           NaN   \n",
       "1301         Sports      0.81      0.55      0.00         0.10           NaN   \n",
       "1506      Adventure      1.21      0.08      0.00         0.01           NaN   \n",
       "1585         Action      1.17      0.07      0.00         0.01           NaN   \n",
       "...             ...       ...       ...       ...          ...           ...   \n",
       "16288      Platform      0.01      0.00      0.00         0.00           NaN   \n",
       "16293          Misc      0.00      0.00      0.01         0.00           NaN   \n",
       "16329       Shooter      0.01      0.00      0.00         0.00           NaN   \n",
       "16348  Role-Playing      0.00      0.00      0.01         0.00           NaN   \n",
       "16458     Adventure      0.01      0.00      0.00         0.00           NaN   \n",
       "\n",
       "      user_score rating  \n",
       "475          NaN    NaN  \n",
       "609          NaN    NaN  \n",
       "1301         NaN    NaN  \n",
       "1506         NaN    NaN  \n",
       "1585         NaN    NaN  \n",
       "...          ...    ...  \n",
       "16288        tbd   E10+  \n",
       "16293        NaN    NaN  \n",
       "16329        NaN      M  \n",
       "16348        NaN    NaN  \n",
       "16458        NaN    NaN  \n",
       "\n",
       "[115 rows x 11 columns]"
      ]
     },
     "execution_count": 5,
     "metadata": {},
     "output_type": "execute_result"
    }
   ],
   "source": [
    "df[df['year_of_release'].isnull() & df['critic_score'].isnull()]"
   ]
  },
  {
   "cell_type": "markdown",
   "metadata": {},
   "source": [
    "Как можно заметить у данных игр нет года выхода и нет оценки от критиков или пользователей. Также можно заметить, что данные игры почти не покупали, полученные результы могут означать предзаказы игр, но так как оценки пользователей или критиков нет, также не был поставлен рейтинг, скорее всего данные игры так и не были выпущены. Поэтому можно удалить эти данные, так как они не повлияют на дальнейший результат, наоборот они могут исказить данные."
   ]
  },
  {
   "cell_type": "code",
   "execution_count": 7,
   "metadata": {},
   "outputs": [],
   "source": [
    "# Удаляем пустые значения для игр, которые не были выпущены\n",
    "df.drop(df[df['year_of_release'].isnull() & df['critic_score'].isnull()].index, inplace = True)"
   ]
  },
  {
   "cell_type": "code",
   "execution_count": 8,
   "metadata": {},
   "outputs": [
    {
     "data": {
      "text/html": [
       "<div>\n",
       "<style scoped>\n",
       "    .dataframe tbody tr th:only-of-type {\n",
       "        vertical-align: middle;\n",
       "    }\n",
       "\n",
       "    .dataframe tbody tr th {\n",
       "        vertical-align: top;\n",
       "    }\n",
       "\n",
       "    .dataframe thead th {\n",
       "        text-align: right;\n",
       "    }\n",
       "</style>\n",
       "<table border=\"1\" class=\"dataframe\">\n",
       "  <thead>\n",
       "    <tr style=\"text-align: right;\">\n",
       "      <th></th>\n",
       "      <th>name</th>\n",
       "      <th>platform</th>\n",
       "      <th>year_of_release</th>\n",
       "      <th>genre</th>\n",
       "      <th>na_sales</th>\n",
       "      <th>eu_sales</th>\n",
       "      <th>jp_sales</th>\n",
       "      <th>other_sales</th>\n",
       "      <th>critic_score</th>\n",
       "      <th>user_score</th>\n",
       "      <th>rating</th>\n",
       "    </tr>\n",
       "  </thead>\n",
       "  <tbody>\n",
       "    <tr>\n",
       "      <td>183</td>\n",
       "      <td>Madden NFL 2004</td>\n",
       "      <td>PS2</td>\n",
       "      <td>NaN</td>\n",
       "      <td>Sports</td>\n",
       "      <td>4.26</td>\n",
       "      <td>0.26</td>\n",
       "      <td>0.01</td>\n",
       "      <td>0.71</td>\n",
       "      <td>94.0</td>\n",
       "      <td>8.5</td>\n",
       "      <td>E</td>\n",
       "    </tr>\n",
       "    <tr>\n",
       "      <td>377</td>\n",
       "      <td>FIFA Soccer 2004</td>\n",
       "      <td>PS2</td>\n",
       "      <td>NaN</td>\n",
       "      <td>Sports</td>\n",
       "      <td>0.59</td>\n",
       "      <td>2.36</td>\n",
       "      <td>0.04</td>\n",
       "      <td>0.51</td>\n",
       "      <td>84.0</td>\n",
       "      <td>6.4</td>\n",
       "      <td>E</td>\n",
       "    </tr>\n",
       "    <tr>\n",
       "      <td>456</td>\n",
       "      <td>LEGO Batman: The Videogame</td>\n",
       "      <td>Wii</td>\n",
       "      <td>NaN</td>\n",
       "      <td>Action</td>\n",
       "      <td>1.80</td>\n",
       "      <td>0.97</td>\n",
       "      <td>0.00</td>\n",
       "      <td>0.29</td>\n",
       "      <td>74.0</td>\n",
       "      <td>7.9</td>\n",
       "      <td>E10+</td>\n",
       "    </tr>\n",
       "    <tr>\n",
       "      <td>627</td>\n",
       "      <td>Rock Band</td>\n",
       "      <td>X360</td>\n",
       "      <td>NaN</td>\n",
       "      <td>Misc</td>\n",
       "      <td>1.93</td>\n",
       "      <td>0.33</td>\n",
       "      <td>0.00</td>\n",
       "      <td>0.21</td>\n",
       "      <td>92.0</td>\n",
       "      <td>8.2</td>\n",
       "      <td>T</td>\n",
       "    </tr>\n",
       "    <tr>\n",
       "      <td>657</td>\n",
       "      <td>Frogger's Adventures: Temple of the Frog</td>\n",
       "      <td>GBA</td>\n",
       "      <td>NaN</td>\n",
       "      <td>Adventure</td>\n",
       "      <td>2.15</td>\n",
       "      <td>0.18</td>\n",
       "      <td>0.00</td>\n",
       "      <td>0.07</td>\n",
       "      <td>73.0</td>\n",
       "      <td>tbd</td>\n",
       "      <td>E</td>\n",
       "    </tr>\n",
       "    <tr>\n",
       "      <td>...</td>\n",
       "      <td>...</td>\n",
       "      <td>...</td>\n",
       "      <td>...</td>\n",
       "      <td>...</td>\n",
       "      <td>...</td>\n",
       "      <td>...</td>\n",
       "      <td>...</td>\n",
       "      <td>...</td>\n",
       "      <td>...</td>\n",
       "      <td>...</td>\n",
       "      <td>...</td>\n",
       "    </tr>\n",
       "    <tr>\n",
       "      <td>16277</td>\n",
       "      <td>Homeworld Remastered Collection</td>\n",
       "      <td>PC</td>\n",
       "      <td>NaN</td>\n",
       "      <td>Strategy</td>\n",
       "      <td>0.00</td>\n",
       "      <td>0.01</td>\n",
       "      <td>0.00</td>\n",
       "      <td>0.00</td>\n",
       "      <td>86.0</td>\n",
       "      <td>8.2</td>\n",
       "      <td>E10+</td>\n",
       "    </tr>\n",
       "    <tr>\n",
       "      <td>16373</td>\n",
       "      <td>PDC World Championship Darts 2008</td>\n",
       "      <td>PSP</td>\n",
       "      <td>NaN</td>\n",
       "      <td>Sports</td>\n",
       "      <td>0.01</td>\n",
       "      <td>0.00</td>\n",
       "      <td>0.00</td>\n",
       "      <td>0.00</td>\n",
       "      <td>43.0</td>\n",
       "      <td>tbd</td>\n",
       "      <td>E10+</td>\n",
       "    </tr>\n",
       "    <tr>\n",
       "      <td>16405</td>\n",
       "      <td>Freaky Flyers</td>\n",
       "      <td>GC</td>\n",
       "      <td>NaN</td>\n",
       "      <td>Racing</td>\n",
       "      <td>0.01</td>\n",
       "      <td>0.00</td>\n",
       "      <td>0.00</td>\n",
       "      <td>0.00</td>\n",
       "      <td>69.0</td>\n",
       "      <td>6.5</td>\n",
       "      <td>T</td>\n",
       "    </tr>\n",
       "    <tr>\n",
       "      <td>16448</td>\n",
       "      <td>Inversion</td>\n",
       "      <td>PC</td>\n",
       "      <td>NaN</td>\n",
       "      <td>Shooter</td>\n",
       "      <td>0.01</td>\n",
       "      <td>0.00</td>\n",
       "      <td>0.00</td>\n",
       "      <td>0.00</td>\n",
       "      <td>59.0</td>\n",
       "      <td>6.7</td>\n",
       "      <td>M</td>\n",
       "    </tr>\n",
       "    <tr>\n",
       "      <td>16522</td>\n",
       "      <td>Virtua Quest</td>\n",
       "      <td>GC</td>\n",
       "      <td>NaN</td>\n",
       "      <td>Role-Playing</td>\n",
       "      <td>0.01</td>\n",
       "      <td>0.00</td>\n",
       "      <td>0.00</td>\n",
       "      <td>0.00</td>\n",
       "      <td>55.0</td>\n",
       "      <td>5.5</td>\n",
       "      <td>T</td>\n",
       "    </tr>\n",
       "  </tbody>\n",
       "</table>\n",
       "<p>154 rows × 11 columns</p>\n",
       "</div>"
      ],
      "text/plain": [
       "                                           name platform  year_of_release  \\\n",
       "183                             Madden NFL 2004      PS2              NaN   \n",
       "377                            FIFA Soccer 2004      PS2              NaN   \n",
       "456                  LEGO Batman: The Videogame      Wii              NaN   \n",
       "627                                   Rock Band     X360              NaN   \n",
       "657    Frogger's Adventures: Temple of the Frog      GBA              NaN   \n",
       "...                                         ...      ...              ...   \n",
       "16277           Homeworld Remastered Collection       PC              NaN   \n",
       "16373         PDC World Championship Darts 2008      PSP              NaN   \n",
       "16405                             Freaky Flyers       GC              NaN   \n",
       "16448                                 Inversion       PC              NaN   \n",
       "16522                              Virtua Quest       GC              NaN   \n",
       "\n",
       "              genre  na_sales  eu_sales  jp_sales  other_sales  critic_score  \\\n",
       "183          Sports      4.26      0.26      0.01         0.71          94.0   \n",
       "377          Sports      0.59      2.36      0.04         0.51          84.0   \n",
       "456          Action      1.80      0.97      0.00         0.29          74.0   \n",
       "627            Misc      1.93      0.33      0.00         0.21          92.0   \n",
       "657       Adventure      2.15      0.18      0.00         0.07          73.0   \n",
       "...             ...       ...       ...       ...          ...           ...   \n",
       "16277      Strategy      0.00      0.01      0.00         0.00          86.0   \n",
       "16373        Sports      0.01      0.00      0.00         0.00          43.0   \n",
       "16405        Racing      0.01      0.00      0.00         0.00          69.0   \n",
       "16448       Shooter      0.01      0.00      0.00         0.00          59.0   \n",
       "16522  Role-Playing      0.01      0.00      0.00         0.00          55.0   \n",
       "\n",
       "      user_score rating  \n",
       "183          8.5      E  \n",
       "377          6.4      E  \n",
       "456          7.9   E10+  \n",
       "627          8.2      T  \n",
       "657          tbd      E  \n",
       "...          ...    ...  \n",
       "16277        8.2   E10+  \n",
       "16373        tbd   E10+  \n",
       "16405        6.5      T  \n",
       "16448        6.7      M  \n",
       "16522        5.5      T  \n",
       "\n",
       "[154 rows x 11 columns]"
      ]
     },
     "execution_count": 8,
     "metadata": {},
     "output_type": "execute_result"
    }
   ],
   "source": [
    "df[df['year_of_release'].isnull()]"
   ]
  },
  {
   "cell_type": "markdown",
   "metadata": {},
   "source": [
    "Отсавим эти значения пропущенными, так как неизвестно в какой именно год были выпущены эти игры. Удалим пропущенные значения в столбце critic_score, но с учетом того, что продаж у данных игр почти не было, это также скорее всего значит, что данные игры не были выпущены, поэтому не могли быть оценены критиками или пользователями."
   ]
  },
  {
   "cell_type": "code",
   "execution_count": 9,
   "metadata": {},
   "outputs": [
    {
     "data": {
      "text/html": [
       "<div>\n",
       "<style scoped>\n",
       "    .dataframe tbody tr th:only-of-type {\n",
       "        vertical-align: middle;\n",
       "    }\n",
       "\n",
       "    .dataframe tbody tr th {\n",
       "        vertical-align: top;\n",
       "    }\n",
       "\n",
       "    .dataframe thead th {\n",
       "        text-align: right;\n",
       "    }\n",
       "</style>\n",
       "<table border=\"1\" class=\"dataframe\">\n",
       "  <thead>\n",
       "    <tr style=\"text-align: right;\">\n",
       "      <th></th>\n",
       "      <th>name</th>\n",
       "      <th>platform</th>\n",
       "      <th>year_of_release</th>\n",
       "      <th>genre</th>\n",
       "      <th>na_sales</th>\n",
       "      <th>eu_sales</th>\n",
       "      <th>jp_sales</th>\n",
       "      <th>other_sales</th>\n",
       "      <th>critic_score</th>\n",
       "      <th>user_score</th>\n",
       "      <th>rating</th>\n",
       "    </tr>\n",
       "  </thead>\n",
       "  <tbody>\n",
       "    <tr>\n",
       "      <td>2472</td>\n",
       "      <td>Ben 10: Protector of Earth</td>\n",
       "      <td>PS2</td>\n",
       "      <td>2007.0</td>\n",
       "      <td>Action</td>\n",
       "      <td>0.09</td>\n",
       "      <td>0.00</td>\n",
       "      <td>0.00</td>\n",
       "      <td>0.74</td>\n",
       "      <td>NaN</td>\n",
       "      <td>7.6</td>\n",
       "      <td>E10+</td>\n",
       "    </tr>\n",
       "    <tr>\n",
       "      <td>3115</td>\n",
       "      <td>SingStar R&amp;B</td>\n",
       "      <td>PS2</td>\n",
       "      <td>2007.0</td>\n",
       "      <td>Misc</td>\n",
       "      <td>0.00</td>\n",
       "      <td>0.05</td>\n",
       "      <td>0.00</td>\n",
       "      <td>0.60</td>\n",
       "      <td>NaN</td>\n",
       "      <td>NaN</td>\n",
       "      <td>NaN</td>\n",
       "    </tr>\n",
       "    <tr>\n",
       "      <td>3275</td>\n",
       "      <td>SingStar Singalong With Disney</td>\n",
       "      <td>PS2</td>\n",
       "      <td>2008.0</td>\n",
       "      <td>Misc</td>\n",
       "      <td>0.00</td>\n",
       "      <td>0.04</td>\n",
       "      <td>0.00</td>\n",
       "      <td>0.57</td>\n",
       "      <td>NaN</td>\n",
       "      <td>NaN</td>\n",
       "      <td>NaN</td>\n",
       "    </tr>\n",
       "    <tr>\n",
       "      <td>3681</td>\n",
       "      <td>SingStar Summer Party</td>\n",
       "      <td>PS2</td>\n",
       "      <td>2008.0</td>\n",
       "      <td>Misc</td>\n",
       "      <td>0.00</td>\n",
       "      <td>0.06</td>\n",
       "      <td>0.00</td>\n",
       "      <td>0.48</td>\n",
       "      <td>NaN</td>\n",
       "      <td>NaN</td>\n",
       "      <td>NaN</td>\n",
       "    </tr>\n",
       "    <tr>\n",
       "      <td>4343</td>\n",
       "      <td>SingStar Take That</td>\n",
       "      <td>PS2</td>\n",
       "      <td>2009.0</td>\n",
       "      <td>Misc</td>\n",
       "      <td>0.00</td>\n",
       "      <td>0.06</td>\n",
       "      <td>0.00</td>\n",
       "      <td>0.39</td>\n",
       "      <td>NaN</td>\n",
       "      <td>NaN</td>\n",
       "      <td>NaN</td>\n",
       "    </tr>\n",
       "    <tr>\n",
       "      <td>...</td>\n",
       "      <td>...</td>\n",
       "      <td>...</td>\n",
       "      <td>...</td>\n",
       "      <td>...</td>\n",
       "      <td>...</td>\n",
       "      <td>...</td>\n",
       "      <td>...</td>\n",
       "      <td>...</td>\n",
       "      <td>...</td>\n",
       "      <td>...</td>\n",
       "      <td>...</td>\n",
       "    </tr>\n",
       "    <tr>\n",
       "      <td>16710</td>\n",
       "      <td>Samurai Warriors: Sanada Maru</td>\n",
       "      <td>PS3</td>\n",
       "      <td>2016.0</td>\n",
       "      <td>Action</td>\n",
       "      <td>0.00</td>\n",
       "      <td>0.00</td>\n",
       "      <td>0.01</td>\n",
       "      <td>0.00</td>\n",
       "      <td>NaN</td>\n",
       "      <td>NaN</td>\n",
       "      <td>NaN</td>\n",
       "    </tr>\n",
       "    <tr>\n",
       "      <td>16711</td>\n",
       "      <td>LMA Manager 2007</td>\n",
       "      <td>X360</td>\n",
       "      <td>2006.0</td>\n",
       "      <td>Sports</td>\n",
       "      <td>0.00</td>\n",
       "      <td>0.01</td>\n",
       "      <td>0.00</td>\n",
       "      <td>0.00</td>\n",
       "      <td>NaN</td>\n",
       "      <td>NaN</td>\n",
       "      <td>NaN</td>\n",
       "    </tr>\n",
       "    <tr>\n",
       "      <td>16712</td>\n",
       "      <td>Haitaka no Psychedelica</td>\n",
       "      <td>PSV</td>\n",
       "      <td>2016.0</td>\n",
       "      <td>Adventure</td>\n",
       "      <td>0.00</td>\n",
       "      <td>0.00</td>\n",
       "      <td>0.01</td>\n",
       "      <td>0.00</td>\n",
       "      <td>NaN</td>\n",
       "      <td>NaN</td>\n",
       "      <td>NaN</td>\n",
       "    </tr>\n",
       "    <tr>\n",
       "      <td>16713</td>\n",
       "      <td>Spirits &amp; Spells</td>\n",
       "      <td>GBA</td>\n",
       "      <td>2003.0</td>\n",
       "      <td>Platform</td>\n",
       "      <td>0.01</td>\n",
       "      <td>0.00</td>\n",
       "      <td>0.00</td>\n",
       "      <td>0.00</td>\n",
       "      <td>NaN</td>\n",
       "      <td>NaN</td>\n",
       "      <td>NaN</td>\n",
       "    </tr>\n",
       "    <tr>\n",
       "      <td>16714</td>\n",
       "      <td>Winning Post 8 2016</td>\n",
       "      <td>PSV</td>\n",
       "      <td>2016.0</td>\n",
       "      <td>Simulation</td>\n",
       "      <td>0.00</td>\n",
       "      <td>0.00</td>\n",
       "      <td>0.01</td>\n",
       "      <td>0.00</td>\n",
       "      <td>NaN</td>\n",
       "      <td>NaN</td>\n",
       "      <td>NaN</td>\n",
       "    </tr>\n",
       "  </tbody>\n",
       "</table>\n",
       "<p>4503 rows × 11 columns</p>\n",
       "</div>"
      ],
      "text/plain": [
       "                                 name platform  year_of_release       genre  \\\n",
       "2472       Ben 10: Protector of Earth      PS2           2007.0      Action   \n",
       "3115                     SingStar R&B      PS2           2007.0        Misc   \n",
       "3275   SingStar Singalong With Disney      PS2           2008.0        Misc   \n",
       "3681            SingStar Summer Party      PS2           2008.0        Misc   \n",
       "4343               SingStar Take That      PS2           2009.0        Misc   \n",
       "...                               ...      ...              ...         ...   \n",
       "16710   Samurai Warriors: Sanada Maru      PS3           2016.0      Action   \n",
       "16711                LMA Manager 2007     X360           2006.0      Sports   \n",
       "16712         Haitaka no Psychedelica      PSV           2016.0   Adventure   \n",
       "16713                Spirits & Spells      GBA           2003.0    Platform   \n",
       "16714             Winning Post 8 2016      PSV           2016.0  Simulation   \n",
       "\n",
       "       na_sales  eu_sales  jp_sales  other_sales  critic_score user_score  \\\n",
       "2472       0.09      0.00      0.00         0.74           NaN        7.6   \n",
       "3115       0.00      0.05      0.00         0.60           NaN        NaN   \n",
       "3275       0.00      0.04      0.00         0.57           NaN        NaN   \n",
       "3681       0.00      0.06      0.00         0.48           NaN        NaN   \n",
       "4343       0.00      0.06      0.00         0.39           NaN        NaN   \n",
       "...         ...       ...       ...          ...           ...        ...   \n",
       "16710      0.00      0.00      0.01         0.00           NaN        NaN   \n",
       "16711      0.00      0.01      0.00         0.00           NaN        NaN   \n",
       "16712      0.00      0.00      0.01         0.00           NaN        NaN   \n",
       "16713      0.01      0.00      0.00         0.00           NaN        NaN   \n",
       "16714      0.00      0.00      0.01         0.00           NaN        NaN   \n",
       "\n",
       "      rating  \n",
       "2472    E10+  \n",
       "3115     NaN  \n",
       "3275     NaN  \n",
       "3681     NaN  \n",
       "4343     NaN  \n",
       "...      ...  \n",
       "16710    NaN  \n",
       "16711    NaN  \n",
       "16712    NaN  \n",
       "16713    NaN  \n",
       "16714    NaN  \n",
       "\n",
       "[4503 rows x 11 columns]"
      ]
     },
     "execution_count": 9,
     "metadata": {},
     "output_type": "execute_result"
    }
   ],
   "source": [
    "df.query('na_sales <= 0.1 & critic_score.isnull() & jp_sales <= 0.1 & eu_sales <= 0.1')"
   ]
  },
  {
   "cell_type": "markdown",
   "metadata": {},
   "source": [
    "Остальные данны в столбцах critic_score, users_score, years_of_release будет заменять некорректно, так как можно потерять важные данные и заменять их на среднее значение или медиану пока неуместно."
   ]
  },
  {
   "cell_type": "code",
   "execution_count": 11,
   "metadata": {},
   "outputs": [
    {
     "data": {
      "text/html": [
       "<div>\n",
       "<style scoped>\n",
       "    .dataframe tbody tr th:only-of-type {\n",
       "        vertical-align: middle;\n",
       "    }\n",
       "\n",
       "    .dataframe tbody tr th {\n",
       "        vertical-align: top;\n",
       "    }\n",
       "\n",
       "    .dataframe thead th {\n",
       "        text-align: right;\n",
       "    }\n",
       "</style>\n",
       "<table border=\"1\" class=\"dataframe\">\n",
       "  <thead>\n",
       "    <tr style=\"text-align: right;\">\n",
       "      <th></th>\n",
       "      <th>name</th>\n",
       "      <th>platform</th>\n",
       "      <th>year_of_release</th>\n",
       "      <th>genre</th>\n",
       "      <th>na_sales</th>\n",
       "      <th>eu_sales</th>\n",
       "      <th>jp_sales</th>\n",
       "      <th>other_sales</th>\n",
       "      <th>critic_score</th>\n",
       "      <th>user_score</th>\n",
       "      <th>rating</th>\n",
       "    </tr>\n",
       "  </thead>\n",
       "  <tbody>\n",
       "    <tr>\n",
       "      <td>119</td>\n",
       "      <td>Zumba Fitness</td>\n",
       "      <td>Wii</td>\n",
       "      <td>2010.0</td>\n",
       "      <td>Sports</td>\n",
       "      <td>3.45</td>\n",
       "      <td>2.59</td>\n",
       "      <td>0.0</td>\n",
       "      <td>0.66</td>\n",
       "      <td>NaN</td>\n",
       "      <td>tbd</td>\n",
       "      <td>E</td>\n",
       "    </tr>\n",
       "    <tr>\n",
       "      <td>301</td>\n",
       "      <td>Namco Museum: 50th Anniversary</td>\n",
       "      <td>PS2</td>\n",
       "      <td>2005.0</td>\n",
       "      <td>Misc</td>\n",
       "      <td>2.08</td>\n",
       "      <td>1.35</td>\n",
       "      <td>0.0</td>\n",
       "      <td>0.54</td>\n",
       "      <td>61.0</td>\n",
       "      <td>tbd</td>\n",
       "      <td>E10+</td>\n",
       "    </tr>\n",
       "    <tr>\n",
       "      <td>520</td>\n",
       "      <td>Zumba Fitness 2</td>\n",
       "      <td>Wii</td>\n",
       "      <td>2011.0</td>\n",
       "      <td>Sports</td>\n",
       "      <td>1.51</td>\n",
       "      <td>1.03</td>\n",
       "      <td>0.0</td>\n",
       "      <td>0.27</td>\n",
       "      <td>NaN</td>\n",
       "      <td>tbd</td>\n",
       "      <td>T</td>\n",
       "    </tr>\n",
       "    <tr>\n",
       "      <td>645</td>\n",
       "      <td>uDraw Studio</td>\n",
       "      <td>Wii</td>\n",
       "      <td>2010.0</td>\n",
       "      <td>Misc</td>\n",
       "      <td>1.65</td>\n",
       "      <td>0.57</td>\n",
       "      <td>0.0</td>\n",
       "      <td>0.20</td>\n",
       "      <td>71.0</td>\n",
       "      <td>tbd</td>\n",
       "      <td>E</td>\n",
       "    </tr>\n",
       "    <tr>\n",
       "      <td>657</td>\n",
       "      <td>Frogger's Adventures: Temple of the Frog</td>\n",
       "      <td>GBA</td>\n",
       "      <td>NaN</td>\n",
       "      <td>Adventure</td>\n",
       "      <td>2.15</td>\n",
       "      <td>0.18</td>\n",
       "      <td>0.0</td>\n",
       "      <td>0.07</td>\n",
       "      <td>73.0</td>\n",
       "      <td>tbd</td>\n",
       "      <td>E</td>\n",
       "    </tr>\n",
       "    <tr>\n",
       "      <td>...</td>\n",
       "      <td>...</td>\n",
       "      <td>...</td>\n",
       "      <td>...</td>\n",
       "      <td>...</td>\n",
       "      <td>...</td>\n",
       "      <td>...</td>\n",
       "      <td>...</td>\n",
       "      <td>...</td>\n",
       "      <td>...</td>\n",
       "      <td>...</td>\n",
       "      <td>...</td>\n",
       "    </tr>\n",
       "    <tr>\n",
       "      <td>16695</td>\n",
       "      <td>Planet Monsters</td>\n",
       "      <td>GBA</td>\n",
       "      <td>2001.0</td>\n",
       "      <td>Action</td>\n",
       "      <td>0.01</td>\n",
       "      <td>0.00</td>\n",
       "      <td>0.0</td>\n",
       "      <td>0.00</td>\n",
       "      <td>67.0</td>\n",
       "      <td>tbd</td>\n",
       "      <td>E</td>\n",
       "    </tr>\n",
       "    <tr>\n",
       "      <td>16697</td>\n",
       "      <td>Bust-A-Move 3000</td>\n",
       "      <td>GC</td>\n",
       "      <td>2003.0</td>\n",
       "      <td>Puzzle</td>\n",
       "      <td>0.01</td>\n",
       "      <td>0.00</td>\n",
       "      <td>0.0</td>\n",
       "      <td>0.00</td>\n",
       "      <td>53.0</td>\n",
       "      <td>tbd</td>\n",
       "      <td>E</td>\n",
       "    </tr>\n",
       "    <tr>\n",
       "      <td>16698</td>\n",
       "      <td>Mega Brain Boost</td>\n",
       "      <td>DS</td>\n",
       "      <td>2008.0</td>\n",
       "      <td>Puzzle</td>\n",
       "      <td>0.01</td>\n",
       "      <td>0.00</td>\n",
       "      <td>0.0</td>\n",
       "      <td>0.00</td>\n",
       "      <td>48.0</td>\n",
       "      <td>tbd</td>\n",
       "      <td>E</td>\n",
       "    </tr>\n",
       "    <tr>\n",
       "      <td>16704</td>\n",
       "      <td>Plushees</td>\n",
       "      <td>DS</td>\n",
       "      <td>2008.0</td>\n",
       "      <td>Simulation</td>\n",
       "      <td>0.01</td>\n",
       "      <td>0.00</td>\n",
       "      <td>0.0</td>\n",
       "      <td>0.00</td>\n",
       "      <td>NaN</td>\n",
       "      <td>tbd</td>\n",
       "      <td>E</td>\n",
       "    </tr>\n",
       "    <tr>\n",
       "      <td>16706</td>\n",
       "      <td>Men in Black II: Alien Escape</td>\n",
       "      <td>GC</td>\n",
       "      <td>2003.0</td>\n",
       "      <td>Shooter</td>\n",
       "      <td>0.01</td>\n",
       "      <td>0.00</td>\n",
       "      <td>0.0</td>\n",
       "      <td>0.00</td>\n",
       "      <td>NaN</td>\n",
       "      <td>tbd</td>\n",
       "      <td>T</td>\n",
       "    </tr>\n",
       "  </tbody>\n",
       "</table>\n",
       "<p>2402 rows × 11 columns</p>\n",
       "</div>"
      ],
      "text/plain": [
       "                                           name platform  year_of_release  \\\n",
       "119                               Zumba Fitness      Wii           2010.0   \n",
       "301              Namco Museum: 50th Anniversary      PS2           2005.0   \n",
       "520                             Zumba Fitness 2      Wii           2011.0   \n",
       "645                                uDraw Studio      Wii           2010.0   \n",
       "657    Frogger's Adventures: Temple of the Frog      GBA              NaN   \n",
       "...                                         ...      ...              ...   \n",
       "16695                           Planet Monsters      GBA           2001.0   \n",
       "16697                          Bust-A-Move 3000       GC           2003.0   \n",
       "16698                          Mega Brain Boost       DS           2008.0   \n",
       "16704                                  Plushees       DS           2008.0   \n",
       "16706             Men in Black II: Alien Escape       GC           2003.0   \n",
       "\n",
       "            genre  na_sales  eu_sales  jp_sales  other_sales  critic_score  \\\n",
       "119        Sports      3.45      2.59       0.0         0.66           NaN   \n",
       "301          Misc      2.08      1.35       0.0         0.54          61.0   \n",
       "520        Sports      1.51      1.03       0.0         0.27           NaN   \n",
       "645          Misc      1.65      0.57       0.0         0.20          71.0   \n",
       "657     Adventure      2.15      0.18       0.0         0.07          73.0   \n",
       "...           ...       ...       ...       ...          ...           ...   \n",
       "16695      Action      0.01      0.00       0.0         0.00          67.0   \n",
       "16697      Puzzle      0.01      0.00       0.0         0.00          53.0   \n",
       "16698      Puzzle      0.01      0.00       0.0         0.00          48.0   \n",
       "16704  Simulation      0.01      0.00       0.0         0.00           NaN   \n",
       "16706     Shooter      0.01      0.00       0.0         0.00           NaN   \n",
       "\n",
       "      user_score rating  \n",
       "119          tbd      E  \n",
       "301          tbd   E10+  \n",
       "520          tbd      T  \n",
       "645          tbd      E  \n",
       "657          tbd      E  \n",
       "...          ...    ...  \n",
       "16695        tbd      E  \n",
       "16697        tbd      E  \n",
       "16698        tbd      E  \n",
       "16704        tbd      E  \n",
       "16706        tbd      T  \n",
       "\n",
       "[2402 rows x 11 columns]"
      ]
     },
     "execution_count": 11,
     "metadata": {},
     "output_type": "execute_result"
    }
   ],
   "source": [
    "df.query('user_score == \"tbd\"')"
   ]
  },
  {
   "cell_type": "markdown",
   "metadata": {},
   "source": [
    "**tbd(to be done)** - это абривеатура, обозначающая то, что пользователь еще не определился с оценкой, поэтому можно заменить данные значения на пропущенные, чтобы не потерять эти данные и не удалять их."
   ]
  },
  {
   "cell_type": "code",
   "execution_count": 12,
   "metadata": {},
   "outputs": [
    {
     "data": {
      "text/plain": [
       "0          8\n",
       "1        NaN\n",
       "2        8.3\n",
       "3          8\n",
       "4        NaN\n",
       "        ... \n",
       "16710    NaN\n",
       "16711    NaN\n",
       "16712    NaN\n",
       "16713    NaN\n",
       "16714    NaN\n",
       "Name: user_score, Length: 16600, dtype: object"
      ]
     },
     "execution_count": 12,
     "metadata": {},
     "output_type": "execute_result"
    }
   ],
   "source": [
    "df['user_score'] = df['user_score'].replace('tbd', np.nan)\n",
    "df['user_score']"
   ]
  },
  {
   "cell_type": "markdown",
   "metadata": {},
   "source": [
    "Заменим тип данных в столбцах year_of_release на int64, user_score на float64"
   ]
  },
  {
   "cell_type": "code",
   "execution_count": 13,
   "metadata": {},
   "outputs": [
    {
     "name": "stdout",
     "output_type": "stream",
     "text": [
      "<class 'pandas.core.frame.DataFrame'>\n",
      "Int64Index: 16600 entries, 0 to 16714\n",
      "Data columns (total 11 columns):\n",
      "name               16598 non-null object\n",
      "platform           16600 non-null object\n",
      "year_of_release    16446 non-null Int64\n",
      "genre              16598 non-null object\n",
      "na_sales           16600 non-null float64\n",
      "eu_sales           16600 non-null float64\n",
      "jp_sales           16600 non-null float64\n",
      "other_sales        16600 non-null float64\n",
      "critic_score       8137 non-null float64\n",
      "user_score         7586 non-null float64\n",
      "rating             9920 non-null object\n",
      "dtypes: Int64(1), float64(6), object(4)\n",
      "memory usage: 1.5+ MB\n",
      "                       name platform  year_of_release         genre  na_sales  \\\n",
      "0                Wii Sports      Wii             2006        Sports     41.36   \n",
      "1         Super Mario Bros.      NES             1985      Platform     29.08   \n",
      "2            Mario Kart Wii      Wii             2008        Racing     15.68   \n",
      "3         Wii Sports Resort      Wii             2009        Sports     15.61   \n",
      "4  Pokemon Red/Pokemon Blue       GB             1996  Role-Playing     11.27   \n",
      "\n",
      "   eu_sales  jp_sales  other_sales  critic_score  user_score rating  \n",
      "0     28.96      3.77         8.45          76.0         8.0      E  \n",
      "1      3.58      6.81         0.77           NaN         NaN    NaN  \n",
      "2     12.76      3.79         3.29          82.0         8.3      E  \n",
      "3     10.93      3.28         2.95          80.0         8.0      E  \n",
      "4      8.89     10.22         1.00           NaN         NaN    NaN  \n"
     ]
    }
   ],
   "source": [
    "df['year_of_release'] = df['year_of_release'].astype('Int64')\n",
    "df['user_score'] = df['user_score'].astype('float')\n",
    "df.info()\n",
    "print(df.head())"
   ]
  },
  {
   "cell_type": "markdown",
   "metadata": {},
   "source": [
    "Посчитаем суммарные продажи для каждой игры по всем регионам. Данные сохраним в отдельный столбец total_sales"
   ]
  },
  {
   "cell_type": "code",
   "execution_count": 14,
   "metadata": {},
   "outputs": [
    {
     "name": "stdout",
     "output_type": "stream",
     "text": [
      "                       name platform  year_of_release         genre  na_sales  \\\n",
      "0                Wii Sports      Wii             2006        Sports     41.36   \n",
      "1         Super Mario Bros.      NES             1985      Platform     29.08   \n",
      "2            Mario Kart Wii      Wii             2008        Racing     15.68   \n",
      "3         Wii Sports Resort      Wii             2009        Sports     15.61   \n",
      "4  Pokemon Red/Pokemon Blue       GB             1996  Role-Playing     11.27   \n",
      "\n",
      "   eu_sales  jp_sales  other_sales  critic_score  user_score rating  \\\n",
      "0     28.96      3.77         8.45          76.0         8.0      E   \n",
      "1      3.58      6.81         0.77           NaN         NaN    NaN   \n",
      "2     12.76      3.79         3.29          82.0         8.3      E   \n",
      "3     10.93      3.28         2.95          80.0         8.0      E   \n",
      "4      8.89     10.22         1.00           NaN         NaN    NaN   \n",
      "\n",
      "   total_sales  \n",
      "0        82.54  \n",
      "1        40.24  \n",
      "2        35.52  \n",
      "3        32.77  \n",
      "4        31.38  \n"
     ]
    }
   ],
   "source": [
    "df['total_sales'] = df['na_sales'] + df['eu_sales'] + df['jp_sales'] + df['other_sales']\n",
    "print(df.head())"
   ]
  },
  {
   "cell_type": "markdown",
   "metadata": {},
   "source": [
    "Таким образом была проведена предобработка данных. \n",
    "\n",
    "- Был заменен тип данных на нужный в столбцах user_score и year_of_release\n",
    "- Заменены значения tbd в столбце user_score на пропущенные, так как человек еще не определился с оценкой\n",
    "- Были удалены строки с пропущенными значениями, у которых продажи были меньше 100000 и, у которых не было оценок критиков или пользователей, а также не было года выпуска игры, так как скорее всего эти игры так и не были выпущены и для дальнейшего агализа данных они не нужны\n",
    "- Оставшиеся пропущенные значения для столбца year_of_release могут означать, что производитель еще не уверен на счет точного года выпуска игры или же игра была выпущена одновременно с другой игрой и год не указали. В столбце name и genre есть одно пропущенное значения, скорее всего производитель не придумал название для игры и ее жанр. Пропущенные значения в столбцах critic_score, user_score, rating могут обозначать то, что критики, пользователи еще не оценили игру, не поставили ей свою оценку, а комиссия по присвоению рейтинг также еще не определилась какой рейтинг поставить игре.\n",
    "- Были посчитаны суммарные продажи для каждой игры по всем регионам."
   ]
  },
  {
   "cell_type": "markdown",
   "metadata": {},
   "source": [
    "## Исследовательский анализ данных"
   ]
  },
  {
   "cell_type": "markdown",
   "metadata": {},
   "source": [
    "Посмотрим, сколько игр выпускалось в разные годы."
   ]
  },
  {
   "cell_type": "code",
   "execution_count": 15,
   "metadata": {},
   "outputs": [
    {
     "data": {
      "text/plain": [
       "2008    1427\n",
       "2009    1426\n",
       "2010    1255\n",
       "2007    1197\n",
       "2011    1136\n",
       "2006    1006\n",
       "2005     939\n",
       "2002     829\n",
       "2003     775\n",
       "2004     762\n",
       "2012     653\n",
       "2015     606\n",
       "2014     581\n",
       "2013     544\n",
       "2016     502\n",
       "2001     482\n",
       "1998     379\n",
       "2000     350\n",
       "1999     338\n",
       "1997     289\n",
       "1996     263\n",
       "1995     219\n",
       "1994     121\n",
       "1993      62\n",
       "1981      46\n",
       "1992      43\n",
       "1991      41\n",
       "1982      36\n",
       "1986      21\n",
       "1983      17\n",
       "1989      17\n",
       "1987      16\n",
       "1990      16\n",
       "1988      15\n",
       "1984      14\n",
       "1985      14\n",
       "1980       9\n",
       "Name: year_of_release, dtype: int64"
      ]
     },
     "execution_count": 15,
     "metadata": {},
     "output_type": "execute_result"
    },
    {
     "data": {
      "image/png": "[encoded data removed]",
      "text/plain": [
       "<Figure size 432x288 with 1 Axes>"
      ]
     },
     "metadata": {
      "needs_background": "light"
     },
     "output_type": "display_data"
    }
   ],
   "source": [
    "df.plot(y = 'year_of_release', kind = 'hist', bins = 100, grid = True, range = (1975,  2020), title = 'Количество выпущенных игр по годам')\n",
    "df['year_of_release'].value_counts()"
   ]
  },
  {
   "cell_type": "markdown",
   "metadata": {},
   "source": [
    "Таким образом на данном графике можно увидеть, что продажи игр начали расти в 90-х годах и продолжались до 2008 года, а потом начали падать, но не ниже 200 игр в год. Поэтому можно сказать, что данные до 2000 года можно отбросить, они не важны. "
   ]
  },
  {
   "cell_type": "markdown",
   "metadata": {},
   "source": [
    "Посмотрим, как менялись продажи по платформам. Выберем платформы с наибольшими суммарными продажами и построим распределение по годам. За какой характерный срок появляются новые и исчезают старые платформы?"
   ]
  },
  {
   "cell_type": "code",
   "execution_count": 16,
   "metadata": {},
   "outputs": [
    {
     "name": "stdout",
     "output_type": "stream",
     "text": [
      "          total_sales\n",
      "platform             \n",
      "PS2           1250.43\n",
      "X360           971.11\n",
      "PS3            939.10\n",
      "Wii            905.19\n",
      "DS             804.87\n",
      "PS             729.27\n",
      "GBA            316.46\n",
      "PS4            314.14\n",
      "PSP            292.18\n",
      "PC             259.47\n",
      "3DS            258.28\n",
      "XB             257.68\n",
      "GB             254.43\n",
      "NES            251.05\n",
      "N64            218.01\n",
      "SNES           200.04\n",
      "GC             198.40\n",
      "XOne           159.32\n",
      "2600            86.48\n",
      "WiiU            82.19\n",
      "PSV             54.07\n",
      "SAT             33.59\n",
      "GEN             30.77\n",
      "DC              15.95\n",
      "SCD              1.86\n",
      "NG               1.44\n",
      "WS               1.42\n",
      "TG16             0.16\n",
      "3DO              0.10\n",
      "GG               0.04\n",
      "PCFX             0.03\n"
     ]
    },
    {
     "data": {
      "text/plain": [
       "Text(0, 0.5, 'Количество продаж')"
      ]
     },
     "execution_count": 16,
     "metadata": {},
     "output_type": "execute_result"
    },
    {
     "data": {
      "image/png": "[encoded data removed]",
      "text/plain": [
       "<Figure size 432x288 with 1 Axes>"
      ]
     },
     "metadata": {
      "needs_background": "light"
     },
     "output_type": "display_data"
    }
   ],
   "source": [
    "high_sales = df.pivot_table(index = 'platform', values = 'total_sales', aggfunc = 'sum').sort_values(by = 'total_sales', ascending = False)\n",
    "print(high_sales)\n",
    "s = sns.barplot(x=high_sales.index,y=high_sales['total_sales'])\n",
    "s.set_xticklabels(labels = high_sales.index, rotation=60)\n",
    "plt.title(\"Суммарные продажи на разных платформах\")\n",
    "plt.xlabel(\"Название платформы\")\n",
    "plt.ylabel(\"Количество продаж\")\n"
   ]
  },
  {
   "cell_type": "markdown",
   "metadata": {},
   "source": [
    "Таким образом платформами с самыми высокими продажами являются: PS2, X360, PS3, Wii, DS, PS. Построим для них распределение по годам. "
   ]
  },
  {
   "cell_type": "code",
   "execution_count": 17,
   "metadata": {},
   "outputs": [
    {
     "data": {
      "text/plain": [
       "Text(0, 0.5, 'Количество продаж')"
      ]
     },
     "execution_count": 17,
     "metadata": {},
     "output_type": "execute_result"
    },
    {
     "data": {
      "image/png": "[encoded data removed]",
      "text/plain": [
       "<Figure size 432x288 with 1 Axes>"
      ]
     },
     "metadata": {
      "needs_background": "light"
     },
     "output_type": "display_data"
    }
   ],
   "source": [
    "ps_2 = df.query('platform == \"PS2\" & year_of_release > 2000').pivot_table(index = 'year_of_release', values = 'total_sales', aggfunc='sum')\n",
    "sns.barplot(x=ps_2.index,y=ps_2['total_sales'])\n",
    "plt.title(\"Суммарные продажи на платформе PS2 по годам\")\n",
    "plt.ylabel(\"Количество продаж\")\n",
    "    "
   ]
  },
  {
   "cell_type": "markdown",
   "metadata": {},
   "source": [
    "Пик для компании PS2 пришелся на 2004 год, после этого количество продаж уменьшалось. Падение произошло за 6 лет."
   ]
  },
  {
   "cell_type": "code",
   "execution_count": 18,
   "metadata": {},
   "outputs": [
    {
     "data": {
      "text/plain": [
       "Text(0, 0.5, 'Количество продаж')"
      ]
     },
     "execution_count": 18,
     "metadata": {},
     "output_type": "execute_result"
    },
    {
     "data": {
      "image/png": "[encoded data removed]",
      "text/plain": [
       "<Figure size 432x288 with 1 Axes>"
      ]
     },
     "metadata": {
      "needs_background": "light"
     },
     "output_type": "display_data"
    }
   ],
   "source": [
    "x_360= df.query('platform == \"X360\" & year_of_release > 2000').pivot_table(index = 'year_of_release', values = 'total_sales', aggfunc='sum')\n",
    "sns.barplot(x=x_360.index,y=x_360['total_sales'])\n",
    "plt.title(\"Суммарные продажи на платформе X360 по годам\")\n",
    "plt.ylabel(\"Количество продаж\")"
   ]
  },
  {
   "cell_type": "markdown",
   "metadata": {},
   "source": [
    "Пик для компании X360 пришелся на 2010 год, после этого количество продаж уменьшалось, падение произошло за 6 лет."
   ]
  },
  {
   "cell_type": "code",
   "execution_count": 19,
   "metadata": {},
   "outputs": [
    {
     "data": {
      "text/plain": [
       "Text(0, 0.5, 'Количество продаж')"
      ]
     },
     "execution_count": 19,
     "metadata": {},
     "output_type": "execute_result"
    },
    {
     "data": {
      "image/png": "[encoded data removed]",
      "text/plain": [
       "<Figure size 432x288 with 1 Axes>"
      ]
     },
     "metadata": {
      "needs_background": "light"
     },
     "output_type": "display_data"
    }
   ],
   "source": [
    "ps_3= df.query('platform == \"PS3\" & year_of_release > 2000').pivot_table(index = 'year_of_release', values = 'total_sales', aggfunc='sum')\n",
    "sns.barplot(x=ps_3.index,y=ps_3['total_sales'])\n",
    "plt.title(\"Суммарные продажи на платформе PS3 по годам\")\n",
    "plt.ylabel(\"Количество продаж\")"
   ]
  },
  {
   "cell_type": "markdown",
   "metadata": {},
   "source": [
    "Пик для компании X360 пришелся на 2011 год, после этого количество продаж уменьшалось, падение произошло за 5 лет."
   ]
  },
  {
   "cell_type": "code",
   "execution_count": 20,
   "metadata": {},
   "outputs": [
    {
     "data": {
      "text/plain": [
       "Text(0, 0.5, 'Количество продаж')"
      ]
     },
     "execution_count": 20,
     "metadata": {},
     "output_type": "execute_result"
    },
    {
     "data": {
      "image/png": "[encoded data removed]",
      "text/plain": [
       "<Figure size 432x288 with 1 Axes>"
      ]
     },
     "metadata": {
      "needs_background": "light"
     },
     "output_type": "display_data"
    }
   ],
   "source": [
    "wii = df.query('platform == \"Wii\" & year_of_release > 2000').pivot_table(index = 'year_of_release', values = 'total_sales', aggfunc='sum')\n",
    "sns.barplot(x=wii.index,y=wii['total_sales'])\n",
    "plt.title(\"Суммарные продажи на платформе Wii по годам\")\n",
    "plt.ylabel(\"Количество продаж\")"
   ]
  },
  {
   "cell_type": "markdown",
   "metadata": {},
   "source": [
    "Пик для компании Wii пришелся на 2009 год, после этого количество продаж уменьшалось, падение произошло за 6 лет."
   ]
  },
  {
   "cell_type": "code",
   "execution_count": 21,
   "metadata": {},
   "outputs": [
    {
     "data": {
      "text/plain": [
       "Text(0, 0.5, 'Количество продаж')"
      ]
     },
     "execution_count": 21,
     "metadata": {},
     "output_type": "execute_result"
    },
    {
     "data": {
      "image/png": "[encoded data removed]",
      "text/plain": [
       "<Figure size 432x288 with 1 Axes>"
      ]
     },
     "metadata": {
      "needs_background": "light"
     },
     "output_type": "display_data"
    }
   ],
   "source": [
    "ds = df.query('platform == \"DS\" & year_of_release > 2000').pivot_table(index = 'year_of_release', values = 'total_sales', aggfunc='sum')\n",
    "sns.barplot(x=ds.index,y=ds['total_sales'])\n",
    "plt.title(\"Суммарные продажи на платформе DS по годам\")\n",
    "plt.ylabel(\"Количество продаж\")"
   ]
  },
  {
   "cell_type": "markdown",
   "metadata": {},
   "source": [
    "Пик для компании Wii пришелся на 2007- 2008 год, после этого количество продаж уменьшалось, падение произошло за 5 лет."
   ]
  },
  {
   "cell_type": "code",
   "execution_count": 22,
   "metadata": {},
   "outputs": [
    {
     "data": {
      "text/plain": [
       "Text(0, 0.5, 'Количество продаж')"
      ]
     },
     "execution_count": 22,
     "metadata": {},
     "output_type": "execute_result"
    },
    {
     "data": {
      "image/png": "[encoded data removed]",
      "text/plain": [
       "<Figure size 432x288 with 1 Axes>"
      ]
     },
     "metadata": {
      "needs_background": "light"
     },
     "output_type": "display_data"
    }
   ],
   "source": [
    "ps = df.query('platform == \"PS\" & year_of_release > 2000').pivot_table(index = 'year_of_release', values = 'total_sales', aggfunc='sum')\n",
    "sns.barplot(x=ps.index,y=ps['total_sales'])\n",
    "plt.title(\"Суммарные продажи на платформе PS по годам\")\n",
    "plt.ylabel(\"Количество продаж\")"
   ]
  },
  {
   "cell_type": "markdown",
   "metadata": {},
   "source": [
    "Пик для компании PS пришелся на 2001 год, после этого количество продаж уменьшалось, падение произошло за 2 года."
   ]
  },
  {
   "cell_type": "markdown",
   "metadata": {},
   "source": [
    "**Таким образом можно сделать вывод, что подъем у самых продаваемых компаний в среднем происходит за 4-5 лет, а падение занимает 5-6 лет. Самый быстрой подъем был у компании WII, но также их ожидало и быстрое падение. Самый продаваемые игры на платформах PS2 и X360. Средний жизненный цикл у платформ составляет 10-12 лет**"
   ]
  },
  {
   "cell_type": "markdown",
   "metadata": {},
   "source": [
    "**Актуальным периодом выберем те продажи и выпуски игр, которые были после 2014 года, так как мы прогнозируем на 2017 год и нужна свежая информация по продажам.**"
   ]
  },
  {
   "cell_type": "code",
   "execution_count": 23,
   "metadata": {},
   "outputs": [
    {
     "name": "stdout",
     "output_type": "stream",
     "text": [
      "          total_sales\n",
      "platform             \n",
      "PS4            288.15\n",
      "XOne           140.36\n",
      "3DS             86.68\n",
      "PS3             68.18\n",
      "X360            48.22\n",
      "WiiU            42.98\n",
      "PC              27.05\n",
      "PSV             22.40\n",
      "Wii              5.07\n",
      "PSP              0.36\n"
     ]
    },
    {
     "data": {
      "text/plain": [
       "Text(0, 0.5, 'Количество продаж')"
      ]
     },
     "execution_count": 23,
     "metadata": {},
     "output_type": "execute_result"
    },
    {
     "data": {
      "image/png": "[encoded data removed]",
      "text/plain": [
       "<Figure size 432x288 with 1 Axes>"
      ]
     },
     "metadata": {
      "needs_background": "light"
     },
     "output_type": "display_data"
    }
   ],
   "source": [
    "new_high_sales = df.query('year_of_release >= 2014').pivot_table(index = 'platform', values = 'total_sales', aggfunc = 'sum').sort_values(by = 'total_sales', ascending = False)\n",
    "print(new_high_sales)\n",
    "s = sns.barplot(x=new_high_sales.index,y=new_high_sales['total_sales'])\n",
    "s.set_xticklabels(labels = new_high_sales.index, rotation=60)\n",
    "plt.title(\"Суммарные продажи на разных платформах после 2014 года\")\n",
    "plt.xlabel(\"Название платформы\")\n",
    "plt.ylabel(\"Количество продаж\")"
   ]
  },
  {
   "cell_type": "markdown",
   "metadata": {},
   "source": [
    "**На этом графике видно, что платформы PS4, XOne, 3DS, WiiU подняли свои продажи по сравнению с прошлыми периодами. Потенциально прибыльными можно считать платформы: PS4, XOne, 3DS, WiiU и PS3** "
   ]
  },
  {
   "cell_type": "markdown",
   "metadata": {},
   "source": [
    "Построим график «ящик с усами» по глобальным продажам игр в разбивке по платформам. Опишем результат"
   ]
  },
  {
   "cell_type": "code",
   "execution_count": 24,
   "metadata": {},
   "outputs": [
    {
     "data": {
      "text/plain": [
       "(-0.1, 1)"
      ]
     },
     "execution_count": 24,
     "metadata": {},
     "output_type": "execute_result"
    },
    {
     "data": {
      "image/png": "[encoded data removed]",
      "text/plain": [
       "<Figure size 432x288 with 1 Axes>"
      ]
     },
     "metadata": {
      "needs_background": "light"
     },
     "output_type": "display_data"
    }
   ],
   "source": [
    "df_2014 = df.query('year_of_release >= 2014')\n",
    "top_platforms = df_2014['platform'].value_counts().sort_values(ascending = False).head(5).index.values\n",
    "sns.boxplot(y=\"total_sales\", x=\"platform\", data=df_2014[df_2014['platform'].isin(top_platforms)])\n",
    "plt.ylim(-0.1, 1)"
   ]
  },
  {
   "cell_type": "markdown",
   "metadata": {},
   "source": [
    "**Как можно заметить продажи на каждой платформе по медиане по годам разные: больше всего продавала платформа XOne, рядом находится PS4, затем 3DS и PS3, меньше всего PSV. Хотя по сумме больше продают платформа PS4, по медиане немного больше продает платформа XOne** "
   ]
  },
  {
   "cell_type": "markdown",
   "metadata": {},
   "source": [
    "Посмотрим, как влияют на продажи внутри одной популярной платформы отзывы пользователей и критиков. Построим диаграмму рассеяния и посчитаем корреляцию между отзывами и продажами. Сформулируем выводы."
   ]
  },
  {
   "cell_type": "code",
   "execution_count": 25,
   "metadata": {},
   "outputs": [
    {
     "name": "stdout",
     "output_type": "stream",
     "text": [
      "0.40266141068104083\n"
     ]
    },
    {
     "data": {
      "image/png": "[encoded data removed]",
      "text/plain": [
       "<Figure size 432x288 with 1 Axes>"
      ]
     },
     "metadata": {
      "needs_background": "light"
     },
     "output_type": "display_data"
    }
   ],
   "source": [
    "ps_4_platform = df.query('platform == \"PS4\" & year_of_release >= 2014')\n",
    "ps_4_platform.plot(x='critic_score', y='total_sales', kind='scatter', grid=True, title = 'Влияние отзывов критиков на продажи игры')\n",
    "print(ps_4_platform['critic_score'].corr(ps_4_platform['total_sales']))"
   ]
  },
  {
   "cell_type": "markdown",
   "metadata": {},
   "source": [
    "Как можно заметить, отзывы критиков влияют на продажи игры. Чем лучше отзывы, тем больше покупают игр, что логично, люди доверяют оценкам экспертов."
   ]
  },
  {
   "cell_type": "code",
   "execution_count": 26,
   "metadata": {},
   "outputs": [
    {
     "name": "stdout",
     "output_type": "stream",
     "text": [
      "-0.040131589472697356\n"
     ]
    },
    {
     "data": {
      "image/png": "[encoded data removed]",
      "text/plain": [
       "<Figure size 432x288 with 1 Axes>"
      ]
     },
     "metadata": {
      "needs_background": "light"
     },
     "output_type": "display_data"
    }
   ],
   "source": [
    "ps_4_platform.plot(x='user_score', y='total_sales', kind='scatter', grid=True, title = 'Влияние отзывов пользователей на продажи игры')\n",
    "print(ps_4_platform['user_score'].corr(ps_4_platform['total_sales']))"
   ]
  },
  {
   "cell_type": "markdown",
   "metadata": {},
   "source": [
    "Как можно заметить, отзывы пользователей не влияют на продажи игры."
   ]
  },
  {
   "cell_type": "code",
   "execution_count": 27,
   "metadata": {},
   "outputs": [
    {
     "name": "stdout",
     "output_type": "stream",
     "text": [
      "0.42867694370333226\n",
      "-0.0703839280647581\n"
     ]
    },
    {
     "data": {
      "image/png": "[encoded data removed]",
      "text/plain": [
       "<Figure size 432x288 with 1 Axes>"
      ]
     },
     "metadata": {
      "needs_background": "light"
     },
     "output_type": "display_data"
    },
    {
     "data": {
      "image/png": "[encoded data removed]",
      "text/plain": [
       "<Figure size 432x288 with 1 Axes>"
      ]
     },
     "metadata": {
      "needs_background": "light"
     },
     "output_type": "display_data"
    }
   ],
   "source": [
    "def scatter_plot(name_of_platform):\n",
    "    platform = df_2014[df_2014['platform'] == name_of_platform]\n",
    "    platform.plot(x='user_score', y='total_sales', kind='scatter', grid=True, title = 'Влияние отзывов пользователей на продажи игры')\n",
    "    platform.plot(x='critic_score', y='total_sales', kind='scatter', grid=True, title = 'Влияние отзывов критиков на продажи игры')\n",
    "    print(platform['critic_score'].corr(platform['total_sales']))\n",
    "    print(platform['user_score'].corr(platform['total_sales']))\n",
    "    \n",
    "scatter_plot('XOne')\n"
   ]
  },
  {
   "cell_type": "markdown",
   "metadata": {},
   "source": [
    "Как можно заметить, отзывы критиков влияют на продажи игры для платформы XOne. Чем лучше отзывы, тем больше покупают игр, что логично, люди доверяют оценкам экспертов.\n",
    "Отзывы пользователей не влияют на продажи игры."
   ]
  },
  {
   "cell_type": "code",
   "execution_count": 28,
   "metadata": {},
   "outputs": [
    {
     "name": "stdout",
     "output_type": "stream",
     "text": [
      "0.314117492869051\n",
      "0.2151932718527028\n"
     ]
    },
    {
     "data": {
      "image/png": "[encoded data removed]",
      "text/plain": [
       "<Figure size 432x288 with 1 Axes>"
      ]
     },
     "metadata": {
      "needs_background": "light"
     },
     "output_type": "display_data"
    },
    {
     "data": {
      "image/png": "[encoded data removed]",
      "text/plain": [
       "<Figure size 432x288 with 1 Axes>"
      ]
     },
     "metadata": {
      "needs_background": "light"
     },
     "output_type": "display_data"
    }
   ],
   "source": [
    "scatter_plot('3DS')\n"
   ]
  },
  {
   "cell_type": "markdown",
   "metadata": {},
   "source": [
    "Как можно заметить, отзывы критиков влияют на продажи игры для платформы 3DS. Чем лучше отзывы, тем больше покупают игр, что логично, люди доверяют оценкам экспертов. \n",
    "Также отзывы пользователей влияют на продажи игры, но незначительно и меньше чем отзывы критиков. Чем лучше отзывы пользователей, тем больше покупают игр."
   ]
  },
  {
   "cell_type": "code",
   "execution_count": 29,
   "metadata": {},
   "outputs": [
    {
     "name": "stdout",
     "output_type": "stream",
     "text": [
      "0.370201412480884\n",
      "0.40792645792170773\n"
     ]
    },
    {
     "data": {
      "image/png": "[encoded data removed]",
      "text/plain": [
       "<Figure size 432x288 with 1 Axes>"
      ]
     },
     "metadata": {
      "needs_background": "light"
     },
     "output_type": "display_data"
    },
    {
     "data": {
      "image/png": "[encoded data removed]",
      "text/plain": [
       "<Figure size 432x288 with 1 Axes>"
      ]
     },
     "metadata": {
      "needs_background": "light"
     },
     "output_type": "display_data"
    }
   ],
   "source": [
    "scatter_plot('WiiU')\n"
   ]
  },
  {
   "cell_type": "markdown",
   "metadata": {},
   "source": [
    "Как можно заметить, отзывы критиков влияют на продажи игры для платформы WiiU. Тенденция сохраняется, чем лучше отзывы, тем больше покупают игр. \n",
    "\n",
    "Отзывы пользователей влияют на продажи игры, даже больше, чем отзывы критиков. Чем лучше отзывы пользователей, тем больше покупают игр."
   ]
  },
  {
   "cell_type": "code",
   "execution_count": 30,
   "metadata": {},
   "outputs": [
    {
     "name": "stdout",
     "output_type": "stream",
     "text": [
      "0.44657460493190704\n",
      "-0.16676141347662118\n"
     ]
    },
    {
     "data": {
      "image/png": "[encoded data removed]",
      "text/plain": [
       "<Figure size 432x288 with 1 Axes>"
      ]
     },
     "metadata": {
      "needs_background": "light"
     },
     "output_type": "display_data"
    },
    {
     "data": {
      "image/png": "[encoded data removed]",
      "text/plain": [
       "<Figure size 432x288 with 1 Axes>"
      ]
     },
     "metadata": {
      "needs_background": "light"
     },
     "output_type": "display_data"
    }
   ],
   "source": [
    "scatter_plot('PS3')"
   ]
  },
  {
   "cell_type": "markdown",
   "metadata": {},
   "source": [
    "Как можно заметить, отзывы критиков влияют на продажи игры для платформы PS3. Тенденция сохраняется, чем лучше отзывы, тем больше покупают игр.\n",
    "\n",
    "Отзывы пользователей влияют на продажи игры, но незначительно и гораздо меньше чем отзывы критиков. Чем лучше отзывы пользователей, тем больше покупают игр."
   ]
  },
  {
   "cell_type": "markdown",
   "metadata": {},
   "source": [
    "**Таким образом, можно сказать, что отзывы критиков влияют на продажи игр больше, чем отзывы пользовтелей. Люди больше доверяют критикам, чем обычным пользователям и особенно это выражается для платформ PS4, PS3, XOne. Однако бывают случаи когда отзывы критиков и отзывы пользователей одинаково влияют на продажи игр, как например для компаний 3DS, WiiU - возможно это Японские компании и для них отзывы пользователей также высоко ценятся**"
   ]
  },
  {
   "cell_type": "markdown",
   "metadata": {},
   "source": [
    "Посмотрим на общее распределение игр по жанрам. Что можно сказать о самых прибыльных жанрах? Выделяются ли жанры с высокими и низкими продажами?"
   ]
  },
  {
   "cell_type": "code",
   "execution_count": 31,
   "metadata": {},
   "outputs": [
    {
     "name": "stdout",
     "output_type": "stream",
     "text": [
      "              total_sales\n",
      "genre                    \n",
      "Action             199.36\n",
      "Shooter            170.94\n",
      "Sports             109.48\n",
      "Role-Playing       101.44\n",
      "Misc                37.55\n",
      "Fighting            28.22\n",
      "Racing              27.52\n",
      "Platform            18.09\n",
      "Adventure           17.55\n",
      "Simulation          13.13\n",
      "Strategy             3.96\n",
      "Puzzle               2.21\n"
     ]
    },
    {
     "data": {
      "text/plain": [
       "Text(0, 0.5, 'Количество продаж')"
      ]
     },
     "execution_count": 31,
     "metadata": {},
     "output_type": "execute_result"
    },
    {
     "data": {
      "image/png": "[encoded data removed]",
      "text/plain": [
       "<Figure size 432x288 with 1 Axes>"
      ]
     },
     "metadata": {
      "needs_background": "light"
     },
     "output_type": "display_data"
    }
   ],
   "source": [
    "genre_sales = df_2014.pivot_table(index = 'genre', values = 'total_sales', aggfunc = 'sum').sort_values(by = 'total_sales', ascending = False)\n",
    "print(genre_sales)\n",
    "g = sns.barplot(x=genre_sales.index,y=genre_sales['total_sales'])\n",
    "g.set_xticklabels(labels = genre_sales.index, rotation=30)\n",
    "plt.title(\"Суммарные продажи по разным жанрам после 2014 года\")\n",
    "plt.xlabel(\"Название жанра\")\n",
    "plt.ylabel(\"Количество продаж\")"
   ]
  },
  {
   "cell_type": "markdown",
   "metadata": {},
   "source": [
    "Как можно заметить игры Shooter, Action, Sports продаются лучше всего. Это динамичные, инетересные игры, с хорошим и легким сюжетом, также они больше соревновательные, в основном у них удобный интерфейс и управление может быть от 1 лица, что интереснее пользователю, в отличие от стратегий или пазлов, которые бывают только от 3 лица, и они сложнее по прохождению и с обычным сюжетом, поэтому и продаются они хуже. "
   ]
  },
  {
   "cell_type": "code",
   "execution_count": 32,
   "metadata": {},
   "outputs": [
    {
     "data": {
      "text/plain": [
       "(-0.1, 2)"
      ]
     },
     "execution_count": 32,
     "metadata": {},
     "output_type": "execute_result"
    },
    {
     "data": {
      "image/png": "[encoded data removed]",
      "text/plain": [
       "<Figure size 432x288 with 1 Axes>"
      ]
     },
     "metadata": {
      "needs_background": "light"
     },
     "output_type": "display_data"
    }
   ],
   "source": [
    "# Построим boxplot для топ-5 жанров\n",
    "top_platforms = df_2014['genre'].value_counts().sort_values(ascending = False).head(5).index.values\n",
    "sns.boxplot(y=\"total_sales\", x=\"genre\", data=df_2014[df_2014['genre'].isin(top_platforms)])\n",
    "plt.ylim(-0.1, 2)"
   ]
  },
  {
   "cell_type": "markdown",
   "metadata": {},
   "source": [
    "Как можно заметить продажи на каждому жанру по медиане разные: больше всего продается жанр Shooter, гораздо ниже находятся Sports, Role_playing, затем Action и Adventure. Хотя по сумме больше продается игр с жанров Action, а не Sports или Role_playing, значит игр Action просто больше, а больше продаж в расчете на единицу имуют жанры Sports и Role_playing."
   ]
  },
  {
   "cell_type": "markdown",
   "metadata": {},
   "source": [
    "**Таким образом был проведен исследовательский анализ данных, а именно были сделаны следующие выводы:**\n",
    "- Больше всего игр выпускалось с 1995 года по 2008 год - произошел рост, после чего произошло падение выпуска игр, возможно появились более востребованные игры и платформы;\n",
    "- При появлении платформы она выходила на пик за 4-5 лет и достигала максимум продаж, а потом за 5-6 лет продажи падали и компания переставала выпускать игры (вывод сделан на основе 5 самых популрных платформ). В среднем платформа существовала 10-12 лет;\n",
    "- Потенциально прибыльными платформами являются: PS4, PS3, XOne, 3DS, WiiU;\n",
    "- Были построены графики boxplot. Больше всего игр по медиане продает платформа XOne, в расчете на единицу, хотя больше всего продаж у PS4.\n",
    "- Была вычислена зависимсоть влияния отзывов критиков и пользователей на продажи. Отзывы критиков влияют на продажи сильнее, чем отзывы покупателей для всех основных популярных платформ. Но иногда встречаются платформы, где отзывы пользователей также влияют на продажи игр.\n",
    "- Самыми прибыльными жанрами являются жанры Action, Sports, Shooter - больше 60 млн. продаж, т.к. они динамичнее и интереснее по геймплею, а самыми малоприбыльными являются Puzzle, Strategy - 5 млн. продаж."
   ]
  },
  {
   "cell_type": "markdown",
   "metadata": {},
   "source": [
    "## Портрет пользователя каждого региона"
   ]
  },
  {
   "cell_type": "markdown",
   "metadata": {},
   "source": [
    "Определим для пользователя каждого региона (NA, EU, JP):\n",
    "- Самые популярные платформы (топ-5). Опишите различия в долях продаж.\n",
    "- Самые популярные жанры (топ-5). Поясните разницу.\n",
    "- Влияет ли рейтинг ESRB на продажи в отдельном регионе?"
   ]
  },
  {
   "cell_type": "markdown",
   "metadata": {},
   "source": [
    "Выявим топ-5 платформ для каждого региона по продажам"
   ]
  },
  {
   "cell_type": "code",
   "execution_count": 33,
   "metadata": {},
   "outputs": [
    {
     "name": "stdout",
     "output_type": "stream",
     "text": [
      "          na_sales\n",
      "platform          \n",
      "PS4          98.61\n",
      "XOne         81.27\n",
      "X360         28.30\n",
      "3DS          22.64\n",
      "PS3          22.05\n",
      "WiiU         19.36\n",
      "PC            7.23\n",
      "PSV           2.52\n",
      "Wii           2.08\n",
      "PSP           0.00\n"
     ]
    },
    {
     "data": {
      "text/plain": [
       "Text(0, 0.5, 'Количество продаж')"
      ]
     },
     "execution_count": 33,
     "metadata": {},
     "output_type": "execute_result"
    },
    {
     "data": {
      "image/png": "[encoded data removed]",
      "text/plain": [
       "<Figure size 432x288 with 1 Axes>"
      ]
     },
     "metadata": {
      "needs_background": "light"
     },
     "output_type": "display_data"
    }
   ],
   "source": [
    "# Строим график для региона- Северная Америка\n",
    "na_sales = df_2014.pivot_table(index = 'platform', values = 'na_sales', aggfunc = 'sum').sort_values(by = 'na_sales', ascending = False)\n",
    "print(na_sales)\n",
    "s = sns.barplot(x=na_sales.index,y=na_sales['na_sales'])\n",
    "s.set_xticklabels(labels = na_sales.index, rotation=60)\n",
    "plt.title(\"Суммарные продажи на разных платформах для Северной Америки\")\n",
    "plt.xlabel(\"Название платформы\")\n",
    "plt.ylabel(\"Количество продаж\")"
   ]
  },
  {
   "cell_type": "code",
   "execution_count": 34,
   "metadata": {},
   "outputs": [
    {
     "name": "stdout",
     "output_type": "stream",
     "text": [
      "          eu_sales\n",
      "platform          \n",
      "PS4         130.04\n",
      "XOne         46.25\n",
      "PS3          25.54\n",
      "PC           17.97\n",
      "3DS          16.12\n",
      "X360         15.49\n",
      "WiiU         13.15\n",
      "PSV           3.53\n",
      "Wii           2.59\n",
      "PSP           0.00\n"
     ]
    },
    {
     "data": {
      "text/plain": [
       "Text(0, 0.5, 'Количество продаж')"
      ]
     },
     "execution_count": 34,
     "metadata": {},
     "output_type": "execute_result"
    },
    {
     "data": {
      "image/png": "[encoded data removed]",
      "text/plain": [
       "<Figure size 432x288 with 1 Axes>"
      ]
     },
     "metadata": {
      "needs_background": "light"
     },
     "output_type": "display_data"
    }
   ],
   "source": [
    "# Строим график для региона-Европа\n",
    "eu_sales = df_2014.pivot_table(index = 'platform', values = 'eu_sales', aggfunc = 'sum').sort_values(by = 'eu_sales', ascending = False)\n",
    "print(eu_sales)\n",
    "s = sns.barplot(x=eu_sales.index,y=eu_sales['eu_sales'])\n",
    "s.set_xticklabels(labels = eu_sales.index, rotation=60)\n",
    "plt.title(\"Суммарные продажи на разных платформах для Европы\")\n",
    "plt.xlabel(\"Название платформы\")\n",
    "plt.ylabel(\"Количество продаж\")"
   ]
  },
  {
   "cell_type": "code",
   "execution_count": 35,
   "metadata": {},
   "outputs": [
    {
     "name": "stdout",
     "output_type": "stream",
     "text": [
      "          jp_sales\n",
      "platform          \n",
      "3DS          44.24\n",
      "PS4          15.02\n",
      "PSV          14.54\n",
      "PS3          11.22\n",
      "WiiU          7.31\n",
      "PSP           0.36\n",
      "XOne          0.32\n",
      "X360          0.08\n",
      "PC            0.00\n",
      "Wii           0.00\n"
     ]
    },
    {
     "data": {
      "text/plain": [
       "Text(0, 0.5, 'Количество продаж')"
      ]
     },
     "execution_count": 35,
     "metadata": {},
     "output_type": "execute_result"
    },
    {
     "data": {
      "image/png": "[encoded data removed]",
      "text/plain": [
       "<Figure size 432x288 with 1 Axes>"
      ]
     },
     "metadata": {
      "needs_background": "light"
     },
     "output_type": "display_data"
    }
   ],
   "source": [
    "# Строим график для региона- Япония\n",
    "jp_sales = df_2014.pivot_table(index = 'platform', values = 'jp_sales', aggfunc = 'sum').sort_values(by = 'jp_sales', ascending = False)\n",
    "print(jp_sales)\n",
    "s = sns.barplot(x=jp_sales.index,y=jp_sales['jp_sales'])\n",
    "s.set_xticklabels(labels = jp_sales.index, rotation=60)\n",
    "plt.title(\"Суммарные продажи на разных платформах для Японии\")\n",
    "plt.xlabel(\"Название платформы\")\n",
    "plt.ylabel(\"Количество продаж\")"
   ]
  },
  {
   "cell_type": "code",
   "execution_count": 36,
   "metadata": {},
   "outputs": [
    {
     "name": "stdout",
     "output_type": "stream",
     "text": [
      "na_sales    50.574\n",
      "dtype: float64\n",
      "eu_sales    47.184\n",
      "dtype: float64\n"
     ]
    },
    {
     "data": {
      "text/plain": [
       "jp_sales    18.466\n",
       "dtype: float64"
      ]
     },
     "execution_count": 36,
     "metadata": {},
     "output_type": "execute_result"
    }
   ],
   "source": [
    "print(na_sales.head(5).mean())\n",
    "print(eu_sales.head(5).mean())\n",
    "jp_sales.head(5).mean()\n"
   ]
  },
  {
   "cell_type": "markdown",
   "metadata": {},
   "source": [
    "Таким образом, мы видим, что для каждого региона будет свой топ-5 платформ по продажам:\n",
    "- для Северной Америки: PS4, XOne, 3DS, PS3, X360\n",
    "- для Европы: PS4, XOne, PC, 3DS, PS3 - больше предпочтений в Европе отдают платформе PlayStation (покупают 3 и 4), также предпочитают PC.\n",
    "- для Японии: 3DS, PS4, PSV, PS3, WiiU -вместо ХBox в Японии больше поддерживают своих производителей 3DS, WiiU\n",
    "\n",
    "Во всех регионах популярностью пользуются платформы PS4 и 3DS, что может сказать об их потенциальной прибыльности.\n",
    "\n",
    "Также в среднем в Северной Америке для 5 топовых платформ идет больше продаж, чем в Европе. В Японии самое малое количество продаж в среднем для 5 топовых платформ. Таким образом можжно сказать, что лучше всего игры продаются в Америке, там находится целевая аудитория"
   ]
  },
  {
   "cell_type": "markdown",
   "metadata": {},
   "source": [
    "**Выясним самые популярные жанры (топ-5) для каждого региона. Поясним разницу.**"
   ]
  },
  {
   "cell_type": "code",
   "execution_count": 37,
   "metadata": {},
   "outputs": [
    {
     "name": "stdout",
     "output_type": "stream",
     "text": [
      "              na_sales\n",
      "genre                 \n",
      "Shooter          79.02\n",
      "Action           72.53\n",
      "Sports           46.13\n",
      "Role-Playing     33.47\n",
      "Misc             15.05\n",
      "Fighting         12.43\n",
      "Racing            8.74\n",
      "Platform          6.79\n",
      "Adventure         5.64\n",
      "Simulation        2.63\n",
      "Strategy          0.98\n",
      "Puzzle            0.65\n"
     ]
    },
    {
     "data": {
      "text/plain": [
       "Text(0, 0.5, 'Количество продаж')"
      ]
     },
     "execution_count": 37,
     "metadata": {},
     "output_type": "execute_result"
    },
    {
     "data": {
      "image/png": "[encoded data removed]",
      "text/plain": [
       "<Figure size 432x288 with 1 Axes>"
      ]
     },
     "metadata": {
      "needs_background": "light"
     },
     "output_type": "display_data"
    }
   ],
   "source": [
    "# Топ продаж по жанрам в Северной Америке\n",
    "genre_sales_region = df_2014.pivot_table(index = 'genre', values = 'na_sales', aggfunc = 'sum').sort_values(by = 'na_sales', ascending = False)\n",
    "print(genre_sales_region)\n",
    "g = sns.barplot(x=genre_sales_region.index,y=genre_sales_region['na_sales'])\n",
    "g.set_xticklabels(labels = genre_sales_region.index, rotation=30)\n",
    "plt.title(\"Суммарные продажи по разным жанрам в Северной Америке\")\n",
    "plt.xlabel(\"Название жанра\")\n",
    "plt.ylabel(\"Количество продаж\")"
   ]
  },
  {
   "cell_type": "code",
   "execution_count": 38,
   "metadata": {},
   "outputs": [
    {
     "name": "stdout",
     "output_type": "stream",
     "text": [
      "              eu_sales\n",
      "genre                 \n",
      "Action           74.68\n",
      "Shooter          65.52\n",
      "Sports           45.73\n",
      "Role-Playing     28.17\n",
      "Racing           14.13\n",
      "Misc             12.86\n",
      "Simulation        7.30\n",
      "Platform          6.80\n",
      "Fighting          6.69\n",
      "Adventure         6.49\n",
      "Strategy          1.79\n",
      "Puzzle            0.52\n"
     ]
    },
    {
     "data": {
      "text/plain": [
       "Text(0, 0.5, 'Количество продаж')"
      ]
     },
     "execution_count": 38,
     "metadata": {},
     "output_type": "execute_result"
    },
    {
     "data": {
      "image/png": "[encoded data removed]",
      "text/plain": [
       "<Figure size 432x288 with 1 Axes>"
      ]
     },
     "metadata": {
      "needs_background": "light"
     },
     "output_type": "display_data"
    }
   ],
   "source": [
    "# Топ продаж по жанрам в Европе\n",
    "genre_sales_region = df_2014.pivot_table(index = 'genre', values = 'eu_sales', aggfunc = 'sum').sort_values(by = 'eu_sales', ascending = False)\n",
    "print(genre_sales_region)\n",
    "g = sns.barplot(x=genre_sales_region.index,y=genre_sales_region['eu_sales'])\n",
    "g.set_xticklabels(labels = genre_sales_region.index, rotation=30)\n",
    "plt.title(\"Суммарные продажи по разным жанрам в Европе\")\n",
    "plt.xlabel(\"Название жанра\")\n",
    "plt.ylabel(\"Количество продаж\")"
   ]
  },
  {
   "cell_type": "code",
   "execution_count": 39,
   "metadata": {},
   "outputs": [
    {
     "name": "stdout",
     "output_type": "stream",
     "text": [
      "              jp_sales\n",
      "genre                 \n",
      "Role-Playing     31.16\n",
      "Action           29.58\n",
      "Fighting          6.37\n",
      "Misc              5.61\n",
      "Shooter           4.87\n",
      "Adventure         3.60\n",
      "Sports            3.26\n",
      "Platform          2.69\n",
      "Simulation        2.31\n",
      "Racing            1.76\n",
      "Strategy          0.95\n",
      "Puzzle            0.93\n"
     ]
    },
    {
     "data": {
      "text/plain": [
       "Text(0, 0.5, 'Количество продаж')"
      ]
     },
     "execution_count": 39,
     "metadata": {},
     "output_type": "execute_result"
    },
    {
     "data": {
      "image/png": "[encoded data removed]",
      "text/plain": [
       "<Figure size 432x288 with 1 Axes>"
      ]
     },
     "metadata": {
      "needs_background": "light"
     },
     "output_type": "display_data"
    }
   ],
   "source": [
    "# Топ продаж по жанрам в Японии\n",
    "genre_sales_region = df_2014.pivot_table(index = 'genre', values = 'jp_sales', aggfunc = 'sum').sort_values(by = 'jp_sales', ascending = False)\n",
    "print(genre_sales_region)\n",
    "g = sns.barplot(x=genre_sales_region.index,y=genre_sales_region['jp_sales'])\n",
    "g.set_xticklabels(labels = genre_sales_region.index, rotation=40)\n",
    "plt.title(\"Суммарные продажи по разным жанрам в Японии\")\n",
    "plt.xlabel(\"Название жанра\")\n",
    "plt.ylabel(\"Количество продаж\")"
   ]
  },
  {
   "cell_type": "markdown",
   "metadata": {},
   "source": [
    "Таким образом, мы видим, что для каждого региона будет свой топ-5 жанров по продажам:\n",
    "\n",
    "- для Северной Америки популярными жанрами являются: Action, Sports, Shooter, Role-Playing, Misc   \n",
    "- для Европы популярные жанры почти такие же как и в Америке: Action, Sports, Shooter, Racing, Role-Playing - вместо аркадных игр в Европе больше любят гонки\n",
    "- для Японии популярными жанрами являются: Role-Playing, Action, Shooter, Fighting, Misc - особое место занимает игры, в которых нужно исполнять какую-то роль, скорее всего это связано с менталитетом страны, с их предпочтениями.\n",
    "\n",
    "Во всех регионах популярностью пользуются жанры игр, типа Action, Shooter - то есть игры в которых есть много экшена, либо которые имеют элемент соревнования - спорт или аркада. Разработчикам стоит это учесть при разработке следующих игр, а также учесть потенциальный регион, где лучше продавать игру.\n",
    "\n"
   ]
  },
  {
   "cell_type": "markdown",
   "metadata": {},
   "source": [
    "**Влияет ли рейтинг ESRB на продажи в отдельном регионе?**"
   ]
  },
  {
   "cell_type": "code",
   "execution_count": 40,
   "metadata": {},
   "outputs": [
    {
     "data": {
      "text/html": [
       "<div>\n",
       "<style scoped>\n",
       "    .dataframe tbody tr th:only-of-type {\n",
       "        vertical-align: middle;\n",
       "    }\n",
       "\n",
       "    .dataframe tbody tr th {\n",
       "        vertical-align: top;\n",
       "    }\n",
       "\n",
       "    .dataframe thead th {\n",
       "        text-align: right;\n",
       "    }\n",
       "</style>\n",
       "<table border=\"1\" class=\"dataframe\">\n",
       "  <thead>\n",
       "    <tr style=\"text-align: right;\">\n",
       "      <th></th>\n",
       "      <th>name</th>\n",
       "      <th>platform</th>\n",
       "      <th>year_of_release</th>\n",
       "      <th>genre</th>\n",
       "      <th>na_sales</th>\n",
       "      <th>eu_sales</th>\n",
       "      <th>jp_sales</th>\n",
       "      <th>other_sales</th>\n",
       "      <th>critic_score</th>\n",
       "      <th>user_score</th>\n",
       "      <th>rating</th>\n",
       "      <th>total_sales</th>\n",
       "    </tr>\n",
       "  </thead>\n",
       "  <tbody>\n",
       "    <tr>\n",
       "      <td>0</td>\n",
       "      <td>Wii Sports</td>\n",
       "      <td>Wii</td>\n",
       "      <td>2006</td>\n",
       "      <td>Sports</td>\n",
       "      <td>41.36</td>\n",
       "      <td>28.96</td>\n",
       "      <td>3.77</td>\n",
       "      <td>8.45</td>\n",
       "      <td>76.0</td>\n",
       "      <td>8.0</td>\n",
       "      <td>E</td>\n",
       "      <td>82.54</td>\n",
       "    </tr>\n",
       "    <tr>\n",
       "      <td>1</td>\n",
       "      <td>Super Mario Bros.</td>\n",
       "      <td>NES</td>\n",
       "      <td>1985</td>\n",
       "      <td>Platform</td>\n",
       "      <td>29.08</td>\n",
       "      <td>3.58</td>\n",
       "      <td>6.81</td>\n",
       "      <td>0.77</td>\n",
       "      <td>NaN</td>\n",
       "      <td>NaN</td>\n",
       "      <td>NaN</td>\n",
       "      <td>40.24</td>\n",
       "    </tr>\n",
       "    <tr>\n",
       "      <td>2</td>\n",
       "      <td>Mario Kart Wii</td>\n",
       "      <td>Wii</td>\n",
       "      <td>2008</td>\n",
       "      <td>Racing</td>\n",
       "      <td>15.68</td>\n",
       "      <td>12.76</td>\n",
       "      <td>3.79</td>\n",
       "      <td>3.29</td>\n",
       "      <td>82.0</td>\n",
       "      <td>8.3</td>\n",
       "      <td>E</td>\n",
       "      <td>35.52</td>\n",
       "    </tr>\n",
       "    <tr>\n",
       "      <td>3</td>\n",
       "      <td>Wii Sports Resort</td>\n",
       "      <td>Wii</td>\n",
       "      <td>2009</td>\n",
       "      <td>Sports</td>\n",
       "      <td>15.61</td>\n",
       "      <td>10.93</td>\n",
       "      <td>3.28</td>\n",
       "      <td>2.95</td>\n",
       "      <td>80.0</td>\n",
       "      <td>8.0</td>\n",
       "      <td>E</td>\n",
       "      <td>32.77</td>\n",
       "    </tr>\n",
       "    <tr>\n",
       "      <td>4</td>\n",
       "      <td>Pokemon Red/Pokemon Blue</td>\n",
       "      <td>GB</td>\n",
       "      <td>1996</td>\n",
       "      <td>Role-Playing</td>\n",
       "      <td>11.27</td>\n",
       "      <td>8.89</td>\n",
       "      <td>10.22</td>\n",
       "      <td>1.00</td>\n",
       "      <td>NaN</td>\n",
       "      <td>NaN</td>\n",
       "      <td>NaN</td>\n",
       "      <td>31.38</td>\n",
       "    </tr>\n",
       "    <tr>\n",
       "      <td>...</td>\n",
       "      <td>...</td>\n",
       "      <td>...</td>\n",
       "      <td>...</td>\n",
       "      <td>...</td>\n",
       "      <td>...</td>\n",
       "      <td>...</td>\n",
       "      <td>...</td>\n",
       "      <td>...</td>\n",
       "      <td>...</td>\n",
       "      <td>...</td>\n",
       "      <td>...</td>\n",
       "      <td>...</td>\n",
       "    </tr>\n",
       "    <tr>\n",
       "      <td>16710</td>\n",
       "      <td>Samurai Warriors: Sanada Maru</td>\n",
       "      <td>PS3</td>\n",
       "      <td>2016</td>\n",
       "      <td>Action</td>\n",
       "      <td>0.00</td>\n",
       "      <td>0.00</td>\n",
       "      <td>0.01</td>\n",
       "      <td>0.00</td>\n",
       "      <td>NaN</td>\n",
       "      <td>NaN</td>\n",
       "      <td>NaN</td>\n",
       "      <td>0.01</td>\n",
       "    </tr>\n",
       "    <tr>\n",
       "      <td>16711</td>\n",
       "      <td>LMA Manager 2007</td>\n",
       "      <td>X360</td>\n",
       "      <td>2006</td>\n",
       "      <td>Sports</td>\n",
       "      <td>0.00</td>\n",
       "      <td>0.01</td>\n",
       "      <td>0.00</td>\n",
       "      <td>0.00</td>\n",
       "      <td>NaN</td>\n",
       "      <td>NaN</td>\n",
       "      <td>NaN</td>\n",
       "      <td>0.01</td>\n",
       "    </tr>\n",
       "    <tr>\n",
       "      <td>16712</td>\n",
       "      <td>Haitaka no Psychedelica</td>\n",
       "      <td>PSV</td>\n",
       "      <td>2016</td>\n",
       "      <td>Adventure</td>\n",
       "      <td>0.00</td>\n",
       "      <td>0.00</td>\n",
       "      <td>0.01</td>\n",
       "      <td>0.00</td>\n",
       "      <td>NaN</td>\n",
       "      <td>NaN</td>\n",
       "      <td>NaN</td>\n",
       "      <td>0.01</td>\n",
       "    </tr>\n",
       "    <tr>\n",
       "      <td>16713</td>\n",
       "      <td>Spirits &amp; Spells</td>\n",
       "      <td>GBA</td>\n",
       "      <td>2003</td>\n",
       "      <td>Platform</td>\n",
       "      <td>0.01</td>\n",
       "      <td>0.00</td>\n",
       "      <td>0.00</td>\n",
       "      <td>0.00</td>\n",
       "      <td>NaN</td>\n",
       "      <td>NaN</td>\n",
       "      <td>NaN</td>\n",
       "      <td>0.01</td>\n",
       "    </tr>\n",
       "    <tr>\n",
       "      <td>16714</td>\n",
       "      <td>Winning Post 8 2016</td>\n",
       "      <td>PSV</td>\n",
       "      <td>2016</td>\n",
       "      <td>Simulation</td>\n",
       "      <td>0.00</td>\n",
       "      <td>0.00</td>\n",
       "      <td>0.01</td>\n",
       "      <td>0.00</td>\n",
       "      <td>NaN</td>\n",
       "      <td>NaN</td>\n",
       "      <td>NaN</td>\n",
       "      <td>0.01</td>\n",
       "    </tr>\n",
       "  </tbody>\n",
       "</table>\n",
       "<p>16600 rows × 12 columns</p>\n",
       "</div>"
      ],
      "text/plain": [
       "                                name platform  year_of_release         genre  \\\n",
       "0                         Wii Sports      Wii             2006        Sports   \n",
       "1                  Super Mario Bros.      NES             1985      Platform   \n",
       "2                     Mario Kart Wii      Wii             2008        Racing   \n",
       "3                  Wii Sports Resort      Wii             2009        Sports   \n",
       "4           Pokemon Red/Pokemon Blue       GB             1996  Role-Playing   \n",
       "...                              ...      ...              ...           ...   \n",
       "16710  Samurai Warriors: Sanada Maru      PS3             2016        Action   \n",
       "16711               LMA Manager 2007     X360             2006        Sports   \n",
       "16712        Haitaka no Psychedelica      PSV             2016     Adventure   \n",
       "16713               Spirits & Spells      GBA             2003      Platform   \n",
       "16714            Winning Post 8 2016      PSV             2016    Simulation   \n",
       "\n",
       "       na_sales  eu_sales  jp_sales  other_sales  critic_score  user_score  \\\n",
       "0         41.36     28.96      3.77         8.45          76.0         8.0   \n",
       "1         29.08      3.58      6.81         0.77           NaN         NaN   \n",
       "2         15.68     12.76      3.79         3.29          82.0         8.3   \n",
       "3         15.61     10.93      3.28         2.95          80.0         8.0   \n",
       "4         11.27      8.89     10.22         1.00           NaN         NaN   \n",
       "...         ...       ...       ...          ...           ...         ...   \n",
       "16710      0.00      0.00      0.01         0.00           NaN         NaN   \n",
       "16711      0.00      0.01      0.00         0.00           NaN         NaN   \n",
       "16712      0.00      0.00      0.01         0.00           NaN         NaN   \n",
       "16713      0.01      0.00      0.00         0.00           NaN         NaN   \n",
       "16714      0.00      0.00      0.01         0.00           NaN         NaN   \n",
       "\n",
       "      rating  total_sales  \n",
       "0          E        82.54  \n",
       "1        NaN        40.24  \n",
       "2          E        35.52  \n",
       "3          E        32.77  \n",
       "4        NaN        31.38  \n",
       "...      ...          ...  \n",
       "16710    NaN         0.01  \n",
       "16711    NaN         0.01  \n",
       "16712    NaN         0.01  \n",
       "16713    NaN         0.01  \n",
       "16714    NaN         0.01  \n",
       "\n",
       "[16600 rows x 12 columns]"
      ]
     },
     "execution_count": 40,
     "metadata": {},
     "output_type": "execute_result"
    }
   ],
   "source": [
    "df"
   ]
  },
  {
   "cell_type": "markdown",
   "metadata": {},
   "source": [
    "Проверим пропущенные значения в столбце рейтинга игр, чтобы не упустить важную информацию."
   ]
  },
  {
   "cell_type": "code",
   "execution_count": 41,
   "metadata": {},
   "outputs": [
    {
     "data": {
      "text/html": [
       "<div>\n",
       "<style scoped>\n",
       "    .dataframe tbody tr th:only-of-type {\n",
       "        vertical-align: middle;\n",
       "    }\n",
       "\n",
       "    .dataframe tbody tr th {\n",
       "        vertical-align: top;\n",
       "    }\n",
       "\n",
       "    .dataframe thead th {\n",
       "        text-align: right;\n",
       "    }\n",
       "</style>\n",
       "<table border=\"1\" class=\"dataframe\">\n",
       "  <thead>\n",
       "    <tr style=\"text-align: right;\">\n",
       "      <th></th>\n",
       "      <th>name</th>\n",
       "      <th>platform</th>\n",
       "      <th>year_of_release</th>\n",
       "      <th>genre</th>\n",
       "      <th>na_sales</th>\n",
       "      <th>eu_sales</th>\n",
       "      <th>jp_sales</th>\n",
       "      <th>other_sales</th>\n",
       "      <th>critic_score</th>\n",
       "      <th>user_score</th>\n",
       "      <th>rating</th>\n",
       "      <th>total_sales</th>\n",
       "    </tr>\n",
       "  </thead>\n",
       "  <tbody>\n",
       "    <tr>\n",
       "      <td>31</td>\n",
       "      <td>Call of Duty: Black Ops 3</td>\n",
       "      <td>PS4</td>\n",
       "      <td>2015</td>\n",
       "      <td>Shooter</td>\n",
       "      <td>6.03</td>\n",
       "      <td>5.86</td>\n",
       "      <td>0.36</td>\n",
       "      <td>2.38</td>\n",
       "      <td>NaN</td>\n",
       "      <td>NaN</td>\n",
       "      <td>NaN</td>\n",
       "      <td>14.63</td>\n",
       "    </tr>\n",
       "    <tr>\n",
       "      <td>47</td>\n",
       "      <td>Pokemon Omega Ruby/Pokemon Alpha Sapphire</td>\n",
       "      <td>3DS</td>\n",
       "      <td>2014</td>\n",
       "      <td>Role-Playing</td>\n",
       "      <td>4.35</td>\n",
       "      <td>3.49</td>\n",
       "      <td>3.10</td>\n",
       "      <td>0.74</td>\n",
       "      <td>NaN</td>\n",
       "      <td>NaN</td>\n",
       "      <td>NaN</td>\n",
       "      <td>11.68</td>\n",
       "    </tr>\n",
       "    <tr>\n",
       "      <td>87</td>\n",
       "      <td>Star Wars Battlefront (2015)</td>\n",
       "      <td>PS4</td>\n",
       "      <td>2015</td>\n",
       "      <td>Shooter</td>\n",
       "      <td>2.99</td>\n",
       "      <td>3.49</td>\n",
       "      <td>0.22</td>\n",
       "      <td>1.28</td>\n",
       "      <td>NaN</td>\n",
       "      <td>NaN</td>\n",
       "      <td>NaN</td>\n",
       "      <td>7.98</td>\n",
       "    </tr>\n",
       "    <tr>\n",
       "      <td>96</td>\n",
       "      <td>Super Smash Bros. for Wii U and 3DS</td>\n",
       "      <td>3DS</td>\n",
       "      <td>2014</td>\n",
       "      <td>Fighting</td>\n",
       "      <td>3.27</td>\n",
       "      <td>1.37</td>\n",
       "      <td>2.43</td>\n",
       "      <td>0.48</td>\n",
       "      <td>NaN</td>\n",
       "      <td>NaN</td>\n",
       "      <td>NaN</td>\n",
       "      <td>7.55</td>\n",
       "    </tr>\n",
       "    <tr>\n",
       "      <td>99</td>\n",
       "      <td>Call of Duty: Black Ops 3</td>\n",
       "      <td>XOne</td>\n",
       "      <td>2015</td>\n",
       "      <td>Shooter</td>\n",
       "      <td>4.59</td>\n",
       "      <td>2.11</td>\n",
       "      <td>0.01</td>\n",
       "      <td>0.68</td>\n",
       "      <td>NaN</td>\n",
       "      <td>NaN</td>\n",
       "      <td>NaN</td>\n",
       "      <td>7.39</td>\n",
       "    </tr>\n",
       "    <tr>\n",
       "      <td>...</td>\n",
       "      <td>...</td>\n",
       "      <td>...</td>\n",
       "      <td>...</td>\n",
       "      <td>...</td>\n",
       "      <td>...</td>\n",
       "      <td>...</td>\n",
       "      <td>...</td>\n",
       "      <td>...</td>\n",
       "      <td>...</td>\n",
       "      <td>...</td>\n",
       "      <td>...</td>\n",
       "      <td>...</td>\n",
       "    </tr>\n",
       "    <tr>\n",
       "      <td>16703</td>\n",
       "      <td>Strawberry Nauts</td>\n",
       "      <td>PSV</td>\n",
       "      <td>2016</td>\n",
       "      <td>Adventure</td>\n",
       "      <td>0.00</td>\n",
       "      <td>0.00</td>\n",
       "      <td>0.01</td>\n",
       "      <td>0.00</td>\n",
       "      <td>NaN</td>\n",
       "      <td>NaN</td>\n",
       "      <td>NaN</td>\n",
       "      <td>0.01</td>\n",
       "    </tr>\n",
       "    <tr>\n",
       "      <td>16707</td>\n",
       "      <td>Aiyoku no Eustia</td>\n",
       "      <td>PSV</td>\n",
       "      <td>2014</td>\n",
       "      <td>Misc</td>\n",
       "      <td>0.00</td>\n",
       "      <td>0.00</td>\n",
       "      <td>0.01</td>\n",
       "      <td>0.00</td>\n",
       "      <td>NaN</td>\n",
       "      <td>NaN</td>\n",
       "      <td>NaN</td>\n",
       "      <td>0.01</td>\n",
       "    </tr>\n",
       "    <tr>\n",
       "      <td>16710</td>\n",
       "      <td>Samurai Warriors: Sanada Maru</td>\n",
       "      <td>PS3</td>\n",
       "      <td>2016</td>\n",
       "      <td>Action</td>\n",
       "      <td>0.00</td>\n",
       "      <td>0.00</td>\n",
       "      <td>0.01</td>\n",
       "      <td>0.00</td>\n",
       "      <td>NaN</td>\n",
       "      <td>NaN</td>\n",
       "      <td>NaN</td>\n",
       "      <td>0.01</td>\n",
       "    </tr>\n",
       "    <tr>\n",
       "      <td>16712</td>\n",
       "      <td>Haitaka no Psychedelica</td>\n",
       "      <td>PSV</td>\n",
       "      <td>2016</td>\n",
       "      <td>Adventure</td>\n",
       "      <td>0.00</td>\n",
       "      <td>0.00</td>\n",
       "      <td>0.01</td>\n",
       "      <td>0.00</td>\n",
       "      <td>NaN</td>\n",
       "      <td>NaN</td>\n",
       "      <td>NaN</td>\n",
       "      <td>0.01</td>\n",
       "    </tr>\n",
       "    <tr>\n",
       "      <td>16714</td>\n",
       "      <td>Winning Post 8 2016</td>\n",
       "      <td>PSV</td>\n",
       "      <td>2016</td>\n",
       "      <td>Simulation</td>\n",
       "      <td>0.00</td>\n",
       "      <td>0.00</td>\n",
       "      <td>0.01</td>\n",
       "      <td>0.00</td>\n",
       "      <td>NaN</td>\n",
       "      <td>NaN</td>\n",
       "      <td>NaN</td>\n",
       "      <td>0.01</td>\n",
       "    </tr>\n",
       "  </tbody>\n",
       "</table>\n",
       "<p>749 rows × 12 columns</p>\n",
       "</div>"
      ],
      "text/plain": [
       "                                            name platform  year_of_release  \\\n",
       "31                     Call of Duty: Black Ops 3      PS4             2015   \n",
       "47     Pokemon Omega Ruby/Pokemon Alpha Sapphire      3DS             2014   \n",
       "87                  Star Wars Battlefront (2015)      PS4             2015   \n",
       "96           Super Smash Bros. for Wii U and 3DS      3DS             2014   \n",
       "99                     Call of Duty: Black Ops 3     XOne             2015   \n",
       "...                                          ...      ...              ...   \n",
       "16703                           Strawberry Nauts      PSV             2016   \n",
       "16707                           Aiyoku no Eustia      PSV             2014   \n",
       "16710              Samurai Warriors: Sanada Maru      PS3             2016   \n",
       "16712                    Haitaka no Psychedelica      PSV             2016   \n",
       "16714                        Winning Post 8 2016      PSV             2016   \n",
       "\n",
       "              genre  na_sales  eu_sales  jp_sales  other_sales  critic_score  \\\n",
       "31          Shooter      6.03      5.86      0.36         2.38           NaN   \n",
       "47     Role-Playing      4.35      3.49      3.10         0.74           NaN   \n",
       "87          Shooter      2.99      3.49      0.22         1.28           NaN   \n",
       "96         Fighting      3.27      1.37      2.43         0.48           NaN   \n",
       "99          Shooter      4.59      2.11      0.01         0.68           NaN   \n",
       "...             ...       ...       ...       ...          ...           ...   \n",
       "16703     Adventure      0.00      0.00      0.01         0.00           NaN   \n",
       "16707          Misc      0.00      0.00      0.01         0.00           NaN   \n",
       "16710        Action      0.00      0.00      0.01         0.00           NaN   \n",
       "16712     Adventure      0.00      0.00      0.01         0.00           NaN   \n",
       "16714    Simulation      0.00      0.00      0.01         0.00           NaN   \n",
       "\n",
       "       user_score rating  total_sales  \n",
       "31            NaN    NaN        14.63  \n",
       "47            NaN    NaN        11.68  \n",
       "87            NaN    NaN         7.98  \n",
       "96            NaN    NaN         7.55  \n",
       "99            NaN    NaN         7.39  \n",
       "...           ...    ...          ...  \n",
       "16703         NaN    NaN         0.01  \n",
       "16707         NaN    NaN         0.01  \n",
       "16710         NaN    NaN         0.01  \n",
       "16712         NaN    NaN         0.01  \n",
       "16714         NaN    NaN         0.01  \n",
       "\n",
       "[749 rows x 12 columns]"
      ]
     },
     "execution_count": 41,
     "metadata": {},
     "output_type": "execute_result"
    }
   ],
   "source": [
    "df_2014[df_2014['rating'].isnull()]"
   ]
  },
  {
   "cell_type": "markdown",
   "metadata": {},
   "source": [
    "513 игр были выпущены без рейтинга или оценки от критиков, но при этом они имели продажи, поэтому заменим пропущенные значения на рейтинг RP - еще не поставленный рейтинг."
   ]
  },
  {
   "cell_type": "code",
   "execution_count": 42,
   "metadata": {},
   "outputs": [
    {
     "name": "stderr",
     "output_type": "stream",
     "text": [
      "/opt/conda/lib/python3.7/site-packages/ipykernel_launcher.py:1: SettingWithCopyWarning: \n",
      "A value is trying to be set on a copy of a slice from a DataFrame.\n",
      "Try using .loc[row_indexer,col_indexer] = value instead\n",
      "\n",
      "See the caveats in the documentation: http://pandas.pydata.org/pandas-docs/stable/user_guide/indexing.html#returning-a-view-versus-a-copy\n",
      "  \"\"\"Entry point for launching an IPython kernel.\n"
     ]
    }
   ],
   "source": [
    "df_2014['rating'] = df_2014['rating'].replace(df_2014[df_2014['rating'].isnull()]['rating'], \"RP\")\n"
   ]
  },
  {
   "cell_type": "markdown",
   "metadata": {},
   "source": [
    "Таким образом пропущенные значения были заменены на рейтинг RP."
   ]
  },
  {
   "cell_type": "code",
   "execution_count": 43,
   "metadata": {},
   "outputs": [
    {
     "data": {
      "text/html": [
       "<div>\n",
       "<style scoped>\n",
       "    .dataframe tbody tr th:only-of-type {\n",
       "        vertical-align: middle;\n",
       "    }\n",
       "\n",
       "    .dataframe tbody tr th {\n",
       "        vertical-align: top;\n",
       "    }\n",
       "\n",
       "    .dataframe thead th {\n",
       "        text-align: right;\n",
       "    }\n",
       "</style>\n",
       "<table border=\"1\" class=\"dataframe\">\n",
       "  <thead>\n",
       "    <tr style=\"text-align: right;\">\n",
       "      <th></th>\n",
       "      <th>name</th>\n",
       "      <th>platform</th>\n",
       "      <th>year_of_release</th>\n",
       "      <th>genre</th>\n",
       "      <th>na_sales</th>\n",
       "      <th>eu_sales</th>\n",
       "      <th>jp_sales</th>\n",
       "      <th>other_sales</th>\n",
       "      <th>critic_score</th>\n",
       "      <th>user_score</th>\n",
       "      <th>rating</th>\n",
       "      <th>total_sales</th>\n",
       "    </tr>\n",
       "  </thead>\n",
       "  <tbody>\n",
       "    <tr>\n",
       "      <td>31</td>\n",
       "      <td>Call of Duty: Black Ops 3</td>\n",
       "      <td>PS4</td>\n",
       "      <td>2015</td>\n",
       "      <td>Shooter</td>\n",
       "      <td>6.03</td>\n",
       "      <td>5.86</td>\n",
       "      <td>0.36</td>\n",
       "      <td>2.38</td>\n",
       "      <td>NaN</td>\n",
       "      <td>NaN</td>\n",
       "      <td>RP</td>\n",
       "      <td>14.63</td>\n",
       "    </tr>\n",
       "    <tr>\n",
       "      <td>42</td>\n",
       "      <td>Grand Theft Auto V</td>\n",
       "      <td>PS4</td>\n",
       "      <td>2014</td>\n",
       "      <td>Action</td>\n",
       "      <td>3.96</td>\n",
       "      <td>6.31</td>\n",
       "      <td>0.38</td>\n",
       "      <td>1.97</td>\n",
       "      <td>97.0</td>\n",
       "      <td>8.3</td>\n",
       "      <td>M</td>\n",
       "      <td>12.62</td>\n",
       "    </tr>\n",
       "    <tr>\n",
       "      <td>47</td>\n",
       "      <td>Pokemon Omega Ruby/Pokemon Alpha Sapphire</td>\n",
       "      <td>3DS</td>\n",
       "      <td>2014</td>\n",
       "      <td>Role-Playing</td>\n",
       "      <td>4.35</td>\n",
       "      <td>3.49</td>\n",
       "      <td>3.10</td>\n",
       "      <td>0.74</td>\n",
       "      <td>NaN</td>\n",
       "      <td>NaN</td>\n",
       "      <td>RP</td>\n",
       "      <td>11.68</td>\n",
       "    </tr>\n",
       "    <tr>\n",
       "      <td>77</td>\n",
       "      <td>FIFA 16</td>\n",
       "      <td>PS4</td>\n",
       "      <td>2015</td>\n",
       "      <td>Sports</td>\n",
       "      <td>1.12</td>\n",
       "      <td>6.12</td>\n",
       "      <td>0.06</td>\n",
       "      <td>1.28</td>\n",
       "      <td>82.0</td>\n",
       "      <td>4.3</td>\n",
       "      <td>E</td>\n",
       "      <td>8.58</td>\n",
       "    </tr>\n",
       "    <tr>\n",
       "      <td>87</td>\n",
       "      <td>Star Wars Battlefront (2015)</td>\n",
       "      <td>PS4</td>\n",
       "      <td>2015</td>\n",
       "      <td>Shooter</td>\n",
       "      <td>2.99</td>\n",
       "      <td>3.49</td>\n",
       "      <td>0.22</td>\n",
       "      <td>1.28</td>\n",
       "      <td>NaN</td>\n",
       "      <td>NaN</td>\n",
       "      <td>RP</td>\n",
       "      <td>7.98</td>\n",
       "    </tr>\n",
       "    <tr>\n",
       "      <td>...</td>\n",
       "      <td>...</td>\n",
       "      <td>...</td>\n",
       "      <td>...</td>\n",
       "      <td>...</td>\n",
       "      <td>...</td>\n",
       "      <td>...</td>\n",
       "      <td>...</td>\n",
       "      <td>...</td>\n",
       "      <td>...</td>\n",
       "      <td>...</td>\n",
       "      <td>...</td>\n",
       "      <td>...</td>\n",
       "    </tr>\n",
       "    <tr>\n",
       "      <td>16703</td>\n",
       "      <td>Strawberry Nauts</td>\n",
       "      <td>PSV</td>\n",
       "      <td>2016</td>\n",
       "      <td>Adventure</td>\n",
       "      <td>0.00</td>\n",
       "      <td>0.00</td>\n",
       "      <td>0.01</td>\n",
       "      <td>0.00</td>\n",
       "      <td>NaN</td>\n",
       "      <td>NaN</td>\n",
       "      <td>RP</td>\n",
       "      <td>0.01</td>\n",
       "    </tr>\n",
       "    <tr>\n",
       "      <td>16707</td>\n",
       "      <td>Aiyoku no Eustia</td>\n",
       "      <td>PSV</td>\n",
       "      <td>2014</td>\n",
       "      <td>Misc</td>\n",
       "      <td>0.00</td>\n",
       "      <td>0.00</td>\n",
       "      <td>0.01</td>\n",
       "      <td>0.00</td>\n",
       "      <td>NaN</td>\n",
       "      <td>NaN</td>\n",
       "      <td>RP</td>\n",
       "      <td>0.01</td>\n",
       "    </tr>\n",
       "    <tr>\n",
       "      <td>16710</td>\n",
       "      <td>Samurai Warriors: Sanada Maru</td>\n",
       "      <td>PS3</td>\n",
       "      <td>2016</td>\n",
       "      <td>Action</td>\n",
       "      <td>0.00</td>\n",
       "      <td>0.00</td>\n",
       "      <td>0.01</td>\n",
       "      <td>0.00</td>\n",
       "      <td>NaN</td>\n",
       "      <td>NaN</td>\n",
       "      <td>RP</td>\n",
       "      <td>0.01</td>\n",
       "    </tr>\n",
       "    <tr>\n",
       "      <td>16712</td>\n",
       "      <td>Haitaka no Psychedelica</td>\n",
       "      <td>PSV</td>\n",
       "      <td>2016</td>\n",
       "      <td>Adventure</td>\n",
       "      <td>0.00</td>\n",
       "      <td>0.00</td>\n",
       "      <td>0.01</td>\n",
       "      <td>0.00</td>\n",
       "      <td>NaN</td>\n",
       "      <td>NaN</td>\n",
       "      <td>RP</td>\n",
       "      <td>0.01</td>\n",
       "    </tr>\n",
       "    <tr>\n",
       "      <td>16714</td>\n",
       "      <td>Winning Post 8 2016</td>\n",
       "      <td>PSV</td>\n",
       "      <td>2016</td>\n",
       "      <td>Simulation</td>\n",
       "      <td>0.00</td>\n",
       "      <td>0.00</td>\n",
       "      <td>0.01</td>\n",
       "      <td>0.00</td>\n",
       "      <td>NaN</td>\n",
       "      <td>NaN</td>\n",
       "      <td>RP</td>\n",
       "      <td>0.01</td>\n",
       "    </tr>\n",
       "  </tbody>\n",
       "</table>\n",
       "<p>1689 rows × 12 columns</p>\n",
       "</div>"
      ],
      "text/plain": [
       "                                            name platform  year_of_release  \\\n",
       "31                     Call of Duty: Black Ops 3      PS4             2015   \n",
       "42                            Grand Theft Auto V      PS4             2014   \n",
       "47     Pokemon Omega Ruby/Pokemon Alpha Sapphire      3DS             2014   \n",
       "77                                       FIFA 16      PS4             2015   \n",
       "87                  Star Wars Battlefront (2015)      PS4             2015   \n",
       "...                                          ...      ...              ...   \n",
       "16703                           Strawberry Nauts      PSV             2016   \n",
       "16707                           Aiyoku no Eustia      PSV             2014   \n",
       "16710              Samurai Warriors: Sanada Maru      PS3             2016   \n",
       "16712                    Haitaka no Psychedelica      PSV             2016   \n",
       "16714                        Winning Post 8 2016      PSV             2016   \n",
       "\n",
       "              genre  na_sales  eu_sales  jp_sales  other_sales  critic_score  \\\n",
       "31          Shooter      6.03      5.86      0.36         2.38           NaN   \n",
       "42           Action      3.96      6.31      0.38         1.97          97.0   \n",
       "47     Role-Playing      4.35      3.49      3.10         0.74           NaN   \n",
       "77           Sports      1.12      6.12      0.06         1.28          82.0   \n",
       "87          Shooter      2.99      3.49      0.22         1.28           NaN   \n",
       "...             ...       ...       ...       ...          ...           ...   \n",
       "16703     Adventure      0.00      0.00      0.01         0.00           NaN   \n",
       "16707          Misc      0.00      0.00      0.01         0.00           NaN   \n",
       "16710        Action      0.00      0.00      0.01         0.00           NaN   \n",
       "16712     Adventure      0.00      0.00      0.01         0.00           NaN   \n",
       "16714    Simulation      0.00      0.00      0.01         0.00           NaN   \n",
       "\n",
       "       user_score rating  total_sales  \n",
       "31            NaN     RP        14.63  \n",
       "42            8.3      M        12.62  \n",
       "47            NaN     RP        11.68  \n",
       "77            4.3      E         8.58  \n",
       "87            NaN     RP         7.98  \n",
       "...           ...    ...          ...  \n",
       "16703         NaN     RP         0.01  \n",
       "16707         NaN     RP         0.01  \n",
       "16710         NaN     RP         0.01  \n",
       "16712         NaN     RP         0.01  \n",
       "16714         NaN     RP         0.01  \n",
       "\n",
       "[1689 rows x 12 columns]"
      ]
     },
     "execution_count": 43,
     "metadata": {},
     "output_type": "execute_result"
    }
   ],
   "source": [
    "df_2014"
   ]
  },
  {
   "cell_type": "code",
   "execution_count": 44,
   "metadata": {},
   "outputs": [
    {
     "name": "stdout",
     "output_type": "stream",
     "text": [
      "        na_sales\n",
      "rating          \n",
      "M          96.42\n",
      "RP         64.72\n",
      "E          50.74\n",
      "T          38.95\n",
      "E10+       33.23\n"
     ]
    },
    {
     "data": {
      "text/plain": [
       "Text(0, 0.5, 'Количество продаж')"
      ]
     },
     "execution_count": 44,
     "metadata": {},
     "output_type": "execute_result"
    },
    {
     "data": {
      "image/png": "[encoded data removed]",
      "text/plain": [
       "<Figure size 432x288 with 1 Axes>"
      ]
     },
     "metadata": {
      "needs_background": "light"
     },
     "output_type": "display_data"
    }
   ],
   "source": [
    "# Продажи по рейтингу в Северной Америке\n",
    "rating_sales_region = df_2014.pivot_table(index = 'rating', values = 'na_sales', aggfunc = 'sum').sort_values(by = 'na_sales', ascending = False)\n",
    "print(rating_sales_region)\n",
    "g = sns.barplot(x=rating_sales_region.index,y=rating_sales_region['na_sales'])\n",
    "g.set_xticklabels(labels = rating_sales_region.index, rotation=40)\n",
    "plt.title(\"Суммарные продажи по разным рейтингам в Северной Америке\")\n",
    "plt.xlabel(\"Название рейтинга\")\n",
    "plt.ylabel(\"Количество продаж\")"
   ]
  },
  {
   "cell_type": "code",
   "execution_count": 45,
   "metadata": {},
   "outputs": [
    {
     "name": "stdout",
     "output_type": "stream",
     "text": [
      "        eu_sales\n",
      "rating          \n",
      "M          93.44\n",
      "RP         58.95\n",
      "E          58.06\n",
      "T          34.07\n",
      "E10+       26.16\n"
     ]
    },
    {
     "data": {
      "text/plain": [
       "Text(0, 0.5, 'Количество продаж')"
      ]
     },
     "execution_count": 45,
     "metadata": {},
     "output_type": "execute_result"
    },
    {
     "data": {
      "image/png": "[encoded data removed]",
      "text/plain": [
       "<Figure size 432x288 with 1 Axes>"
      ]
     },
     "metadata": {
      "needs_background": "light"
     },
     "output_type": "display_data"
    }
   ],
   "source": [
    "# Продажи по рейтингу в Европе\n",
    "rating_sales_region = df_2014.pivot_table(index = 'rating', values = 'eu_sales', aggfunc = 'sum').sort_values(by = 'eu_sales', ascending = False)\n",
    "print(rating_sales_region)\n",
    "g = sns.barplot(x=rating_sales_region.index,y=rating_sales_region['eu_sales'])\n",
    "g.set_xticklabels(labels = rating_sales_region.index, rotation=40)\n",
    "plt.title(\"Суммарные продажи по разным рейтингам в Европе\")\n",
    "plt.xlabel(\"Название рейтинга\")\n",
    "plt.ylabel(\"Количество продаж\")"
   ]
  },
  {
   "cell_type": "code",
   "execution_count": 46,
   "metadata": {},
   "outputs": [
    {
     "name": "stdout",
     "output_type": "stream",
     "text": [
      "        jp_sales\n",
      "rating          \n",
      "RP         56.90\n",
      "T          14.78\n",
      "E           8.94\n",
      "M           8.01\n",
      "E10+        4.46\n"
     ]
    },
    {
     "data": {
      "text/plain": [
       "Text(0, 0.5, 'Количество продаж')"
      ]
     },
     "execution_count": 46,
     "metadata": {},
     "output_type": "execute_result"
    },
    {
     "data": {
      "image/png": "[encoded data removed]",
      "text/plain": [
       "<Figure size 432x288 with 1 Axes>"
      ]
     },
     "metadata": {
      "needs_background": "light"
     },
     "output_type": "display_data"
    }
   ],
   "source": [
    "# Продажи по рейтингу в Японии\n",
    "rating_sales_region = df_2014.pivot_table(index = 'rating', values = 'jp_sales', aggfunc = 'sum').sort_values(by = 'jp_sales', ascending = False)\n",
    "print(rating_sales_region)\n",
    "g = sns.barplot(x=rating_sales_region.index,y=rating_sales_region['jp_sales'])\n",
    "g.set_xticklabels(labels = rating_sales_region.index, rotation=40)\n",
    "plt.title(\"Суммарные продажи по разным рейтингам в Японии\")\n",
    "plt.xlabel(\"Название рейтинга\")\n",
    "plt.ylabel(\"Количество продаж\")"
   ]
  },
  {
   "cell_type": "markdown",
   "metadata": {},
   "source": [
    "Таким образом, мы видим, что для каждого региона продажи в зависимсоти от рейтинга особо не отличаются: \n",
    "\n",
    "- больше всего продаются игры с рейтингами: E10+, T, M, E, т.е. игры для детей старше 10, для подростков и для зрелых людей (M), старше 17. Данные игры почти не содержат насилия, кроме рейтинга M и T, но даже тут в умеренных количествах. В Северной Америке и в Европе игры с рейтингом T и M продаются одинаково, однако для Японии для подростков продается больше игр.\n",
    "- Игры с рейтингом RP - это игры, которым еще не поставили рейтинг. Однако для Северной Америки и для Европы продажи по этим играм находятся на втором месте, а для Японии на первом месте. Возможно люди уже знают про эти игры, или это вторая часть популярной игры и люди покупают эти игры, несмотря на то, что рейтинг официально еще не поставили. Возможно данные игры покупают, чтобы успеть поиграть до того, как поставят рейтинг и уже нельзя будет ее купить определенной категории людей.\n",
    "\n",
    "\n"
   ]
  },
  {
   "cell_type": "code",
   "execution_count": 47,
   "metadata": {},
   "outputs": [
    {
     "name": "stdout",
     "output_type": "stream",
     "text": [
      "        na_sales\n",
      "rating          \n",
      "M          96.42\n",
      "RP         64.72\n",
      "E          50.74\n",
      "T          38.95\n",
      "E10+       33.23\n"
     ]
    },
    {
     "data": {
      "text/plain": [
       "Text(0, 0.5, 'Количество продаж')"
      ]
     },
     "execution_count": 47,
     "metadata": {},
     "output_type": "execute_result"
    },
    {
     "data": {
      "image/png": "[encoded data removed]",
      "text/plain": [
       "<Figure size 432x288 with 1 Axes>"
      ]
     },
     "metadata": {
      "needs_background": "light"
     },
     "output_type": "display_data"
    }
   ],
   "source": [
    "# Продажи по рейтингу в Северной Америке\n",
    "df_am_eu_2014 = df_2014.drop(['jp_sales'], axis = 1)\n",
    "rating_sales_region = df_2014.pivot_table(index = 'rating', values = 'na_sales', aggfunc = 'sum').sort_values(by = 'na_sales', ascending = False)\n",
    "print(rating_sales_region)\n",
    "g = sns.barplot(x=rating_sales_region.index,y=rating_sales_region['na_sales'])\n",
    "g.set_xticklabels(labels = rating_sales_region.index, rotation=40)\n",
    "plt.title(\"Суммарные продажи по разным рейтингам в Северной Америке\")\n",
    "plt.xlabel(\"Название рейтинга\")\n",
    "plt.ylabel(\"Количество продаж\")"
   ]
  },
  {
   "cell_type": "markdown",
   "metadata": {},
   "source": [
    "**Таким образом был составлен портрет для пользовтеля каждого региона, а именно:**\n",
    "- были выявлены самые популярные платформы в каждом регионе и сделан вывод, что для всех регионов популярными платформами являются PS4 и 3DS, также в Японии больше поддерживают платформы своего производства\n",
    "- были выявлены самые популярные жанры в каждом регионе: Action, Sports и Shooter - эти жанры присутствуют в топе для всех регионов, что может говорить о том, что данные игры потенциально прибыльны\n",
    "- была выявлена зависимость продаж от рейтинга игры:  в Европе и Америке чаще покупают игры с рейтингом M, хуже всего покупают игры для детей до 10 лет с рейтингом E10+. Также часто покупают игры, у которых еще нет официального рейтинга.\n",
    "\n",
    "В целом для Европы и Северной Америки топовые платформы, жанры игр похожи, а для Японии отличаются, поэтому нужно учитывать в каком регионе производятся продажи и какую прибыль следует ожидать."
   ]
  },
  {
   "cell_type": "markdown",
   "metadata": {},
   "source": [
    "## Проверка гипотез"
   ]
  },
  {
   "cell_type": "markdown",
   "metadata": {},
   "source": [
    "**Проверим гипотезу о том, средние пользовательские рейтинги платформ Xbox One и PC одинаковые.**\n",
    "\n",
    "В качестве H0 примем тот вариант, что средние рейтинги у данных платформ не различаются, исследуемые параметры равны, а в качестве альтернативной гипотезы скажем, что различия есть. В качестве критерия проверки гипотез выберем 95% доверительный интервал, т.е.альфа или уровень статистической значимости = 0.05. Т.е. из 500 измерений мы позволяем себе ошибиться в отвергнутой или выбранной гипотезе 25 раз."
   ]
  },
  {
   "cell_type": "code",
   "execution_count": 48,
   "metadata": {},
   "outputs": [
    {
     "name": "stdout",
     "output_type": "stream",
     "text": [
      "                                 name platform  year_of_release         genre  \\\n",
      "165                Grand Theft Auto V     XOne             2014        Action   \n",
      "179    Call of Duty: Advanced Warfare     XOne             2014       Shooter   \n",
      "242                 Halo 5: Guardians     XOne             2015       Shooter   \n",
      "270                         Fallout 4     XOne             2015  Role-Playing   \n",
      "373           Assassin's Creed: Unity     XOne             2014        Action   \n",
      "...                               ...      ...              ...           ...   \n",
      "16264                      Worms: WMD     XOne             2016        Action   \n",
      "16314     Prototype: Biohazard Bundle     XOne             2016        Action   \n",
      "16392                  Goat Simulator     XOne             2016    Simulation   \n",
      "16597     Saints Row: Gat out of Hell     XOne             2015        Action   \n",
      "16630        Sébastien Loeb Rally Evo     XOne             2016        Racing   \n",
      "\n",
      "       na_sales  eu_sales  jp_sales  other_sales  critic_score  user_score  \\\n",
      "165        2.81      2.19      0.00         0.47          97.0         7.9   \n",
      "179        3.22      1.55      0.01         0.48          81.0         5.4   \n",
      "242        2.78      1.27      0.03         0.41          84.0         6.4   \n",
      "270        2.51      1.32      0.01         0.38          88.0         6.2   \n",
      "373        2.27      0.90      0.00         0.33          72.0         4.1   \n",
      "...         ...       ...       ...          ...           ...         ...   \n",
      "16264      0.01      0.00      0.00         0.00          75.0         8.1   \n",
      "16314      0.01      0.00      0.00         0.00          56.0         3.1   \n",
      "16392      0.00      0.01      0.00         0.00          53.0         6.3   \n",
      "16597      0.00      0.01      0.00         0.00          65.0         6.0   \n",
      "16630      0.00      0.01      0.00         0.00          63.0         8.2   \n",
      "\n",
      "      rating  total_sales  \n",
      "165        M         5.47  \n",
      "179        M         5.26  \n",
      "242        T         4.49  \n",
      "270        M         4.22  \n",
      "373        M         3.50  \n",
      "...      ...          ...  \n",
      "16264   E10+         0.01  \n",
      "16314      M         0.01  \n",
      "16392      T         0.01  \n",
      "16597      M         0.01  \n",
      "16630      E         0.01  \n",
      "\n",
      "[145 rows x 12 columns]\n",
      "                                        name platform  year_of_release  \\\n",
      "458                               The Sims 4       PC             2014   \n",
      "1530                               Fallout 4       PC             2015   \n",
      "1730                      Grand Theft Auto V       PC             2015   \n",
      "2303                The Elder Scrolls Online       PC             2014   \n",
      "2784                 Dragon Age: Inquisition       PC             2014   \n",
      "...                                      ...      ...              ...   \n",
      "16201                       The Technomancer       PC             2016   \n",
      "16280  Sherlock Holmes: The Devil's Daughter       PC             2016   \n",
      "16463                       TrackMania Turbo       PC             2016   \n",
      "16509                                 Ride 2       PC             2016   \n",
      "16692      Metal Gear Solid V: Ground Zeroes       PC             2014   \n",
      "\n",
      "              genre  na_sales  eu_sales  jp_sales  other_sales  critic_score  \\\n",
      "458      Simulation      1.00      1.82       0.0         0.23          70.0   \n",
      "1530   Role-Playing      0.51      0.67       0.0         0.10          84.0   \n",
      "1730         Action      0.39      0.69       0.0         0.09          96.0   \n",
      "2303   Role-Playing      0.32      0.51       0.0         0.07          71.0   \n",
      "2784   Role-Playing      0.33      0.34       0.0         0.06          85.0   \n",
      "...             ...       ...       ...       ...          ...           ...   \n",
      "16201  Role-Playing      0.00      0.01       0.0         0.00          56.0   \n",
      "16280     Adventure      0.00      0.01       0.0         0.00          65.0   \n",
      "16463        Action      0.00      0.01       0.0         0.00          79.0   \n",
      "16509        Racing      0.00      0.01       0.0         0.00          78.0   \n",
      "16692        Action      0.00      0.01       0.0         0.00          80.0   \n",
      "\n",
      "       user_score rating  total_sales  \n",
      "458           3.9      T         3.05  \n",
      "1530          5.4      M         1.28  \n",
      "1730          7.9      M         1.17  \n",
      "2303          5.7      M         0.90  \n",
      "2784          5.9      M         0.73  \n",
      "...           ...    ...          ...  \n",
      "16201         6.8      M         0.01  \n",
      "16280         7.3      T         0.01  \n",
      "16463         6.8      E         0.01  \n",
      "16509         7.9      E         0.01  \n",
      "16692         7.6      M         0.01  \n",
      "\n",
      "[103 rows x 12 columns]\n"
     ]
    }
   ],
   "source": [
    "# Составим датасет для проверки гипотез для двух платформ\n",
    "xone = df.query('platform == \"XOne\" & year_of_release >= 2014').dropna()\n",
    "print(xone)\n",
    "pc = df.query('platform == \"PC\" & year_of_release >= 2014').dropna()\n",
    "print(pc)"
   ]
  },
  {
   "cell_type": "code",
   "execution_count": 49,
   "metadata": {},
   "outputs": [
    {
     "name": "stdout",
     "output_type": "stream",
     "text": [
      "Дисперсия платформы XOne = 1.7395526819923373\n",
      "Дисперсия платформы PC = 2.9345288406624785\n",
      "Среднее платформы XOne = 6.57448275862069\n",
      "Среднее платформы PC = 6.283495145631067\n"
     ]
    }
   ],
   "source": [
    "# считаем дисперсию для xbox и PC по отзывам, для того, чтобы понять применять ли equal_var или нет. Также считаем среднее\n",
    "print(\"Дисперсия платформы XOne =\", xone['user_score'].var())\n",
    "print(\"Дисперсия платформы PC =\", pc['user_score'].var())\n",
    "print(\"Среднее платформы XOne =\", xone['user_score'].mean())\n",
    "print(\"Среднее платформы PC =\", pc['user_score'].mean())"
   ]
  },
  {
   "cell_type": "markdown",
   "metadata": {},
   "source": [
    "Дисперсии отличаются, поэтому equal_var = False"
   ]
  },
  {
   "cell_type": "code",
   "execution_count": 50,
   "metadata": {},
   "outputs": [
    {
     "name": "stdout",
     "output_type": "stream",
     "text": [
      "p-значение: 0.1498449186136679\n",
      "Не получилось отвергнуть нулевую гипотезу\n"
     ]
    }
   ],
   "source": [
    "alpha = 0.05 # критический уровень статистической значимости\n",
    "\n",
    "results = st.ttest_ind(xone['user_score'], pc['user_score'], equal_var = False)  \n",
    "print('p-значение:', results.pvalue)\n",
    "\n",
    "if results.pvalue < alpha:\n",
    "    print(\"Отвергаем нулевую гипотезу\")\n",
    "else:\n",
    "    print(\"Не получилось отвергнуть нулевую гипотезу\")"
   ]
  },
  {
   "cell_type": "markdown",
   "metadata": {},
   "source": [
    "Таким образом не получилось отвергнуть нулевую гипотезу, так как вероятность того, что средние в данных выборках будут случайно отличаться таким образом (на такую величину) больше 5%. Т.е. такое вероятно может произойти случайно и средние скорее всего не отличаются, что мы и видим при их вычислении (6.5 и 6.27). То есть, с вероятностью в почти 15% можно получить различность рейтингов двух платформ случайно, а это достаточное значение, для того не отвергать нулевую гипотеза о том, что средние двух выборок равны. \n",
    "\n",
    "Также можно сделать вывод, что пользовательсике оценки платформы PC почти такие же, как и у платформы XOne. "
   ]
  },
  {
   "cell_type": "markdown",
   "metadata": {},
   "source": [
    "**Средние пользовательские рейтинги жанров Action (англ. «действие», экшен-игры) и Sports (англ. «спортивные соревнования») разные.**\n",
    "\n",
    "В качестве H0 примем тот вариант, что средние рейтинги у данных жанров не различаются, исследуемые параметры равны, а в качестве альтернативной гипотезы скажем, что различия есть. В качестве критерия проверки гипотез выберем 95% доверительный интервал, т.е.альфа или уровень статистической значимости = 0.05. Т.е. из 500 измерений мы позволяем себе ошибиться в отвергнутой или выбранной гипотезе 25 раз."
   ]
  },
  {
   "cell_type": "code",
   "execution_count": 51,
   "metadata": {},
   "outputs": [
    {
     "name": "stdout",
     "output_type": "stream",
     "text": [
      "                                         name platform  year_of_release  \\\n",
      "42                         Grand Theft Auto V      PS4             2014   \n",
      "165                        Grand Theft Auto V     XOne             2014   \n",
      "231    Uncharted: The Nathan Drake Collection      PS4             2015   \n",
      "295                                Watch Dogs      PS4             2014   \n",
      "304                   Assassin's Creed: Unity      PS4             2014   \n",
      "...                                       ...      ...              ...   \n",
      "16486                      Super Dungeon Bros      PS4             2016   \n",
      "16530                 Carmageddon: Max Damage      PS4             2016   \n",
      "16597             Saints Row: Gat out of Hell     XOne             2015   \n",
      "16652                        Fast Racing Neo      WiiU             2016   \n",
      "16692       Metal Gear Solid V: Ground Zeroes       PC             2014   \n",
      "\n",
      "        genre  na_sales  eu_sales  jp_sales  other_sales  critic_score  \\\n",
      "42     Action      3.96      6.31      0.38         1.97          97.0   \n",
      "165    Action      2.81      2.19      0.00         0.47          97.0   \n",
      "231    Action      2.07      1.71      0.08         0.76          86.0   \n",
      "295    Action      1.40      1.90      0.11         0.64          80.0   \n",
      "304    Action      1.19      2.07      0.08         0.62          70.0   \n",
      "...       ...       ...       ...       ...          ...           ...   \n",
      "16486  Action      0.01      0.00      0.00         0.00          42.0   \n",
      "16530  Action      0.01      0.00      0.00         0.00          51.0   \n",
      "16597  Action      0.00      0.01      0.00         0.00          65.0   \n",
      "16652  Action      0.00      0.01      0.00         0.00          81.0   \n",
      "16692  Action      0.00      0.01      0.00         0.00          80.0   \n",
      "\n",
      "       user_score rating  total_sales  \n",
      "42            8.3      M        12.62  \n",
      "165           7.9      M         5.47  \n",
      "231           8.1      T         4.62  \n",
      "295           6.3      M         4.05  \n",
      "304           4.9      M         3.96  \n",
      "...           ...    ...          ...  \n",
      "16486         2.3   E10+         0.01  \n",
      "16530         5.5      M         0.01  \n",
      "16597         6.0      M         0.01  \n",
      "16652         8.5      E         0.01  \n",
      "16692         7.6      M         0.01  \n",
      "\n",
      "[221 rows x 12 columns]\n",
      "                             name platform  year_of_release   genre  na_sales  \\\n",
      "77                        FIFA 16      PS4             2015  Sports      1.12   \n",
      "94                        FIFA 17      PS4             2016  Sports      0.66   \n",
      "143                       FIFA 15      PS4             2014  Sports      0.80   \n",
      "314                      NBA 2K16      PS4             2015  Sports      2.49   \n",
      "417                       FIFA 16     XOne             2015  Sports      0.89   \n",
      "...                           ...      ...              ...     ...       ...   \n",
      "14478               The Golf Club     XOne             2014  Sports      0.03   \n",
      "15407   Pro Evolution Soccer 2017       PC             2016  Sports      0.00   \n",
      "15839  Mark McMorris Infinite Air      PS4             2016  Sports      0.01   \n",
      "16120                    NBA 2K17       PC             2016  Sports      0.00   \n",
      "16146      Don Bradman Cricket 14      PS3             2014  Sports      0.00   \n",
      "\n",
      "       eu_sales  jp_sales  other_sales  critic_score  user_score rating  \\\n",
      "77         6.12      0.06         1.28          82.0         4.3      E   \n",
      "94         5.75      0.08         1.11          85.0         5.0      E   \n",
      "143        4.33      0.05         0.90          82.0         5.7      E   \n",
      "314        0.66      0.03         0.69          87.0         6.7   E10+   \n",
      "417        2.12      0.00         0.24          84.0         4.4      E   \n",
      "...         ...       ...          ...           ...         ...    ...   \n",
      "14478      0.00      0.00         0.00          64.0         5.4      E   \n",
      "15407      0.02      0.00         0.00          69.0         3.7      E   \n",
      "15839      0.00      0.00         0.00          49.0         6.0      T   \n",
      "16120      0.01      0.00         0.00          90.0         6.3      E   \n",
      "16146      0.01      0.00         0.00          73.0         6.9      E   \n",
      "\n",
      "       total_sales  \n",
      "77            8.58  \n",
      "94            7.60  \n",
      "143           6.08  \n",
      "314           3.87  \n",
      "417           3.25  \n",
      "...            ...  \n",
      "14478         0.03  \n",
      "15407         0.02  \n",
      "15839         0.01  \n",
      "16120         0.01  \n",
      "16146         0.01  \n",
      "\n",
      "[79 rows x 12 columns]\n"
     ]
    }
   ],
   "source": [
    "# Составим датасет для проверки гипотез для двух жанров\n",
    "action = df.query('genre == \"Action\" & year_of_release >= 2014').dropna()\n",
    "print(action)\n",
    "sports = df.query('genre == \"Sports\" & year_of_release >= 2014').dropna()\n",
    "print(sports)"
   ]
  },
  {
   "cell_type": "code",
   "execution_count": 52,
   "metadata": {},
   "outputs": [
    {
     "name": "stdout",
     "output_type": "stream",
     "text": [
      "Дисперсия жанра Action = 1.8282805429864248\n",
      "Дисперсия жанра Sports = 2.2599383317104835\n",
      "Среднее жанра Action = 6.811312217194571\n",
      "Среднее жанра Sports = 5.682278481012658\n"
     ]
    }
   ],
   "source": [
    "# считаем дисперсию для жанров Action и Sports по отзывам, для того, чтобы понять применять ли equal_var или нет. Также считаем среднее\n",
    "print(\"Дисперсия жанра Action =\", action['user_score'].var())\n",
    "print(\"Дисперсия жанра Sports =\", sports['user_score'].var())\n",
    "print(\"Среднее жанра Action =\", action['user_score'].mean())\n",
    "print(\"Среднее жанра Sports =\", sports['user_score'].mean())"
   ]
  },
  {
   "cell_type": "markdown",
   "metadata": {},
   "source": [
    "Дисперсии отличаются, поэтому equal_var = False"
   ]
  },
  {
   "cell_type": "code",
   "execution_count": 53,
   "metadata": {},
   "outputs": [
    {
     "name": "stdout",
     "output_type": "stream",
     "text": [
      "p-значение: 3.474253245303909e-08\n",
      "Отвергаем нулевую гипотезу\n"
     ]
    }
   ],
   "source": [
    "alpha = 0.05 # критический уровень статистической значимости\n",
    "\n",
    "results = st.ttest_ind(action['user_score'], sports['user_score'], equal_var = False)  \n",
    "print('p-значение:', results.pvalue)\n",
    "\n",
    "if results.pvalue < alpha:\n",
    "    print(\"Отвергаем нулевую гипотезу\")\n",
    "else:\n",
    "    print(\"Не получилось отвергнуть нулевую гипотезу\")"
   ]
  },
  {
   "cell_type": "markdown",
   "metadata": {},
   "source": [
    "Таким образом отвергнем нулевую гипотезу, так как вероятность того, что средние в данных выборках будут случайно отличаться таким образом (на такую величину) меньше 5%. Т.е. такое маловероятно может произойти случайно и средние скорее всего отличаются, что мы и видим при их вычислении. То есть, с вероятностью меньше 0.000000034742 можно получить различность рейтингов двух жанров случайно, а это слишком малое значение, поэтому нулеваю гипотеза должна быть отвергнута, это не случайно и средние пользоваетльские оценки отличаются.\n",
    "\n",
    "Также можно сделать вывод, что пользовательсике оценки жанра Action в среднем больше, чем жанра Sports."
   ]
  },
  {
   "cell_type": "markdown",
   "metadata": {},
   "source": [
    "**Таким образом были проверены две гипотезы о равенстве средних значениях двух разных платформ, и средних разных жанров. В первом случае не получилось отвергнуть нулевую гипотезу, а во втором случае нулевая гипотеза была отвергнута. Т.е. средние значения пользовательских оценок для разных платформ почти одинаковы, а для разных жанров отличаются. Вероятность случайно получить одинаковые средние рейнтинги по двум платформам достаточна(15%), а по двум жанрам мала**"
   ]
  },
  {
   "cell_type": "markdown",
   "metadata": {},
   "source": [
    "## Общий вывод"
   ]
  },
  {
   "cell_type": "markdown",
   "metadata": {},
   "source": [
    "Таким образом был проведен анализ по производству и продажам игр. Исходя из анализа можно сделать следующие выводы:\n",
    "\n",
    "- В среднем компании выходят на пик продаж за 4-5 лет, и существуют в среднем 10-12 лет;\n",
    "- Подъем продаж игр был с 1995 года по 2008, а затем произошел спад;\n",
    "- Самыми популярными платформами в период с 2014 года являются: PS4, PS3, XOne, 3DS, WiiU. Для каждого региона наблюдается популярность платформ 3DS и PS4, для Японии отечественные платформы ставятся в приоритет остальным, это можно учитывать при продажах.\n",
    "- Оценка критиков влияет на продажи сильнее, чем пользовательские оценки, чем больше оценка, тем больше покупают, однако иногда бывает, что и пользовательские оценки влияют на продажи;\n",
    "- Самыми популярными жанрами являются: Action, Shooter;\n",
    "- Рейтинг не влияет на продажи игр, игры без рейтинга продаются лучше, чем многие игры с известным рейтингом. Для каждого региона примерно одинаковая картина по продажам в зависимости от рейтинга;\n",
    "- Средние пользовательские оценки для платформ Xbox One и PC не отличаются, а для жанров Action и Sports отличаются.\n",
    "\n",
    "**Таким образом можно сказать, что для регионов Европы и Северной Америки выгоднее продавать игры с рейтингом M или без рейтинга, жанров Action, Sports или Shooter на платформах PS4, 3DS.**\n",
    "\n",
    "**Для Японии не важно с каким рейтингом продавать игры, выгоднее жанров Action, Role-Playing на платформах 3DS, WiiU, PS4.**"
   ]
  }
 ],
 "metadata": {
  "kernelspec": {
   "display_name": "Python 3",
   "language": "python",
   "name": "python3"
  },
  "language_info": {
   "codemirror_mode": {
    "name": "ipython",
    "version": 3
   },
   "file_extension": ".py",
   "mimetype": "text/x-python",
   "name": "python",
   "nbconvert_exporter": "python",
   "pygments_lexer": "ipython3",
   "version": "3.8.5"
  },
  "toc": {
   "base_numbering": 1,
   "nav_menu": {},
   "number_sections": true,
   "sideBar": true,
   "skip_h1_title": true,
   "title_cell": "Table of Contents",
   "title_sidebar": "Contents",
   "toc_cell": false,
   "toc_position": {
    "height": "calc(100% - 180px)",
    "left": "10px",
    "top": "150px",
    "width": "246px"
   },
   "toc_section_display": true,
   "toc_window_display": true
  }
 },
 "nbformat": 4,
 "nbformat_minor": 2
}

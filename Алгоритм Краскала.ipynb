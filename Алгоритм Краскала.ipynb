{
 "cells": [
  {
   "cell_type": "markdown",
   "id": "11bbc500",
   "metadata": {},
   "source": [
    "### Алгоритм Краскала"
   ]
  },
  {
   "cell_type": "code",
   "execution_count": 1,
   "id": "8e0d2adb",
   "metadata": {},
   "outputs": [],
   "source": [
    "class Edge:\n",
    "    def __init__(self, v1, v2):\n",
    "        self.v1 = v1\n",
    "        self.v2 = v2\n",
    "        \n",
    "def find(parent, i):\n",
    "    if parent[i] == i:\n",
    "        return i\n",
    "    return find(parent, parent[i])\n",
    "\n",
    "def union(parent, rank, x, y):\n",
    "    xroot = find(parent, x)\n",
    "    yroot = find(parent, y)\n",
    "    \n",
    "    if rank[xroot] < rank[yroot]:\n",
    "        parent[xroot] = yroot\n",
    "    elif rank[xroot] > rank[yroot]:\n",
    "        parent[yroot] = xroot\n",
    "    else:\n",
    "        parent[yroot] = xroot\n",
    "        rank[xroot] = 1\n",
    "        \n",
    "def kruskal_mst(graph):\n",
    "    edges = []\n",
    "    result = []\n",
    "    \n",
    "    graph_size = len(graph)\n",
    "    parent = [i for i in range(graph_size)]\n",
    "    rank = [0]*graph_size\n",
    "    \n",
    "    for i in range(graph_size):\n",
    "        for j in range(len(graph[i])):\n",
    "            edges.append(Edge(i, graph[i][j]))\n",
    "    \n",
    "    edges.sort(key=lambda edge: (edge.v1, edge.v2))\n",
    "    \n",
    "    for edge in edges:\n",
    "        x = find(parent, edge.v1)\n",
    "        y = find(parent, edge.v2)\n",
    "        \n",
    "        if x != y:\n",
    "            result.append(edge)\n",
    "            union(parent, rank, x, y)\n",
    "            \n",
    "    return result\n"
   ]
  },
  {
   "cell_type": "code",
   "execution_count": 6,
   "id": "23b30f23",
   "metadata": {},
   "outputs": [],
   "source": [
    "graph = {0:[1,3],\n",
    "         1:[0,2,3],\n",
    "         2:[1,3],\n",
    "         3:[0,1,2],\n",
    "         4:[5],\n",
    "         5:[4]}"
   ]
  },
  {
   "cell_type": "code",
   "execution_count": 7,
   "id": "50ee387e",
   "metadata": {},
   "outputs": [
    {
     "name": "stdout",
     "output_type": "stream",
     "text": [
      "0 , 1\n",
      "0 , 3\n",
      "1 , 2\n",
      "4 , 5\n"
     ]
    }
   ],
   "source": [
    "mst_edges = kruskal_mst(graph)\n",
    "for edge in mst_edges:\n",
    "    print(f\"{edge.v1} , {edge.v2}\")"
   ]
  }
 ],
 "metadata": {
  "kernelspec": {
   "display_name": "Python 3",
   "language": "python",
   "name": "python3"
  },
  "language_info": {
   "codemirror_mode": {
    "name": "ipython",
    "version": 3
   },
   "file_extension": ".py",
   "mimetype": "text/x-python",
   "name": "python",
   "nbconvert_exporter": "python",
   "pygments_lexer": "ipython3",
   "version": "3.8.12"
  }
 },
 "nbformat": 4,
 "nbformat_minor": 5
}

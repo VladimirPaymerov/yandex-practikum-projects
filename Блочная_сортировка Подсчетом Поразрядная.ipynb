{
 "cells": [
  {
   "cell_type": "code",
   "execution_count": 2,
   "id": "9a24defd",
   "metadata": {},
   "outputs": [],
   "source": [
    "import time\n",
    "import random"
   ]
  },
  {
   "cell_type": "markdown",
   "id": "97d749d2",
   "metadata": {},
   "source": [
    "### BucketSort"
   ]
  },
  {
   "cell_type": "code",
   "execution_count": 5,
   "id": "e92c1dc8",
   "metadata": {},
   "outputs": [],
   "source": [
    "def bucket_sort(arr):\n",
    "    n = len(arr)\n",
    "    num_buckets = n\n",
    "\n",
    "    buckets = [[] for _ in range(num_buckets)]\n",
    "    \n",
    "    comparisons = 0\n",
    "    assignments = 0\n",
    "    \n",
    "    for num in arr:\n",
    "        index = int(num * num_buckets / (max(arr) + 1))\n",
    "        if index != num_buckets:\n",
    "            buckets[index].append(num)\n",
    "        else:\n",
    "            buckets[num_buckets - 1].append(num)\n",
    "\n",
    "    for i in range(num_buckets):\n",
    "        comparisons += 1\n",
    "        assignments += 1\n",
    "        buckets[i] = sorted(buckets[i])\n",
    "\n",
    "    result = []\n",
    "    for bucket in buckets:\n",
    "        comparisons += len(bucket) - 1\n",
    "        assignments += len(bucket)\n",
    "        result.extend(bucket)\n",
    "\n",
    "    return result, comparisons, assignments"
   ]
  },
  {
   "cell_type": "code",
   "execution_count": 4,
   "id": "6d390b3f",
   "metadata": {},
   "outputs": [
    {
     "name": "stdout",
     "output_type": "stream",
     "text": [
      "Для N=10 время сотировки: 0.0009996891021728516; кол-во присваиваний: 10; кол-во сравнений: 20\n",
      "Для N=100 время сотировки: 0.0; кол-во присваиваний: 100; кол-во сравнений: 200\n",
      "Для N=1000 время сотировки: 0.03502655029296875; кол-во присваиваний: 1000; кол-во сравнений: 2000\n",
      "Для N=10000 время сотировки: 2.8870460987091064; кол-во присваиваний: 10000; кол-во сравнений: 20000\n",
      "Для N=100000 время сотировки: 312.9578263759613; кол-во присваиваний: 100000; кол-во сравнений: 200000\n"
     ]
    }
   ],
   "source": [
    "random.seed(1234)\n",
    "n = [10, 100, 1000, 10000, 100000]\n",
    "for i in n:\n",
    "    a = [random.randint(1,i) for j in range(i)]\n",
    "    start_time = time.time()\n",
    "    ar, asg, cnt = bucket_sort(a)\n",
    "    end_time = time.time()\n",
    "    elapsed_time = end_time-start_time\n",
    "    print(f\"Для N={i} время сотировки: {elapsed_time}; кол-во присваиваний: {asg}; кол-во сравнений: {cnt}\")"
   ]
  },
  {
   "cell_type": "markdown",
   "id": "79271ac1",
   "metadata": {},
   "source": [
    "### CountingSort"
   ]
  },
  {
   "cell_type": "code",
   "execution_count": 6,
   "id": "86e2588d",
   "metadata": {},
   "outputs": [],
   "source": [
    "def counting_sort(arr):\n",
    "    n = len(arr)\n",
    "\n",
    "    max_num = max(arr)\n",
    "    min_num = min(arr)\n",
    "    range_of_values = max_num - min_num + 1\n",
    "\n",
    "    count = [0] * range_of_values\n",
    "    output = [0] * n\n",
    "\n",
    "    comparisons = 0\n",
    "    assignments = 0\n",
    "\n",
    "    for num in arr:\n",
    "        count[num - min_num] += 1\n",
    "        assignments += 1\n",
    "\n",
    "    for i in range(1, len(count)):\n",
    "        count[i] += count[i - 1]\n",
    "        assignments += 1\n",
    "\n",
    "    for num in arr:\n",
    "        output[count[num - min_num] - 1] = num\n",
    "        count[num - min_num] -= 1\n",
    "        assignments += 2\n",
    "\n",
    "    for i in range(n):\n",
    "        comparisons += 1\n",
    "        arr[i] = output[i]\n",
    "        assignments += 1\n",
    "\n",
    "    return arr, comparisons, assignments"
   ]
  },
  {
   "cell_type": "code",
   "execution_count": 7,
   "id": "13336567",
   "metadata": {},
   "outputs": [
    {
     "name": "stdout",
     "output_type": "stream",
     "text": [
      "Для N=10 время сотировки: 0.014025449752807617; кол-во присваиваний: 10; кол-во сравнений: 49\n",
      "Для N=100 время сотировки: 0.0010039806365966797; кол-во присваиваний: 100; кол-во сравнений: 499\n",
      "Для N=1000 время сотировки: 0.001996755599975586; кол-во присваиваний: 1000; кол-во сравнений: 4997\n",
      "Для N=10000 время сотировки: 0.020004749298095703; кол-во присваиваний: 10000; кол-во сравнений: 49998\n",
      "Для N=100000 время сотировки: 0.27400708198547363; кол-во присваиваний: 100000; кол-во сравнений: 499997\n",
      "Для N=1000000 время сотировки: 2.875998020172119; кол-во присваиваний: 1000000; кол-во сравнений: 4999998\n",
      "Для N=10000000 время сотировки: 39.06572890281677; кол-во присваиваний: 10000000; кол-во сравнений: 49999999\n"
     ]
    }
   ],
   "source": [
    "random.seed(1234)\n",
    "n = [10, 100, 1000, 10000, 100000, 1000000, 10000000]\n",
    "for i in n:\n",
    "    a = [random.randint(1,i) for j in range(i)]\n",
    "    start_time = time.time()\n",
    "    ar, asg, cnt = counting_sort(a)\n",
    "    end_time = time.time()\n",
    "    elapsed_time = end_time-start_time\n",
    "    print(f\"Для N={i} время сотировки: {elapsed_time}; кол-во присваиваний: {asg}; кол-во сравнений: {cnt}\")"
   ]
  },
  {
   "cell_type": "markdown",
   "id": "2bf184da",
   "metadata": {},
   "source": [
    "### RadixSort"
   ]
  },
  {
   "cell_type": "code",
   "execution_count": 8,
   "id": "049e0378",
   "metadata": {},
   "outputs": [],
   "source": [
    "def cnt_sort(arr, exp, assignments, comparisons):\n",
    "    n = len(arr)\n",
    "    output = [0] * n\n",
    "    count = [0] * 10\n",
    "\n",
    "    for i in range(n):\n",
    "        index = (arr[i] // exp)\n",
    "        count[index % 10] += 1\n",
    "        assignments += 1\n",
    "\n",
    "    for i in range(1, 10):\n",
    "        count[i] += count[i - 1]\n",
    "        assignments += 1\n",
    "\n",
    "    i = n - 1\n",
    "    while i >= 0:\n",
    "        index = (arr[i] // exp)\n",
    "        output[count[index % 10] - 1] = arr[i]\n",
    "        count[index % 10] -= 1\n",
    "        assignments += 2\n",
    "        i -= 1\n",
    "\n",
    "    i = 0\n",
    "    for i in range(n):\n",
    "        comparisons += 1\n",
    "        arr[i] = output[i]\n",
    "        assignments += 1\n",
    "\n",
    "    return assignments, comparisons\n",
    "\n",
    "\n",
    "def radix_sort(arr):\n",
    "    max_num = max(arr)\n",
    "    assignments = 0\n",
    "    comparisons = 0\n",
    "\n",
    "    exp = 1\n",
    "    while max_num // exp > 0:\n",
    "        assignments, comparisons = cnt_sort(arr, exp, assignments, comparisons)\n",
    "        exp *= 10\n",
    "\n",
    "    return arr, assignments, comparisons"
   ]
  },
  {
   "cell_type": "code",
   "execution_count": 9,
   "id": "42c551ae",
   "metadata": {},
   "outputs": [
    {
     "name": "stdout",
     "output_type": "stream",
     "text": [
      "Для N=10 время сотировки: 2.4466090202331543; кол-во присваиваний: 98; кол-во сравнений: 20\n",
      "Для N=100 время сотировки: 0.0011649131774902344; кол-во присваиваний: 1227; кол-во сравнений: 300\n",
      "Для N=1000 время сотировки: 0.004998207092285156; кол-во присваиваний: 12027; кол-во сравнений: 3000\n",
      "Для N=10000 время сотировки: 0.06616759300231934; кол-во присваиваний: 160036; кол-во сравнений: 40000\n",
      "Для N=100000 время сотировки: 1.0903596878051758; кол-во присваиваний: 2000045; кол-во сравнений: 500000\n",
      "Для N=1000000 время сотировки: 16.69253158569336; кол-во присваиваний: 28000063; кол-во сравнений: 7000000\n",
      "Для N=10000000 время сотировки: 238.62116885185242; кол-во присваиваний: 320000072; кол-во сравнений: 80000000\n"
     ]
    }
   ],
   "source": [
    "random.seed(1234)\n",
    "n = [10, 100, 1000, 10000, 100000, 1000000, 10000000]\n",
    "for i in n:\n",
    "    a = [random.randint(1,i) for j in range(i)]\n",
    "    start_time = time.time()\n",
    "    ar, asg, cnt = radix_sort(a)\n",
    "    end_time = time.time()\n",
    "    elapsed_time = end_time-start_time\n",
    "    print(f\"Для N={i} время сотировки: {elapsed_time}; кол-во присваиваний: {asg}; кол-во сравнений: {cnt}\")"
   ]
  },
  {
   "cell_type": "code",
   "execution_count": null,
   "id": "7be42e91",
   "metadata": {},
   "outputs": [],
   "source": []
  }
 ],
 "metadata": {
  "kernelspec": {
   "display_name": "Python 3 (ipykernel)",
   "language": "python",
   "name": "python3"
  },
  "language_info": {
   "codemirror_mode": {
    "name": "ipython",
    "version": 3
   },
   "file_extension": ".py",
   "mimetype": "text/x-python",
   "name": "python",
   "nbconvert_exporter": "python",
   "pygments_lexer": "ipython3",
   "version": "3.9.7"
  }
 },
 "nbformat": 4,
 "nbformat_minor": 5
}

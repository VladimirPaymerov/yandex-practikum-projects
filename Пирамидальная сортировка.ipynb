{
 "cells": [
  {
   "cell_type": "code",
   "execution_count": 1,
   "id": "ec12bf51",
   "metadata": {},
   "outputs": [],
   "source": [
    "import random\n",
    "import time"
   ]
  },
  {
   "cell_type": "code",
   "execution_count": 2,
   "id": "07ed89c2",
   "metadata": {},
   "outputs": [],
   "source": [
    "def selection_sort(arr):\n",
    "    cmp = 0\n",
    "    asg = 0\n",
    "    n = len(arr)\n",
    "    \n",
    "    for i in range(n-1,0,-1):\n",
    "        max_index=i\n",
    "        for j in range(i-1, -1,-1):\n",
    "            cmp+=1\n",
    "            if arr[j]>arr[max_index]:\n",
    "                max_index=j\n",
    "                \n",
    "        if max_index!=i:\n",
    "            arr[i], arr[max_index] = arr[max_index], arr[i]\n",
    "            asg+=3\n",
    "    return arr, asg, cmp"
   ]
  },
  {
   "cell_type": "code",
   "execution_count": 3,
   "id": "8fb24655",
   "metadata": {},
   "outputs": [
    {
     "name": "stdout",
     "output_type": "stream",
     "text": [
      "Для N=10 время сотировки: 0.0; кол-во присваиваний: 24; кол-во сравнений: 45\n",
      "Для N=100 время сотировки: 0.00099945068359375; кол-во присваиваний: 288; кол-во сравнений: 4950\n",
      "Для N=1000 время сотировки: 0.13199424743652344; кол-во присваиваний: 2964; кол-во сравнений: 499500\n",
      "Для N=10000 время сотировки: 13.319611072540283; кол-во присваиваний: 29979; кол-во сравнений: 49995000\n"
     ]
    }
   ],
   "source": [
    "random.seed(1234)\n",
    "n = [10, 100, 1000, 10000]\n",
    "for i in n:\n",
    "    a = [random.randint(1,i) for j in range(i)]\n",
    "    start_time = time.time()\n",
    "    ar, asg, cnt = selection_sort(a)\n",
    "    end_time = time.time()\n",
    "    elapsed_time = end_time-start_time\n",
    "    print(f\"Для N={i} время сотировки: {elapsed_time}; кол-во присваиваний: {asg}; кол-во сравнений: {cnt}\")"
   ]
  },
  {
   "cell_type": "code",
   "execution_count": 4,
   "id": "246180c2",
   "metadata": {},
   "outputs": [],
   "source": [
    "def heapify(arr, N, i, asg, cmp):\n",
    "    largest = i\n",
    "    l=2*i+1\n",
    "    r=2*i+2\n",
    "    \n",
    "    if l<N and arr[l]>arr[largest]:\n",
    "        cmp+=1\n",
    "        largest=l\n",
    "    \n",
    "    if r<N and arr[r]>arr[largest]:\n",
    "        cmp+=1\n",
    "        largest=r\n",
    "        \n",
    "    if largest!=i:\n",
    "        arr[i], arr[largest] = arr[largest], arr[i]\n",
    "        asg+=3\n",
    "        heapify(arr, N, largest, asg, cmp)"
   ]
  },
  {
   "cell_type": "code",
   "execution_count": 5,
   "id": "a38d827a",
   "metadata": {},
   "outputs": [],
   "source": [
    "def heap_sort(arr):\n",
    "    n = len(arr)\n",
    "    cmp = 0\n",
    "    asg=0\n",
    "    for i in range(n//2-1, -1, -1):\n",
    "        heapify(arr, n, i, asg, cmp)\n",
    "    for i in range(n-1,0,-1):\n",
    "        arr[i], arr[0] = arr[0], arr[i]\n",
    "        asg+=3\n",
    "        heapify(arr, i, 0, asg, cmp)\n",
    "    return arr, asg, cmp"
   ]
  },
  {
   "cell_type": "code",
   "execution_count": 6,
   "id": "46037aae",
   "metadata": {},
   "outputs": [
    {
     "name": "stdout",
     "output_type": "stream",
     "text": [
      "Для N=10 время сотировки: 0.0; кол-во присваиваний: 27; кол-во сравнений: 0\n",
      "Для N=100 время сотировки: 0.0; кол-во присваиваний: 297; кол-во сравнений: 0\n",
      "Для N=1000 время сотировки: 0.013963460922241211; кол-во присваиваний: 2997; кол-во сравнений: 0\n",
      "Для N=10000 время сотировки: 0.19703006744384766; кол-во присваиваний: 29997; кол-во сравнений: 0\n",
      "Для N=100000 время сотировки: 2.6700661182403564; кол-во присваиваний: 299997; кол-во сравнений: 0\n",
      "Для N=1000000 время сотировки: 44.02470254898071; кол-во присваиваний: 2999997; кол-во сравнений: 0\n"
     ]
    }
   ],
   "source": [
    "random.seed(1234)\n",
    "n = [10, 100, 1000, 10000, 100000, 1000000]\n",
    "for i in n:\n",
    "    a = [random.randint(1,i) for j in range(i)]\n",
    "    start_time = time.time()\n",
    "    ar, asg, cnt = heap_sort(a)\n",
    "    end_time = time.time()\n",
    "    elapsed_time = end_time-start_time\n",
    "    print(f\"Для N={i} время сотировки: {elapsed_time}; кол-во присваиваний: {asg}; кол-во сравнений: {cnt}\")"
   ]
  }
 ],
 "metadata": {
  "kernelspec": {
   "display_name": "Python 3 (ipykernel)",
   "language": "python",
   "name": "python3"
  },
  "language_info": {
   "codemirror_mode": {
    "name": "ipython",
    "version": 3
   },
   "file_extension": ".py",
   "mimetype": "text/x-python",
   "name": "python",
   "nbconvert_exporter": "python",
   "pygments_lexer": "ipython3",
   "version": "3.9.7"
  }
 },
 "nbformat": 4,
 "nbformat_minor": 5
}

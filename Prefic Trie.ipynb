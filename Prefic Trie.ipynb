{
 "cells": [
  {
   "cell_type": "markdown",
   "id": "4df1124d",
   "metadata": {},
   "source": [
    "## Префиксное дерево"
   ]
  },
  {
   "cell_type": "markdown",
   "id": "f69368ad",
   "metadata": {},
   "source": [
    "### Решение задачи"
   ]
  },
  {
   "cell_type": "code",
   "execution_count": 4,
   "id": "d4ffb061",
   "metadata": {},
   "outputs": [],
   "source": [
    "class TrieNode:\n",
    "    def __init__(self):\n",
    "        self.children = {}\n",
    "        self.is_end_of_word = False\n",
    "\n",
    "class Trie:\n",
    "    def __init__(self):\n",
    "        self.root = TrieNode()\n",
    "\n",
    "    def insert(self, word):\n",
    "        node = self.root\n",
    "        for char in word:\n",
    "            if char not in node.children:\n",
    "                node.children[char] = TrieNode()\n",
    "            node = node.children[char]\n",
    "        node.is_end_of_word = True\n",
    "\n",
    "    def search(self, word):\n",
    "        node = self.root\n",
    "        for char in word:\n",
    "            if char not in node.children:\n",
    "                return False\n",
    "            node = node.children[char]\n",
    "        return node.is_end_of_word\n",
    "\n",
    "    def startsWith(self, prefix):\n",
    "        node = self.root\n",
    "        for char in prefix:\n",
    "            if char not in node.children:\n",
    "                return False\n",
    "            node = node.children[char]\n",
    "        return True"
   ]
  },
  {
   "cell_type": "code",
   "execution_count": 5,
   "id": "124ac98f",
   "metadata": {},
   "outputs": [
    {
     "name": "stdout",
     "output_type": "stream",
     "text": [
      "True\n",
      "False\n",
      "True\n",
      "True\n"
     ]
    }
   ],
   "source": [
    "# Пример использования\n",
    "trie = Trie()\n",
    "trie.insert(\"apple\")\n",
    "print(trie.search(\"apple\"))  # Выведет True\n",
    "print(trie.search(\"app\"))  # Выведет False\n",
    "print(trie.startsWith(\"app\"))  # Выведет True\n",
    "trie.insert(\"app\")\n",
    "print(trie.search(\"app\"))  # Выведет True"
   ]
  },
  {
   "cell_type": "markdown",
   "id": "88316271",
   "metadata": {},
   "source": [
    "### Реализация ассоциативного массива на основе префиксного дерева"
   ]
  },
  {
   "cell_type": "code",
   "execution_count": 6,
   "id": "e6d33494",
   "metadata": {},
   "outputs": [],
   "source": [
    "class TrieNode:\n",
    "    def __init__(self):\n",
    "        self.children = {}\n",
    "        self.is_end_of_word = False\n",
    "        self.value = None\n",
    "\n",
    "class Trie:\n",
    "    def __init__(self):\n",
    "        self.root = TrieNode()\n",
    "\n",
    "    def insert(self, key, value):\n",
    "        node = self.root\n",
    "        for char in key:\n",
    "            if char not in node.children:\n",
    "                node.children[char] = TrieNode()\n",
    "            node = node.children[char]\n",
    "        node.is_end_of_word = True\n",
    "        node.value = value\n",
    "\n",
    "    def search(self, key):\n",
    "        node = self.root\n",
    "        for char in key:\n",
    "            if char not in node.children:\n",
    "                return None\n",
    "            node = node.children[char]\n",
    "        if node.is_end_of_word:\n",
    "            return node.value\n",
    "        return None"
   ]
  },
  {
   "cell_type": "code",
   "execution_count": 7,
   "id": "f031fbfa",
   "metadata": {},
   "outputs": [
    {
     "name": "stdout",
     "output_type": "stream",
     "text": [
      "5\n",
      "3\n",
      "None\n"
     ]
    }
   ],
   "source": [
    "# Пример использования\n",
    "trie = Trie()\n",
    "trie.insert(\"apple\", 5)\n",
    "trie.insert(\"app\", 3)\n",
    "print(trie.search(\"apple\"))  # Выведет 5\n",
    "print(trie.search(\"app\"))  # Выведет 3\n",
    "print(trie.search(\"banana\"))  # Выведет None"
   ]
  }
 ],
 "metadata": {
  "kernelspec": {
   "display_name": "Python 3 (ipykernel)",
   "language": "python",
   "name": "python3"
  },
  "language_info": {
   "codemirror_mode": {
    "name": "ipython",
    "version": 3
   },
   "file_extension": ".py",
   "mimetype": "text/x-python",
   "name": "python",
   "nbconvert_exporter": "python",
   "pygments_lexer": "ipython3",
   "version": "3.9.7"
  }
 },
 "nbformat": 4,
 "nbformat_minor": 5
}

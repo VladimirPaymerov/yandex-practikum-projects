{
 "cells": [
  {
   "cell_type": "markdown",
   "id": "5211c385",
   "metadata": {},
   "source": [
    "### Задача про короля"
   ]
  },
  {
   "cell_type": "code",
   "execution_count": 14,
   "id": "b845d20b",
   "metadata": {},
   "outputs": [
    {
     "name": "stdout",
     "output_type": "stream",
     "text": [
      "Введите индекс позиции короля (от 0 до 63): 0\n",
      "Количество возможных ходов: 3\n",
      "Битовая маска всех возможных ходов короля:\n",
      "0000000000000000000000000000000000000000000000000000001100000010\n"
     ]
    }
   ],
   "source": [
    "def king_moves(position):\n",
    "    # Определяем возможные смещения для короля\n",
    "    possible_moves = [-9, -8, -7, -1, 1, 7, 8, 9]\n",
    "    \n",
    "    # Инициализируем битовую маску\n",
    "    mask = 0\n",
    "    \n",
    "    # Считаем количество возможных ходов\n",
    "    count = 0\n",
    "    \n",
    "    # Перебираем все возможные смещения\n",
    "    for move in possible_moves:\n",
    "        # Проверяем допустимость хода по границам доски\n",
    "        if 0 <= position + move <= 63 and abs((position % 8) - ((position + move) % 8)) <= 1:\n",
    "            # Устанавливаем бит в маске для возможного хода\n",
    "            mask |= 1 << (position + move)\n",
    "            count += 1\n",
    "    \n",
    "    return count, mask\n",
    "\n",
    "# Ввод индекса позиции короля\n",
    "king_position = int(input(\"Введите индекс позиции короля (от 0 до 63): \"))\n",
    "\n",
    "# Получаем количество возможных ходов и битовую маску всех возможных ходов короля\n",
    "moves_count, moves_mask = king_moves(king_position)\n",
    "\n",
    "# Выводим результат\n",
    "print(\"Количество возможных ходов:\", moves_count)\n",
    "print(\"Битовая маска всех возможных ходов короля:\")\n",
    "print(format(moves_mask, '064b'))"
   ]
  },
  {
   "cell_type": "markdown",
   "id": "e569a3de",
   "metadata": {},
   "source": [
    "### Задача про коня"
   ]
  },
  {
   "cell_type": "code",
   "execution_count": 15,
   "id": "b2aa9aca",
   "metadata": {},
   "outputs": [
    {
     "name": "stdout",
     "output_type": "stream",
     "text": [
      "Введите индекс позиции коня (от 0 до 63): 54\n",
      "Количество возможных ходов: 4\n",
      "Битовая маска всех возможных ходов коня:\n",
      "0001000000000000000100001010000000000000000000000000000000000000\n"
     ]
    }
   ],
   "source": [
    "def knight_moves(position):\n",
    "    # Определяем возможные смещения для коня\n",
    "    possible_moves = [-17, -15, -10, -6, 6, 10, 15, 17]\n",
    "    \n",
    "    # Инициализируем битовую маску\n",
    "    mask = 0\n",
    "    \n",
    "    # Считаем количество возможных ходов\n",
    "    count = 0\n",
    "    \n",
    "    # Перебираем все возможные смещения\n",
    "    for move in possible_moves:\n",
    "        # Проверяем допустимость хода по границам доски и правилам хода коня\n",
    "        if 0 <= position + move <= 63 and abs((position % 8) - ((position + move) % 8)) in [1, 2]:\n",
    "            # Устанавливаем бит в маске для возможного хода\n",
    "            mask |= 1 << (position + move)\n",
    "            count += 1\n",
    "    \n",
    "    return count, mask\n",
    "\n",
    "# Ввод индекса позиции коня\n",
    "knight_position = int(input(\"Введите индекс позиции коня (от 0 до 63): \"))\n",
    "\n",
    "# Получаем количество возможных ходов и битовую маску всех возможных ходов коня\n",
    "moves_count, moves_mask = knight_moves(knight_position)\n",
    "\n",
    "# Выводим результат\n",
    "print(\"Количество возможных ходов:\", moves_count)\n",
    "print(\"Битовая маска всех возможных ходов коня:\")\n",
    "print(format(moves_mask, '064b'))"
   ]
  },
  {
   "cell_type": "markdown",
   "id": "e6df6a16",
   "metadata": {},
   "source": [
    "### Алгоритмы подсчета единичных битов в числе"
   ]
  },
  {
   "cell_type": "code",
   "execution_count": 16,
   "id": "e484f4b6",
   "metadata": {},
   "outputs": [
    {
     "name": "stdout",
     "output_type": "stream",
     "text": [
      "Число единичных битов в числе 42 : 3\n"
     ]
    }
   ],
   "source": [
    "# Алгоритм сдвига и подсчета\n",
    "def count_bits_shift(n):\n",
    "    count = 0\n",
    "    while n:\n",
    "        count += n & 1\n",
    "        n >>= 1\n",
    "    return count\n",
    "\n",
    "# Пример использования\n",
    "number = 42\n",
    "print(\"Число единичных битов в числе\", number, \":\", count_bits_shift(number))"
   ]
  },
  {
   "cell_type": "code",
   "execution_count": 17,
   "id": "e3be91c3",
   "metadata": {},
   "outputs": [
    {
     "name": "stdout",
     "output_type": "stream",
     "text": [
      "Число единичных битов в числе 42 : 3\n"
     ]
    }
   ],
   "source": [
    "# Алгоритм битовой маски\n",
    "def count_bits_mask(n):\n",
    "    count = 0\n",
    "    while n:\n",
    "        count += 1\n",
    "        n &= n - 1\n",
    "    return count\n",
    "\n",
    "# Пример использования\n",
    "number = 42\n",
    "print(\"Число единичных битов в числе\", number, \":\", count_bits_mask(number))"
   ]
  }
 ],
 "metadata": {
  "kernelspec": {
   "display_name": "Python 3 (ipykernel)",
   "language": "python",
   "name": "python3"
  },
  "language_info": {
   "codemirror_mode": {
    "name": "ipython",
    "version": 3
   },
   "file_extension": ".py",
   "mimetype": "text/x-python",
   "name": "python",
   "nbconvert_exporter": "python",
   "pygments_lexer": "ipython3",
   "version": "3.9.7"
  }
 },
 "nbformat": 4,
 "nbformat_minor": 5
}

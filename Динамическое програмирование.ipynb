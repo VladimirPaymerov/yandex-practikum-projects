{
 "cells": [
  {
   "cell_type": "markdown",
   "id": "b3dd81b8",
   "metadata": {},
   "source": [
    "### Динамическое програмирование"
   ]
  },
  {
   "cell_type": "markdown",
   "id": "57c66cb9",
   "metadata": {},
   "source": [
    "### Раз/два горох"
   ]
  },
  {
   "cell_type": "code",
   "execution_count": 2,
   "id": "8119ab57",
   "metadata": {},
   "outputs": [
    {
     "name": "stdout",
     "output_type": "stream",
     "text": [
      "1/20\n"
     ]
    }
   ],
   "source": [
    "def gcd(a, b):\n",
    "    if b == 0:\n",
    "        return a\n",
    "    return gcd(b, a % b)\n",
    "\n",
    "def add_fractions(frac1, frac2):\n",
    "    num1, den1 = frac1\n",
    "    num2, den2 = frac2\n",
    "    num = num1 * den2 + num2 * den1\n",
    "    den = den1 * den2\n",
    "    common = gcd(num, den)\n",
    "    return (num // common, den // common)\n",
    "\n",
    "def parse_fraction(frac_str):\n",
    "    parts = frac_str.split('/')\n",
    "    return int(parts[0]), int(parts[1])\n",
    "\n",
    "def find_fraction_sum(frac_str):\n",
    "    parts = frac_str.split('+')\n",
    "    frac1 = parse_fraction(parts[0])\n",
    "    frac2 = parse_fraction(parts[1])\n",
    "    return add_fractions(frac1, frac2)\n",
    "\n",
    "frac_str = \"2/100+3/100\"\n",
    "result = find_fraction_sum(frac_str)\n",
    "print(f\"{result[0]}/{result[1]}\")"
   ]
  },
  {
   "cell_type": "markdown",
   "id": "8ba8898f",
   "metadata": {},
   "source": [
    "### Ёлочка програмиста"
   ]
  },
  {
   "cell_type": "code",
   "execution_count": 5,
   "id": "8371a5d4",
   "metadata": {},
   "outputs": [
    {
     "name": "stdout",
     "output_type": "stream",
     "text": [
      "5\n",
      "3\n",
      "1 4\n",
      "2 5 9\n",
      "11 15 8 2\n",
      "43 12 101 24 84\n",
      "128\n"
     ]
    }
   ],
   "source": [
    "def find_max_girland_height(tree, n):\n",
    "    dp = [[0] * n for _ in range(n)]\n",
    "    \n",
    "    # Заполняем последнюю строку таблицы dp\n",
    "    for j in range(n):\n",
    "        dp[n-1][j] = tree[n-1][j]\n",
    "    \n",
    "    # Перебираем строки снизу вверх\n",
    "    for i in range(n-2, -1, -1):\n",
    "        for j in range(i+1):\n",
    "            dp[i][j] = tree[i][j] + max(dp[i+1][j], dp[i+1][j+1])\n",
    "    \n",
    "    return dp[0][0]\n",
    "\n",
    "# Ввод высоты ёлочки\n",
    "n = int(input())\n",
    "tree = []\n",
    "for _ in range(n):\n",
    "    row = list(map(int, input().split()))\n",
    "    tree.append(row)\n",
    "\n",
    "max_garland_height = find_max_girland_height(tree, n)\n",
    "print(max_garland_height)"
   ]
  },
  {
   "cell_type": "markdown",
   "id": "db3f967c",
   "metadata": {},
   "source": [
    "### Пятью восемь"
   ]
  },
  {
   "cell_type": "code",
   "execution_count": 15,
   "id": "56f286d6",
   "metadata": {},
   "outputs": [
    {
     "name": "stdout",
     "output_type": "stream",
     "text": [
      "3\n",
      "8\n"
     ]
    }
   ],
   "source": [
    "def count_numbers_with_condition(n):\n",
    "    dp = [[0, 0] for _ in range(n+1)]\n",
    "    dp[1][0], dp[1][1] = 1, 1\n",
    "    \n",
    "    for i in range(2, n+1):\n",
    "        dp[i][0] = dp[i-1][1] + dp[i-1][0]\n",
    "        dp[i][1] = dp[i-1][0] + dp[i-1][1]\n",
    "    \n",
    "    return dp[n][0] + dp[n][1]\n",
    "\n",
    "# Ввод числа N\n",
    "n = int(input())\n",
    "\n",
    "if n == 1:\n",
    "    print(2)  # Для N=1 есть два числа: 5 и 8\n",
    "else:\n",
    "    result = count_numbers_with_condition(n)\n",
    "    print(result)"
   ]
  },
  {
   "cell_type": "markdown",
   "id": "2d43624e",
   "metadata": {},
   "source": [
    "### Острова"
   ]
  },
  {
   "cell_type": "code",
   "execution_count": 18,
   "id": "6b05cf1b",
   "metadata": {},
   "outputs": [
    {
     "name": "stdout",
     "output_type": "stream",
     "text": [
      "4\n",
      "1 1 1 1\n",
      "0 1 0 1\n",
      "0 0 0 0\n",
      "1 0 1 1\n",
      "3\n"
     ]
    }
   ],
   "source": [
    "def count_islands_dp(matrix, n):\n",
    "    dp = [[0 for _ in range(n)] for _ in range(n)]\n",
    "    islands = 0\n",
    "\n",
    "    for i in range(n):\n",
    "        for j in range(n):\n",
    "            if matrix[i][j] == 1:\n",
    "                if (i == 0 or dp[i-1][j] == 0) and (j == 0 or dp[i][j-1] == 0):\n",
    "                    islands += 1\n",
    "                    dp[i][j] = islands\n",
    "                else:\n",
    "                    dp[i][j] = max(dp[i-1][j], dp[i][j-1])\n",
    "\n",
    "    return islands\n",
    "\n",
    "# Ввод размерности матрицы\n",
    "n = int(input())\n",
    "matrix = []\n",
    "for _ in range(n):\n",
    "    row = list(map(int, input().split()))\n",
    "    matrix.append(row)\n",
    "\n",
    "num_islands = count_islands_dp(matrix, n)\n",
    "print(num_islands)"
   ]
  }
 ],
 "metadata": {
  "kernelspec": {
   "display_name": "Python 3 (ipykernel)",
   "language": "python",
   "name": "python3"
  },
  "language_info": {
   "codemirror_mode": {
    "name": "ipython",
    "version": 3
   },
   "file_extension": ".py",
   "mimetype": "text/x-python",
   "name": "python",
   "nbconvert_exporter": "python",
   "pygments_lexer": "ipython3",
   "version": "3.9.7"
  }
 },
 "nbformat": 4,
 "nbformat_minor": 5
}

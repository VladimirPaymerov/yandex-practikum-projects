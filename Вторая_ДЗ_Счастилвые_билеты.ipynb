{
 "cells": [
  {
   "cell_type": "markdown",
   "id": "568acaca",
   "metadata": {},
   "source": [
    "### Рекурсия"
   ]
  },
  {
   "cell_type": "code",
   "execution_count": 1,
   "id": "2335326c",
   "metadata": {},
   "outputs": [],
   "source": [
    "def net(n, A=0, B=0, l=0):\n",
    "    if l==2*n:\n",
    "        return 1 if A==B else 0\n",
    "    count=0\n",
    "    for i in range(10):\n",
    "        if l<n:\n",
    "            count+=net(n,A+i,B,l+1)\n",
    "        else:\n",
    "            count+=net(n,A,B+i,l+1)\n",
    "    return count"
   ]
  },
  {
   "cell_type": "code",
   "execution_count": 2,
   "id": "b63ad097",
   "metadata": {},
   "outputs": [
    {
     "name": "stdout",
     "output_type": "stream",
     "text": [
      "Для N=1 кол-во 2N-значных счастливых билетов: 10\n",
      "Время для N=1:0.0009868144989013672 секунд\n",
      "Для N=2 кол-во 2N-значных счастливых билетов: 670\n",
      "Время для N=2:0.015888214111328125 секунд\n",
      "Для N=3 кол-во 2N-значных счастливых билетов: 55252\n",
      "Время для N=3:0.686147928237915 секунд\n",
      "Для N=4 кол-во 2N-значных счастливых билетов: 4816030\n",
      "Время для N=4:65.91216254234314 секунд\n"
     ]
    }
   ],
   "source": [
    "import time\n",
    "for N in range(1,5):\n",
    "    start_time = time.time()\n",
    "    print(f\"Для N={N} кол-во 2N-значных счастливых билетов: {net(N)}\")\n",
    "    end_time = time.time()\n",
    "    elapsed_time = end_time-start_time\n",
    "    print(f\"Время для N={N}:{elapsed_time} секунд\")"
   ]
  },
  {
   "cell_type": "markdown",
   "id": "42edc8e2",
   "metadata": {},
   "source": [
    "### Алгоритм по поиску со сложностью N^2"
   ]
  },
  {
   "cell_type": "code",
   "execution_count": 3,
   "id": "12e86e50",
   "metadata": {},
   "outputs": [],
   "source": [
    "def countTickets(n):\n",
    "    # Список для заполнения и запоминания кол-ва пар\n",
    "    sumsPrev = [1]\n",
    "    for i in range(n):\n",
    "        l = (i + 1) * 9 + 1\n",
    "        sumsCurr = [0] * l # Длина списка, зависит от кол-ва цифр в билете\n",
    "        for j in range(10):\n",
    "            for a, b in enumerate(sumsPrev):\n",
    "                sumsCurr[j + a] += b # Заполнение списка возможных пар билетов и смещение\n",
    "        sumsPrev = sumsCurr\n",
    "    rs = 0\n",
    "    # Вычисление кол-ва счастливых билетов\n",
    "    for i in sumsPrev:\n",
    "        rs += i * i\n",
    "    return rs"
   ]
  },
  {
   "cell_type": "code",
   "execution_count": 4,
   "id": "5597260a",
   "metadata": {},
   "outputs": [
    {
     "name": "stdout",
     "output_type": "stream",
     "text": [
      "Для N=1 кол-во 2N-значных счастливых билетов: 10\n",
      "Время для N=1:0.0 секунд\n",
      "Для N=2 кол-во 2N-значных счастливых билетов: 670\n",
      "Время для N=2:0.0 секунд\n",
      "Для N=3 кол-во 2N-значных счастливых билетов: 55252\n",
      "Время для N=3:0.0019850730895996094 секунд\n",
      "Для N=4 кол-во 2N-значных счастливых билетов: 4816030\n",
      "Время для N=4:0.0009918212890625 секунд\n",
      "Для N=5 кол-во 2N-значных счастливых билетов: 432457640\n",
      "Время для N=5:0.0 секунд\n",
      "Для N=6 кол-во 2N-значных счастливых билетов: 39581170420\n",
      "Время для N=6:0.0 секунд\n",
      "Для N=7 кол-во 2N-значных счастливых билетов: 3671331273480\n",
      "Время для N=7:0.0 секунд\n",
      "Для N=8 кол-во 2N-значных счастливых билетов: 343900019857310\n",
      "Время для N=8:0.0009791851043701172 секунд\n",
      "Для N=9 кол-во 2N-значных счастливых билетов: 32458256583753952\n",
      "Время для N=9:0.0009930133819580078 секунд\n",
      "Для N=10 кол-во 2N-значных счастливых билетов: 3081918923741896840\n",
      "Время для N=10:0.000993490219116211 секунд\n"
     ]
    }
   ],
   "source": [
    "for N in range(1,11):\n",
    "    start_time = time.time()\n",
    "    print(f\"Для N={N} кол-во 2N-значных счастливых билетов: {countTickets(N)}\")\n",
    "    end_time = time.time()\n",
    "    elapsed_time = end_time-start_time\n",
    "    print(f\"Время для N={N}:{elapsed_time} секунд\")"
   ]
  }
 ],
 "metadata": {
  "kernelspec": {
   "display_name": "Python 3 (ipykernel)",
   "language": "python",
   "name": "python3"
  },
  "language_info": {
   "codemirror_mode": {
    "name": "ipython",
    "version": 3
   },
   "file_extension": ".py",
   "mimetype": "text/x-python",
   "name": "python",
   "nbconvert_exporter": "python",
   "pygments_lexer": "ipython3",
   "version": "3.9.7"
  }
 },
 "nbformat": 4,
 "nbformat_minor": 5
}

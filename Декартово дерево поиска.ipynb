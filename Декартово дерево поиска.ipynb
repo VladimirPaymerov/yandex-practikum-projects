{
 "cells": [
  {
   "cell_type": "markdown",
   "id": "a96f7c2d",
   "metadata": {},
   "source": [
    "### Декартово дерево поиска"
   ]
  },
  {
   "cell_type": "code",
   "execution_count": 1,
   "id": "ac9fc289",
   "metadata": {},
   "outputs": [],
   "source": [
    "import random \n",
    "import time"
   ]
  },
  {
   "cell_type": "code",
   "execution_count": 7,
   "id": "7f050c4a",
   "metadata": {},
   "outputs": [],
   "source": [
    "class Node:\n",
    "    def __init__(self, key):\n",
    "        self.key = key\n",
    "        self.priority = random.random()\n",
    "        self.left = None\n",
    "        self.right = None\n",
    "\n",
    "def split(root, key):\n",
    "    if root is None:\n",
    "        return None, None\n",
    "    if root.key < key:\n",
    "        left, right = split(root.right, key)\n",
    "        root.right = left\n",
    "        return root, right\n",
    "    else:\n",
    "        left, right = split(root.left, key)\n",
    "        root.left = right\n",
    "        return left, root\n",
    "\n",
    "def merge(left, right):\n",
    "    if left is None:\n",
    "        return right\n",
    "    if right is None:\n",
    "        return left\n",
    "    if left.priority < right.priority:\n",
    "        right.left = merge(left, right.left)\n",
    "        return right\n",
    "    else:\n",
    "        left.right = merge(left.right, right)\n",
    "        return left\n",
    "\n",
    "def insert(root, node):\n",
    "    if root is None:\n",
    "        return node\n",
    "    if node.priority < root.priority:\n",
    "        left, right = split(root, node.key)\n",
    "        node.left = left\n",
    "        node.right = right\n",
    "        return node\n",
    "    elif node.key < root.key:\n",
    "        root.left = insert(root.left, node)\n",
    "    else:\n",
    "        root.right = insert(root.right, node)\n",
    "    return root\n",
    "\n",
    "# Функция поиска элемента в декартовом дереве\n",
    "def search(root, key):\n",
    "    if root is None or root.key == key:\n",
    "        return root\n",
    "    if key < root.key:\n",
    "        return search(root.left, key)\n",
    "    else:\n",
    "        return search(root.right, key)\n",
    "\n",
    "# Функция удаления элемента из декартового дерева\n",
    "def delete(root, key):\n",
    "    if root is None:\n",
    "        return None\n",
    "    if root.key == key:\n",
    "        return merge(root.left, root.right)\n",
    "    elif key < root.key:\n",
    "        root.left = delete(root.left, key)\n",
    "    else:\n",
    "        root.right = delete(root.right, key)\n",
    "    return root    \n",
    "    \n",
    "def in_order_traversal(root):\n",
    "    if root:\n",
    "        in_order_traversal(root.left)\n",
    "        print(root.key, end=' ')\n",
    "        in_order_traversal(root.right)"
   ]
  },
  {
   "cell_type": "code",
   "execution_count": 3,
   "id": "01e874e4",
   "metadata": {},
   "outputs": [
    {
     "name": "stdout",
     "output_type": "stream",
     "text": [
      "Время вставки 10 элементов в случайном порядке: 0.0 секунд\n",
      "Время вставки 100 элементов в случайном порядке: 0.0009992122650146484 секунд\n",
      "Время вставки 1000 элементов в случайном порядке: 0.01599860191345215 секунд\n",
      "Время вставки 10000 элементов в случайном порядке: 0.2030017375946045 секунд\n",
      "Время вставки 100000 элементов в случайном порядке: 3.1790614128112793 секунд\n",
      "Время вставки 1000000 элементов в случайном порядке: 56.673840045928955 секунд\n"
     ]
    }
   ],
   "source": [
    "# Измерение времени вставки N элементов в случайном порядке\n",
    "N = [10,100,1000,10000,100000, 1000000]  # Количество элементов для вставки\n",
    "\n",
    "root = None\n",
    "\n",
    "for n in N:\n",
    "    start_time = time.time()\n",
    "    for i in range(n):\n",
    "        new_node = Node(random.randint(1, n))\n",
    "        root = insert(root, new_node)\n",
    "\n",
    "    end_time = time.time()\n",
    "    elapsed_time = end_time - start_time\n",
    "\n",
    "    print(f\"Время вставки {n} элементов в случайном порядке: {elapsed_time} секунд\")"
   ]
  },
  {
   "cell_type": "code",
   "execution_count": 4,
   "id": "12c2fee6",
   "metadata": {},
   "outputs": [
    {
     "name": "stdout",
     "output_type": "stream",
     "text": [
      "Время поиска 1 случайных элементов в дереве из 10 элементов: 0.0 секунд\n",
      "Время поиска 10 случайных элементов в дереве из 100 элементов: 0.0 секунд\n",
      "Время поиска 100 случайных элементов в дереве из 1000 элементов: 0.0 секунд\n",
      "Время поиска 1000 случайных элементов в дереве из 10000 элементов: 0.010997533798217773 секунд\n",
      "Время поиска 10000 случайных элементов в дереве из 100000 элементов: 0.15998554229736328 секунд\n",
      "Время поиска 100000 случайных элементов в дереве из 1000000 элементов: 2.377366304397583 секунд\n"
     ]
    }
   ],
   "source": [
    "# Измерение времени поиска N/10 случайных элементов в дереве\n",
    "N = [10, 100, 1000, 10000, 100000, 1000000]  # Количество элементов в дереве\n",
    "\n",
    "root = None\n",
    "\n",
    "for n in N:\n",
    "    for i in range(n):\n",
    "        new_node = Node(random.randint(1, n))\n",
    "        root = insert(root, new_node)\n",
    "        m = n//10\n",
    "\n",
    "    search_keys = [random.randint(1, n) for _ in range(m)]\n",
    "\n",
    "    start_time = time.time()\n",
    "\n",
    "    for key in search_keys:\n",
    "        result = search(root, key)\n",
    "\n",
    "    end_time = time.time()\n",
    "    elapsed_time = end_time - start_time\n",
    "\n",
    "    print(f\"Время поиска {m} случайных элементов в дереве из {n} элементов: {elapsed_time} секунд\")"
   ]
  },
  {
   "cell_type": "code",
   "execution_count": 8,
   "id": "d884cd5b",
   "metadata": {},
   "outputs": [
    {
     "name": "stdout",
     "output_type": "stream",
     "text": [
      "Время удаления 1 случайных элементов в дереве из 10 элементов: 0.0009999275207519531 секунд\n",
      "Время удаления 10 случайных элементов в дереве из 100 элементов: 0.0 секунд\n",
      "Время удаления 100 случайных элементов в дереве из 1000 элементов: 0.00099945068359375 секунд\n",
      "Время удаления 1000 случайных элементов в дереве из 10000 элементов: 0.015038013458251953 секунд\n",
      "Время удаления 10000 случайных элементов в дереве из 100000 элементов: 0.24699950218200684 секунд\n",
      "Время удаления 100000 случайных элементов в дереве из 1000000 элементов: 3.5050432682037354 секунд\n"
     ]
    }
   ],
   "source": [
    "# Измерение времени поиска N/10 случайных элементов в дереве\n",
    "N = [10, 100, 1000, 10000, 100000, 1000000]  # Количество элементов в дереве\n",
    "\n",
    "root = None\n",
    "\n",
    "for n in N:\n",
    "    for i in range(n):\n",
    "        new_node = Node(random.randint(1, n))\n",
    "        root = insert(root, new_node)\n",
    "        m = n//10\n",
    "\n",
    "    search_keys = [random.randint(1, n) for _ in range(m)]\n",
    "\n",
    "    start_time = time.time()\n",
    "\n",
    "    for key in search_keys:\n",
    "        root = delete(root, key)\n",
    "\n",
    "    end_time = time.time()\n",
    "    elapsed_time = end_time - start_time\n",
    "\n",
    "    print(f\"Время удаления {m} случайных элементов в дереве из {n} элементов: {elapsed_time} секунд\")"
   ]
  }
 ],
 "metadata": {
  "kernelspec": {
   "display_name": "Python 3 (ipykernel)",
   "language": "python",
   "name": "python3"
  },
  "language_info": {
   "codemirror_mode": {
    "name": "ipython",
    "version": 3
   },
   "file_extension": ".py",
   "mimetype": "text/x-python",
   "name": "python",
   "nbconvert_exporter": "python",
   "pygments_lexer": "ipython3",
   "version": "3.9.7"
  }
 },
 "nbformat": 4,
 "nbformat_minor": 5
}

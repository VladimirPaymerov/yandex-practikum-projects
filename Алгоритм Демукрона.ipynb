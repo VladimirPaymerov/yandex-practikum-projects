{
 "cells": [
  {
   "cell_type": "markdown",
   "id": "bd490012",
   "metadata": {},
   "source": [
    "### Алгоритм Демукрона"
   ]
  },
  {
   "cell_type": "code",
   "execution_count": 1,
   "id": "6f87e290",
   "metadata": {},
   "outputs": [],
   "source": [
    "def demurkan(graph):\n",
    "    levels = []\n",
    "    visited = set()\n",
    "\n",
    "    def dfs(node, level):\n",
    "        if level == len(levels):\n",
    "            levels.append([])\n",
    "\n",
    "        levels[level].append(node)\n",
    "        visited.add(node)\n",
    "\n",
    "        for neighbor in graph[node]:\n",
    "            if neighbor not in visited:\n",
    "                dfs(neighbor, level + 1)\n",
    "\n",
    "    for node in range(len(graph)):\n",
    "        if node not in visited:\n",
    "            dfs(node, 0)\n",
    "\n",
    "    return levels"
   ]
  },
  {
   "cell_type": "code",
   "execution_count": 7,
   "id": "30918e99",
   "metadata": {},
   "outputs": [
    {
     "name": "stdout",
     "output_type": "stream",
     "text": [
      "[[0], [1, 3], [2, 4, 5], [6, 8, 7], [9]]\n"
     ]
    }
   ],
   "source": [
    "# Пример вектора смежности\n",
    "graph = {\n",
    "    0: [1, 2, 3],\n",
    "    1: [2, 4, 5],\n",
    "    2: [6, 8],\n",
    "    3: [7],\n",
    "    4: [8],\n",
    "    5: [7],\n",
    "    6: [],\n",
    "    7: [9],\n",
    "    8: [],\n",
    "    9: []\n",
    "}\n",
    "\n",
    "result = demurkan(graph)\n",
    "print(result)"
   ]
  },
  {
   "cell_type": "markdown",
   "id": "1736c9dc",
   "metadata": {},
   "source": [
    "В этом коде:\n",
    "- Функция demurkan(graph) инициализирует пустой список levels для хранения вершин по уровням и множество visited для отслеживания посещенных вершин.\n",
    "- Вложенная функция dfs(node, level) выполняет обход графа в глубину с рекурсией. Она добавляет текущую вершину в соответствующий уровень и рекурсивно вызывает себя для всех непосещенных соседей.\n",
    "- Затем происходит итерация по всем вершинам графа, и если вершина не была посещена, то запускается обход из нее с уровнем 0.\n",
    "- Наконец, функция возвращает список levels, представляющий уровни вершин."
   ]
  }
 ],
 "metadata": {
  "kernelspec": {
   "display_name": "Python 3 (ipykernel)",
   "language": "python",
   "name": "python3"
  },
  "language_info": {
   "codemirror_mode": {
    "name": "ipython",
    "version": 3
   },
   "file_extension": ".py",
   "mimetype": "text/x-python",
   "name": "python",
   "nbconvert_exporter": "python",
   "pygments_lexer": "ipython3",
   "version": "3.9.7"
  }
 },
 "nbformat": 4,
 "nbformat_minor": 5
}

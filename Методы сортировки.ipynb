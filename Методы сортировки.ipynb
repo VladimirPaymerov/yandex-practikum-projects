{
 "cells": [
  {
   "cell_type": "markdown",
   "id": "c817c875",
   "metadata": {},
   "source": [
    "### BubbleSort"
   ]
  },
  {
   "cell_type": "code",
   "execution_count": 15,
   "id": "9d741d10",
   "metadata": {},
   "outputs": [],
   "source": [
    "import random\n",
    "import time"
   ]
  },
  {
   "cell_type": "code",
   "execution_count": 21,
   "id": "53ebe137",
   "metadata": {},
   "outputs": [],
   "source": [
    "def bubble_sort(arr):\n",
    "    n = len(arr)\n",
    "    asg = 0\n",
    "    cnt = 0\n",
    "    for i in range(n):\n",
    "        for j in range(0, n-i-1):\n",
    "            cnt+=1\n",
    "            if arr[j] > arr[j+1]:\n",
    "                arr[j], arr[j+1] = arr[j+1], arr[j]\n",
    "                asg+=3\n",
    "    return arr, asg, cnt"
   ]
  },
  {
   "cell_type": "code",
   "execution_count": 23,
   "id": "2eaf49d7",
   "metadata": {},
   "outputs": [
    {
     "name": "stdout",
     "output_type": "stream",
     "text": [
      "Для N=10 время сотировки: 0.0; кол-во присваиваний: 51; кол-во сравнений: 45\n",
      "Для N=100 время сотировки: 0.0019948482513427734; кол-во присваиваний: 6945; кол-во сравнений: 4950\n",
      "Для N=1000 время сотировки: 0.2609999179840088; кол-во присваиваний: 751680; кол-во сравнений: 499500\n",
      "Для N=10000 время сотировки: 35.09468078613281; кол-во присваиваний: 75702009; кол-во сравнений: 49995000\n"
     ]
    }
   ],
   "source": [
    "random.seed(1234)\n",
    "n = [10, 100, 1000, 10000]\n",
    "for i in n:\n",
    "    a = [random.randint(1,i) for j in range(i)]\n",
    "    start_time = time.time()\n",
    "    ar, asg, cnt = bubble_sort(a)\n",
    "    end_time = time.time()\n",
    "    elapsed_time = end_time-start_time\n",
    "    print(f\"Для N={i} время сотировки: {elapsed_time}; кол-во присваиваний: {asg}; кол-во сравнений: {cnt}\")"
   ]
  },
  {
   "cell_type": "markdown",
   "id": "0f2af53e",
   "metadata": {},
   "source": [
    "### InsertShiftSort"
   ]
  },
  {
   "cell_type": "code",
   "execution_count": 31,
   "id": "951f9cd9",
   "metadata": {},
   "outputs": [],
   "source": [
    "def insert_sort(arr):\n",
    "    n = len(arr)\n",
    "    asg = 0\n",
    "    cnt = 0\n",
    "    for i in range(1, n):\n",
    "        key = arr[i]\n",
    "        j = i-1\n",
    "        while j>=0 and key < arr[j]:\n",
    "            cnt+=1\n",
    "            arr[j+1] = arr[j]\n",
    "            asg+=1\n",
    "            j-=1\n",
    "        arr[j+1]=key\n",
    "        asg+=1\n",
    "    return arr, asg, cnt"
   ]
  },
  {
   "cell_type": "code",
   "execution_count": 32,
   "id": "be4b3c41",
   "metadata": {},
   "outputs": [
    {
     "name": "stdout",
     "output_type": "stream",
     "text": [
      "Для N=10 время сотировки: 0.0; кол-во присваиваний: 26; кол-во сравнений: 17\n",
      "Для N=100 время сотировки: 0.0009963512420654297; кол-во присваиваний: 2414; кол-во сравнений: 2315\n",
      "Для N=1000 время сотировки: 0.13799500465393066; кол-во присваиваний: 251559; кол-во сравнений: 250560\n",
      "Для N=10000 время сотировки: 13.972938537597656; кол-во присваиваний: 25244002; кол-во сравнений: 25234003\n"
     ]
    }
   ],
   "source": [
    "random.seed(1234)\n",
    "n = [10, 100, 1000, 10000]\n",
    "for i in n:\n",
    "    a = [random.randint(1,i) for j in range(i)]\n",
    "    start_time = time.time()\n",
    "    ar, asg, cnt = insert_sort(a)\n",
    "    end_time = time.time()\n",
    "    elapsed_time = end_time-start_time\n",
    "    print(f\"Для N={i} время сотировки: {elapsed_time}; кол-во присваиваний: {asg}; кол-во сравнений: {cnt}\")"
   ]
  },
  {
   "cell_type": "markdown",
   "id": "e69f3025",
   "metadata": {},
   "source": [
    "### InsertSwapSort"
   ]
  },
  {
   "cell_type": "code",
   "execution_count": 26,
   "id": "040f08ce",
   "metadata": {},
   "outputs": [],
   "source": [
    "def insert_sort_swap(arr):\n",
    "    n = len(arr)\n",
    "    asg = 0\n",
    "    cnt = 0\n",
    "    for i in range(1, n):\n",
    "        j = i\n",
    "        while j>=0 and arr[j-1] > arr[j]:\n",
    "            cnt+=1\n",
    "            arr[j-1], arr[j] = arr[j], arr[j-1]\n",
    "            asg+=3\n",
    "            j-=1\n",
    "        asg+=1\n",
    "    return arr, asg, cnt"
   ]
  },
  {
   "cell_type": "code",
   "execution_count": 28,
   "id": "88b1dce7",
   "metadata": {},
   "outputs": [
    {
     "name": "stdout",
     "output_type": "stream",
     "text": [
      "Для N=10 время сотировки: 0.0009951591491699219; кол-во присваиваний: 93; кол-во сравнений: 28\n",
      "Для N=100 время сотировки: 0.0020041465759277344; кол-во присваиваний: 7341; кол-во сравнений: 2414\n",
      "Для N=1000 время сотировки: 0.22699904441833496; кол-во присваиваний: 757638; кол-во сравнений: 252213\n",
      "Для N=10000 время сотировки: 22.42231011390686; кол-во присваиваний: 75733770; кол-во сравнений: 25241257\n"
     ]
    }
   ],
   "source": [
    "random.seed(1234)\n",
    "n = [10, 100, 1000, 10000]\n",
    "for i in n:\n",
    "    a = [random.randint(1,i) for j in range(i)]\n",
    "    start_time = time.time()\n",
    "    ar, asg, cnt = insert_sort_swap(a)\n",
    "    end_time = time.time()\n",
    "    elapsed_time = end_time-start_time\n",
    "    print(f\"Для N={i} время сотировки: {elapsed_time}; кол-во присваиваний: {asg}; кол-во сравнений: {cnt}\")"
   ]
  },
  {
   "cell_type": "markdown",
   "id": "3331adb6",
   "metadata": {},
   "source": [
    "### InsertBinarySort"
   ]
  },
  {
   "cell_type": "code",
   "execution_count": 36,
   "id": "b6dfb81e",
   "metadata": {},
   "outputs": [],
   "source": [
    "def binary_search(arr, val, start, end):\n",
    "    while start < end:\n",
    "        mid = (start+end)//2\n",
    "        if arr[mid] < val:\n",
    "            start = mid+1\n",
    "        else:\n",
    "            end=mid\n",
    "    return start"
   ]
  },
  {
   "cell_type": "code",
   "execution_count": 33,
   "id": "69c1f809",
   "metadata": {},
   "outputs": [],
   "source": [
    "def insert_sort_binary(arr):\n",
    "    n = len(arr)\n",
    "    asg = 0\n",
    "    cnt = 0\n",
    "    for i in range(1, n):\n",
    "        j = i\n",
    "        key = arr[j]\n",
    "        pos = binary_search(arr, key, 0, j)\n",
    "        while j>pos:\n",
    "            cnt+=1\n",
    "            arr[j] = arr[j-1]\n",
    "            asg+=1\n",
    "            j-=1\n",
    "        arr[pos]=key\n",
    "        asg+=1\n",
    "    return arr, asg, cnt"
   ]
  },
  {
   "cell_type": "code",
   "execution_count": 37,
   "id": "a125cd5f",
   "metadata": {},
   "outputs": [
    {
     "name": "stdout",
     "output_type": "stream",
     "text": [
      "Для N=10 время сотировки: 0.0009996891021728516; кол-во присваиваний: 33; кол-во сравнений: 24\n",
      "Для N=100 время сотировки: 0.0009989738464355469; кол-во присваиваний: 2473; кол-во сравнений: 2374\n",
      "Для N=1000 время сотировки: 0.1239309310913086; кол-во присваиваний: 252039; кол-во сравнений: 251040\n",
      "Для N=10000 время сотировки: 11.645354986190796; кол-во присваиваний: 25248911; кол-во сравнений: 25238912\n"
     ]
    }
   ],
   "source": [
    "random.seed(1234)\n",
    "n = [10, 100, 1000, 10000]\n",
    "for i in n:\n",
    "    a = [random.randint(1,i) for j in range(i)]\n",
    "    start_time = time.time()\n",
    "    ar, asg, cnt = insert_sort_binary(a)\n",
    "    end_time = time.time()\n",
    "    elapsed_time = end_time-start_time\n",
    "    print(f\"Для N={i} время сотировки: {elapsed_time}; кол-во присваиваний: {asg}; кол-во сравнений: {cnt}\")"
   ]
  },
  {
   "cell_type": "markdown",
   "id": "43ba37d0",
   "metadata": {},
   "source": [
    "### ShellSort"
   ]
  },
  {
   "cell_type": "code",
   "execution_count": 43,
   "id": "01380bab",
   "metadata": {},
   "outputs": [],
   "source": [
    "def shell_sort(arr):\n",
    "    n = len(arr)\n",
    "    gap = n//2\n",
    "    asg = 0\n",
    "    cnt = 0\n",
    "    while gap>0:\n",
    "        for i in range(gap, n):\n",
    "            temp = arr[i]\n",
    "            j = i\n",
    "            while j>=gap and arr[j-gap] > temp:\n",
    "                cnt+=1\n",
    "                arr[j] = arr[j-gap]\n",
    "                asg+=1\n",
    "                j-=gap\n",
    "            arr[j] = temp\n",
    "            asg+=1\n",
    "        gap//=2\n",
    "    return arr, asg, cnt"
   ]
  },
  {
   "cell_type": "code",
   "execution_count": 44,
   "id": "36ceabe7",
   "metadata": {},
   "outputs": [
    {
     "name": "stdout",
     "output_type": "stream",
     "text": [
      "Для N=10 время сотировки: 0.14096856117248535; кол-во присваиваний: 28; кол-во сравнений: 6\n",
      "Для N=100 время сотировки: 0.0010018348693847656; кол-во присваиваний: 854; кол-во сравнений: 351\n",
      "Для N=1000 время сотировки: 0.009028434753417969; кол-во присваиваний: 15327; кол-во сравнений: 7321\n",
      "Для N=10000 время сотировки: 0.17496061325073242; кол-во присваиваний: 269197; кол-во сравнений: 149192\n",
      "Для N=100000 время сотировки: 2.99702525138855; кол-во присваиваний: 4398718; кол-во сравнений: 2898712\n",
      "Для N=1000000 время сотировки: 54.43336224555969; кол-во присваиваний: 70143545; кол-во сравнений: 52143538\n"
     ]
    }
   ],
   "source": [
    "random.seed(1234)\n",
    "n = [10, 100, 1000, 10000, 100000, 1000000]\n",
    "for i in n:\n",
    "    a = [random.randint(1,i) for j in range(i)]\n",
    "    start_time = time.time()\n",
    "    ar, asg, cnt = shell_sort(a)\n",
    "    end_time = time.time()\n",
    "    elapsed_time = end_time-start_time\n",
    "    print(f\"Для N={i} время сотировки: {elapsed_time}; кол-во присваиваний: {asg}; кол-во сравнений: {cnt}\")"
   ]
  }
 ],
 "metadata": {
  "kernelspec": {
   "display_name": "Python 3 (ipykernel)",
   "language": "python",
   "name": "python3"
  },
  "language_info": {
   "codemirror_mode": {
    "name": "ipython",
    "version": 3
   },
   "file_extension": ".py",
   "mimetype": "text/x-python",
   "name": "python",
   "nbconvert_exporter": "python",
   "pygments_lexer": "ipython3",
   "version": "3.9.7"
  }
 },
 "nbformat": 4,
 "nbformat_minor": 5
}

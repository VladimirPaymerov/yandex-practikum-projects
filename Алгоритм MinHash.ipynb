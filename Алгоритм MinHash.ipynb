{
 "cells": [
  {
   "cell_type": "markdown",
   "id": "daad3340",
   "metadata": {},
   "source": [
    "### Алгоритм MinHash"
   ]
  },
  {
   "cell_type": "code",
   "execution_count": 18,
   "id": "4b283f22",
   "metadata": {},
   "outputs": [],
   "source": [
    "# Создание класса по разделению текста на shingles (части)\n",
    "class shingler:\n",
    "    def __init__(self, k):\n",
    "        if k > 0:\n",
    "            self.k = int(k)\n",
    "        else:\n",
    "            self.k = 10   \n",
    "    #inner class utility\n",
    "    def process_doc(self, document):\n",
    "        return re.sub(\"( )+|(\\n)+\",\" \",document).lower()\n",
    "\n",
    "    def get_shingles(self, document):\n",
    "        shingles = set()\n",
    "        document= self.process_doc(document)\n",
    "        for i in range(0, len(document)-self.k+1 ):\n",
    "            shingles.add(document[i:i+self.k])\n",
    "        return shingles"
   ]
  },
  {
   "cell_type": "code",
   "execution_count": 22,
   "id": "e041cc11",
   "metadata": {},
   "outputs": [],
   "source": [
    "import hashlib\n",
    "import re\n",
    "import math\n",
    "# Применение hash-функции sha1 для формирования хэшей для частей текста\n",
    "class hashFamily:\n",
    "    def __init__(self, i):\n",
    "        self.resultSize = 8 # размер хэша\n",
    "        self.maxLen = 20 # длина хэша - сколько разных хэшей вычисляется\n",
    "        self.salt = str(i).zfill(self.maxLen)[-self.maxLen:]\n",
    "\n",
    "    def get_hash_value(self, el_to_hash):\n",
    "        return int(hashlib.sha1(str(el_to_hash).encode('utf-8') + self.salt.encode('utf-8')).hexdigest()[-self.resultSize:], 16)"
   ]
  },
  {
   "cell_type": "code",
   "execution_count": 16,
   "id": "cd2fc156",
   "metadata": {},
   "outputs": [],
   "source": [
    "from random import randint, seed\n",
    "class minhashSigner:\n",
    "    def __init__(self, sig_size):\n",
    "        self.sig_size=sig_size\n",
    "        # Инициализация рандомного набора хэш-функции\n",
    "        self.hash_functions = [hashFamily(randint(0,10000000000)) for i in range(0,sig_size)]\n",
    "\n",
    "    def compute_set_signature(self, set_):\n",
    "        # Для каждого токена вычисляются хэши с использованием хэш-функций.\n",
    "        # Для каждой хэш-функции сохраняется минимальное значение хэша для данного токена.\n",
    "        set_sig = []\n",
    "        for h_funct in self.hash_functions:\n",
    "            min_hash = math.inf\n",
    "            for el in set_:\n",
    "                h = h_funct.get_hash_value(el)\n",
    "                if h < min_hash:\n",
    "                    min_hash = h\n",
    "\n",
    "            set_sig.append(min_hash)\n",
    "\n",
    "        return set_sig\n",
    "    # возвращает список списков, который можно рассматривать как матрицу сигнатур (подписей)\n",
    "    def compute_signature_matrix(self, set_list):\n",
    "        signatures = []\n",
    "        for s in set_list:\n",
    "            signatures.append( self.compute_set_signature(s) )\n",
    "        return signatures"
   ]
  },
  {
   "cell_type": "code",
   "execution_count": 34,
   "id": "c2dc8fb1",
   "metadata": {},
   "outputs": [
    {
     "name": "stdout",
     "output_type": "stream",
     "text": [
      "{'sample tex', ' text for ', 'a sample t', 'or testing', 'sting minh', 'ple text f', 's a sample', 'is is a sa', ' a sample ', ' for testi', 'ext for te', 'his is a s', 'testing mi', 'is a sampl', ' is a samp', 't for test', ' minhash a', 'ing minhas', 'ting minha', 'this is a ', 'xt for tes', 'h algorith', ' sample te', 'ample text', 'ng minhash', 'mple text ', 'for testin', 'minhash al', ' testing m', 'esting min', 'g minhash ', 'inhash alg', 'hash algor', ' algorithm', 'text for t', 'e text for', 'le text fo', 'sh algorit', 'r testing ', 'ash algori', 'nhash algo', 's is a sam'}\n",
      "----------------------------------------------------\n",
      "[[48294715, 135952987, 67559240, 203835105, 223411848, 167838644, 151908201, 95721586, 53735794, 157135870, 98146585, 43453560, 14381977, 269643867, 107362640, 29245735, 15001205, 49334622, 17333750, 37248475], [48294715, 51008138, 72325829, 203835105, 532266030, 167838644, 54658253, 95721586, 112623961, 171130964, 98146585, 163432405, 14381977, 65086000, 107362640, 29245735, 15001205, 49334622, 17333750, 37248475]]\n",
      "----------------------------------------------------\n",
      "{223411848, 98146585, 14381977, 29245735, 167838644, 48294715, 67559240, 107362640, 269643867, 135952987, 37248475, 49334622, 203835105, 151908201, 95721586, 53735794, 15001205, 17333750, 43453560, 157135870}\n",
      "{51008138, 98146585, 14381977, 29245735, 532266030, 65086000, 167838644, 48294715, 72325829, 54658253, 107362640, 171130964, 163432405, 112623961, 37248475, 49334622, 203835105, 95721586, 15001205, 17333750}\n",
      "----------------------------------------------------\n",
      "0.42857142857142855\n",
      "----------------------------------------------------\n",
      "0.4444444444444444\n",
      "----------------------------------------------------\n"
     ]
    }
   ],
   "source": [
    "doc = \"This is a sample text for testing minhash algorithm\"\n",
    "doc2 = \"Sample text for testing the minhash algorithm\"\n",
    "\n",
    "# Разбиваем текст на сэмплы для каждого текста (параметр 10 - обозначает кол-во символов в сэмпле)\n",
    "shingler_inst = shingler(10)\n",
    "shinglings = shingler_inst.get_shingles(doc)\n",
    "shinglings2 = shingler_inst.get_shingles(doc2)\n",
    "print(shinglings)\n",
    "print('----------------------------------------------------')\n",
    "\n",
    "# Вычисляем хэш-функцию для каждого сэмпла и перем минимальное значение (размер должен быть равен 20 - кол-во взятых minhash)\n",
    "minhash_sig = minhashSigner(20).compute_signature_matrix([shinglings,shinglings2])\n",
    "print(minhash_sig)\n",
    "print('----------------------------------------------------')\n",
    "\n",
    "set_sig_1 = set(minhash_sig[0])\n",
    "set_sig_2 = set(minhash_sig[1])\n",
    "print(set_sig_1)\n",
    "print(set_sig_2)\n",
    "print('----------------------------------------------------')\n",
    "\n",
    "# Вычисляем схожесть через индекс Жакара\n",
    "jaccard_similarity_sig = len(set_sig_1.intersection(set_sig_2))/len(set_sig_1.union(set_sig_2))\n",
    "print(jaccard_similarity_sig)\n",
    "print('----------------------------------------------------')\n",
    "\n",
    "# Вычисляем схожесть через индекс Жакара у shingles\n",
    "jaccard_similarity_shingle_set = len(set(shinglings).intersection(shinglings2))/len(set(shinglings).union(shinglings2))\n",
    "print(jaccard_similarity_shingle_set)\n",
    "print('----------------------------------------------------')"
   ]
  },
  {
   "cell_type": "markdown",
   "id": "903a4a09",
   "metadata": {},
   "source": [
    "Можно заметить, что сходство Jaccard между сигнатурами (сэмплами) документов близко к сходству между наборами shingle"
   ]
  }
 ],
 "metadata": {
  "kernelspec": {
   "display_name": "Python 3 (ipykernel)",
   "language": "python",
   "name": "python3"
  },
  "language_info": {
   "codemirror_mode": {
    "name": "ipython",
    "version": 3
   },
   "file_extension": ".py",
   "mimetype": "text/x-python",
   "name": "python",
   "nbconvert_exporter": "python",
   "pygments_lexer": "ipython3",
   "version": "3.9.7"
  }
 },
 "nbformat": 4,
 "nbformat_minor": 5
}

{
 "cells": [
  {
   "cell_type": "markdown",
   "id": "3c024358",
   "metadata": {},
   "source": [
    "### Алгоритм построения конечного автомата"
   ]
  },
  {
   "cell_type": "code",
   "execution_count": 7,
   "id": "9b7eb503",
   "metadata": {},
   "outputs": [
    {
     "name": "stdout",
     "output_type": "stream",
     "text": [
      "[-1, 0, 0, 1, 2, 0]\n",
      "Pattern found at index: 0\n",
      "Pattern found at index: 5\n"
     ]
    }
   ],
   "source": [
    "def build_automaton(pattern):\n",
    "    automaton = [0] * (len(pattern) + 1)\n",
    "    automaton[0] = -1\n",
    "\n",
    "    i, j = 0, -1\n",
    "\n",
    "    while i < len(pattern):\n",
    "        while j >= 0 and pattern[i] != pattern[j]:\n",
    "            j = automaton[j]\n",
    "        i += 1\n",
    "        j += 1\n",
    "        automaton[i] = j\n",
    "\n",
    "    return automaton\n",
    "\n",
    "def search_pattern(text, pattern):\n",
    "    automaton = build_automaton(pattern)\n",
    "    print(automaton)\n",
    "    i, j = 0, 0\n",
    "\n",
    "    while i < len(text):\n",
    "        while j >= 0 and text[i] != pattern[j]:\n",
    "            j = automaton[j]\n",
    "        i += 1\n",
    "        j += 1\n",
    "\n",
    "        if j == len(pattern):\n",
    "            print(\"Pattern found at index:\", i - j)\n",
    "            j = automaton[j]\n",
    "\n",
    "# Пример использования\n",
    "text = \"ababcababcabc\"\n",
    "pattern = \"ababc\"\n",
    "search_pattern(text, pattern)"
   ]
  },
  {
   "cell_type": "markdown",
   "id": "4da52199",
   "metadata": {},
   "source": [
    "### Префикс-функция"
   ]
  },
  {
   "cell_type": "code",
   "execution_count": 9,
   "id": "3dd12708",
   "metadata": {},
   "outputs": [],
   "source": [
    "def prefix_function(pattern):\n",
    "    n = len(pattern)\n",
    "    pi = [0] * n\n",
    "    \n",
    "    for i in range(1, n):\n",
    "        j = pi[i - 1]\n",
    "        while j > 0 and pattern[i] != pattern[j]:\n",
    "            j = pi[j - 1]\n",
    "        if pattern[i] == pattern[j]:\n",
    "            j += 1\n",
    "        pi[i] = j\n",
    "        \n",
    "    return pi"
   ]
  },
  {
   "cell_type": "code",
   "execution_count": 15,
   "id": "cb513ef2",
   "metadata": {},
   "outputs": [
    {
     "data": {
      "text/plain": [
       "[0, 0, 1, 2, 0]"
      ]
     },
     "execution_count": 15,
     "metadata": {},
     "output_type": "execute_result"
    }
   ],
   "source": [
    "pattern = \"ababc\"\n",
    "prefix_function(pattern)"
   ]
  },
  {
   "cell_type": "code",
   "execution_count": 12,
   "id": "23e64d86",
   "metadata": {},
   "outputs": [],
   "source": [
    "def kmp_prefix_function(pattern):\n",
    "    n = len(pattern)\n",
    "    pi = [0] * n\n",
    "    j = 0\n",
    "    \n",
    "    for i in range(1, n):\n",
    "        while j > 0 and pattern[i] != pattern[j]:\n",
    "            j = pi[j - 1]\n",
    "        if pattern[i] == pattern[j]:\n",
    "            j += 1\n",
    "        pi[i] = j\n",
    "    \n",
    "    return pi"
   ]
  },
  {
   "cell_type": "code",
   "execution_count": 13,
   "id": "4432241a",
   "metadata": {},
   "outputs": [
    {
     "data": {
      "text/plain": [
       "[0, 0, 1, 2, 0]"
      ]
     },
     "execution_count": 13,
     "metadata": {},
     "output_type": "execute_result"
    }
   ],
   "source": [
    "pattern = \"ababc\"\n",
    "kmp_prefix_function(pattern)"
   ]
  },
  {
   "cell_type": "markdown",
   "id": "c6bee2b8",
   "metadata": {},
   "source": [
    "### Алгоритм КМП"
   ]
  },
  {
   "cell_type": "code",
   "execution_count": 20,
   "id": "701eaa9c",
   "metadata": {},
   "outputs": [
    {
     "name": "stdout",
     "output_type": "stream",
     "text": [
      "Подстрока найдена в позиции [0, 5]\n"
     ]
    }
   ],
   "source": [
    "def kmp_search(text, pattern):\n",
    "    n = len(text)\n",
    "    m = len(pattern)\n",
    "    pi = kmp_prefix_function(pattern)\n",
    "    \n",
    "    j = 0\n",
    "    indices = []\n",
    "    for i in range(n):\n",
    "        while j > 0 and text[i] != pattern[j]:\n",
    "            j = pi[j - 1]\n",
    "        if text[i] == pattern[j]:\n",
    "            j += 1\n",
    "        if j == m:\n",
    "            indices.append(i - m + 1)\n",
    "            j = pi[j - 1]\n",
    "    \n",
    "    return indices\n",
    "\n",
    "def kmp_prefix_function(pattern):\n",
    "    n = len(pattern)\n",
    "    pi = [0] * n\n",
    "    j = 0\n",
    "    \n",
    "    for i in range(1, n):\n",
    "        while j > 0 and pattern[i] != pattern[j]:\n",
    "            j = pi[j - 1]\n",
    "        if pattern[i] == pattern[j]:\n",
    "            j += 1\n",
    "        pi[i] = j\n",
    "    \n",
    "    return pi\n",
    "\n",
    "text = \"ababcababcabcabc\"\n",
    "pattern = \"ababc\"\n",
    "\n",
    "index = kmp_search(text, pattern)\n",
    "if index != -1:\n",
    "    print(f\"Подстрока найдена в позиции {index}\")\n",
    "else:\n",
    "    print(\"Подстрока не найдена\")"
   ]
  }
 ],
 "metadata": {
  "kernelspec": {
   "display_name": "Python 3 (ipykernel)",
   "language": "python",
   "name": "python3"
  },
  "language_info": {
   "codemirror_mode": {
    "name": "ipython",
    "version": 3
   },
   "file_extension": ".py",
   "mimetype": "text/x-python",
   "name": "python",
   "nbconvert_exporter": "python",
   "pygments_lexer": "ipython3",
   "version": "3.9.7"
  }
 },
 "nbformat": 4,
 "nbformat_minor": 5
}

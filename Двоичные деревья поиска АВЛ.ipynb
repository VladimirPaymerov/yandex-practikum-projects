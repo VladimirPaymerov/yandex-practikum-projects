{
 "cells": [
  {
   "cell_type": "code",
   "execution_count": 1,
   "id": "8bdd9f76",
   "metadata": {},
   "outputs": [],
   "source": [
    "import time\n",
    "import random"
   ]
  },
  {
   "cell_type": "code",
   "execution_count": 2,
   "id": "7fb2c050",
   "metadata": {},
   "outputs": [
    {
     "name": "stdout",
     "output_type": "stream",
     "text": [
      "Элемент найден\n",
      "1\n",
      "4\n",
      "6\n",
      "7\n",
      "8\n",
      "10\n",
      "13\n",
      "14\n",
      "-----------------------------\n",
      "9\n",
      "14\n",
      "15\n",
      "78\n",
      "86\n",
      "105\n",
      "147\n",
      "213\n",
      "324\n"
     ]
    }
   ],
   "source": [
    "class Node:\n",
    "    def __init__(self, key):\n",
    "        self.left = None\n",
    "        self.right = None\n",
    "        self.val = key\n",
    "\n",
    "class BinarySearchTree:\n",
    "    def __init__(self):\n",
    "        self.root = None\n",
    "\n",
    "    def insert(self, root, key):\n",
    "        if root is None:\n",
    "            return Node(key)\n",
    "        else:\n",
    "            if key < root.val:\n",
    "                root.left = self.insert(root.left, key)\n",
    "            else:\n",
    "                root.right = self.insert(root.right, key)\n",
    "        return root\n",
    "\n",
    "    def search(self, root, key):\n",
    "        if root is None or root.val == key:\n",
    "            return root\n",
    "        if root.val < key:\n",
    "            return self.search(root.right, key)\n",
    "        return self.search(root.left, key)\n",
    "\n",
    "    def minValueNode(self, node):\n",
    "        current = node\n",
    "        while current.left is not None:\n",
    "            current = current.left\n",
    "        return current\n",
    "\n",
    "    def remove(self, root, key):\n",
    "        if root is None:\n",
    "            return root\n",
    "        if key < root.val:\n",
    "            root.left = self.remove(root.left, key)\n",
    "        elif key > root.val:\n",
    "            root.right = self.remove(root.right, key)\n",
    "        else:\n",
    "            if root.left is None:\n",
    "                temp = root.right\n",
    "                root = None\n",
    "                return temp\n",
    "            elif root.right is None:\n",
    "                temp = root.left\n",
    "                root = None\n",
    "                return temp\n",
    "            temp = self.minValueNode(root.right)\n",
    "            root.val = temp.val\n",
    "            root.right = self.remove(root.right, temp.val)\n",
    "        return root\n",
    "\n",
    "# Создание двоичного дерева поиска\n",
    "bst = BinarySearchTree()\n",
    "root = None\n",
    "root_1 = None\n",
    "\n",
    "# Вставка элементов\n",
    "keys = [8, 3, 1, 6, 4, 7, 10, 14, 13]\n",
    "for key in keys:\n",
    "    root = bst.insert(root, key)\n",
    "    \n",
    "# Вставка элементов\n",
    "keys_2 = [15, 324, 9, 86, 14, 78, 105, 147, 213]\n",
    "for key in keys_2:\n",
    "    root_1 = bst.insert(root_1, key)\n",
    "\n",
    "# Поиск элемента\n",
    "result = bst.search(root, 6)\n",
    "if result:\n",
    "    print(\"Элемент найден\")\n",
    "else:\n",
    "    print(\"Элемент не найден\")\n",
    "\n",
    "# Удаление элемента\n",
    "root = bst.remove(root, 3)\n",
    "\n",
    "# Вывод дерева\n",
    "def inorder_traversal(node):\n",
    "    if node:\n",
    "        inorder_traversal(node.left)\n",
    "        print(node.val)\n",
    "        inorder_traversal(node.right)\n",
    "\n",
    "inorder_traversal(root)\n",
    "print('-----------------------------')\n",
    "inorder_traversal(root_1)"
   ]
  },
  {
   "cell_type": "code",
   "execution_count": 3,
   "id": "717de57e",
   "metadata": {},
   "outputs": [
    {
     "name": "stdout",
     "output_type": "stream",
     "text": [
      "Время вставки N=10 элементов в случайном порядке: 0.0 секунд\n",
      "Время вставки N=100 элементов в случайном порядке: 0.0020012855529785156 секунд\n",
      "Время вставки N=1000 элементов в случайном порядке: 0.022992372512817383 секунд\n",
      "Время вставки N=10000 элементов в случайном порядке: 0.282031774520874 секунд\n",
      "Время вставки N=100000 элементов в случайном порядке: 4.161968231201172 секунд\n",
      "Время вставки N=1000000 элементов в случайном порядке: 60.72257995605469 секунд\n"
     ]
    }
   ],
   "source": [
    "# Замер времени вставки N элементов в случайном порядке\n",
    "n = [10, 100, 1000, 10000, 100000, 1000000]\n",
    "for i in n:\n",
    "    start_time = time.time()\n",
    "    keys = [random.randint(1,i) for j in range(i)]\n",
    "    for key in keys:\n",
    "        root = bst.insert(root, key)\n",
    "    end_time = time.time()\n",
    "    print(f\"Время вставки N={i} элементов в случайном порядке:\", end_time - start_time, \"секунд\")"
   ]
  },
  {
   "cell_type": "code",
   "execution_count": 4,
   "id": "03555881",
   "metadata": {},
   "outputs": [
    {
     "name": "stdout",
     "output_type": "stream",
     "text": [
      "Время вставки N=10 элементов в возрастающем порядке: 0.029000043869018555 секунд\n",
      "Время вставки N=100 элементов в возрастающем порядке: 0.002039194107055664 секунд\n",
      "Время вставки N=1000 элементов в возрастающем порядке: 0.028995990753173828 секунд\n",
      "Время вставки N=10000 элементов в возрастающем порядке: 0.36400365829467773 секунд\n",
      "Время вставки N=100000 элементов в возрастающем порядке: 6.696389436721802 секунд\n",
      "Время вставки N=1000000 элементов в возрастающем порядке: 54.06071972846985 секунд\n"
     ]
    }
   ],
   "source": [
    "# Замер времени вставки N элементов в возрастающем порядке\n",
    "n = [10, 100, 1000, 10000, 100000, 1000000]\n",
    "for i in n:\n",
    "    start_time = time.time()\n",
    "    keys = list(range(1, i+1))\n",
    "    for key in keys:\n",
    "        root = bst.insert(root, key)\n",
    "    end_time = time.time()\n",
    "    print(f\"Время вставки N={i} элементов в возрастающем порядке:\", end_time - start_time, \"секунд\")"
   ]
  },
  {
   "cell_type": "code",
   "execution_count": 5,
   "id": "2f2e2292",
   "metadata": {},
   "outputs": [
    {
     "name": "stdout",
     "output_type": "stream",
     "text": [
      "Дерево с 10 элементами:\n",
      "Замер времени поиска 10/10 случайных элементов в каждом дереве: 0.0 секунд\n",
      "Дерево с 100 элементами:\n",
      "Замер времени поиска 100/10 случайных элементов в каждом дереве: 0.0009999275207519531 секунд\n",
      "Дерево с 1000 элементами:\n",
      "Замер времени поиска 1000/10 случайных элементов в каждом дереве: 0.0009005069732666016 секунд\n",
      "Дерево с 10000 элементами:\n",
      "Замер времени поиска 10000/10 случайных элементов в каждом дереве: 0.015003681182861328 секунд\n",
      "Дерево с 100000 элементами:\n",
      "Замер времени поиска 100000/10 случайных элементов в каждом дереве: 0.25200343132019043 секунд\n",
      "Дерево с 1000000 элементами:\n",
      "Замер времени поиска 1000000/10 случайных элементов в каждом дереве: 2.840029239654541 секунд\n"
     ]
    }
   ],
   "source": [
    "# Замер времени поиска N/10 случайных элементов в каждом дереве\n",
    "\n",
    "# Функция для поиска случайных чисел в дереве\n",
    "def search_random_numbers(root, n):\n",
    "    for _ in range(n // 10):\n",
    "        search_value = random.randint(1, n)\n",
    "        result = bst.search(root, search_value)\n",
    "        \n",
    "\n",
    "# Список с разным количеством элементов\n",
    "n_values = [10, 100, 1000, 10000, 100000, 1000000]\n",
    "\n",
    "for n in n_values:\n",
    "    # Создание дерева из случайных чисел\n",
    "    root = None\n",
    "    keys = [random.randint(1,n) for j in range(n)]\n",
    "    for key in keys:\n",
    "        root = bst.insert(root, key)\n",
    "    \n",
    "    print(f\"Дерево с {n} элементами:\")\n",
    "    start_time = time.time()\n",
    "    search_random_numbers(root, n)\n",
    "    end_time = time.time()\n",
    "    print(f\"Замер времени поиска {n}/10 случайных элементов в каждом дереве:\", end_time-start_time, \"секунд\")"
   ]
  },
  {
   "cell_type": "code",
   "execution_count": 7,
   "id": "d0d28723",
   "metadata": {},
   "outputs": [
    {
     "name": "stdout",
     "output_type": "stream",
     "text": [
      "Дерево с 10 элементами:\n",
      "Замер времени удаления 10/10 случайных элементов в каждом дереве: 0.0 секунд\n",
      "Дерево с 100 элементами:\n",
      "Замер времени удаления 100/10 случайных элементов в каждом дереве: 0.0 секунд\n",
      "Дерево с 1000 элементами:\n",
      "Замер времени удаления 1000/10 случайных элементов в каждом дереве: 0.0010027885437011719 секунд\n",
      "Дерево с 10000 элементами:\n",
      "Замер времени удаления 10000/10 случайных элементов в каждом дереве: 0.014000415802001953 секунд\n",
      "Дерево с 100000 элементами:\n",
      "Замер времени удаления 100000/10 случайных элементов в каждом дереве: 0.8569509983062744 секунд\n",
      "Дерево с 1000000 элементами:\n",
      "Замер времени удаления 1000000/10 случайных элементов в каждом дереве: 214.06977105140686 секунд\n"
     ]
    }
   ],
   "source": [
    "# Замер времени удаления N/10 случайных элементов в каждом дереве\n",
    "\n",
    "# Функция для удаления n/10 случайных чисел из дерева\n",
    "def delete_random_numbers(root, n):\n",
    "    for _ in range(n // 10):\n",
    "        delete_value = random.randint(1, n)\n",
    "        root = bst.remove(root, delete_value)\n",
    "        #print(f\"Число {delete_value} удалено из дерева\")\n",
    "\n",
    "# Список с разным количеством элементов\n",
    "n_values = [10, 100, 1000, 10000, 100000, 1000000]\n",
    "\n",
    "for n in n_values:\n",
    "    # Создание дерева из случайных чисел\n",
    "    root = None\n",
    "    for _ in range(n):\n",
    "        root = bst.insert(root, random.randint(1, 1000))\n",
    "    \n",
    "    print(f\"Дерево с {n} элементами:\")\n",
    "    start_time = time.time()\n",
    "    delete_random_numbers(root, n)\n",
    "    end_time = time.time()\n",
    "    print(f\"Замер времени удаления {n}/10 случайных элементов в каждом дереве:\", end_time-start_time, \"секунд\")"
   ]
  }
 ],
 "metadata": {
  "kernelspec": {
   "display_name": "Python 3 (ipykernel)",
   "language": "python",
   "name": "python3"
  },
  "language_info": {
   "codemirror_mode": {
    "name": "ipython",
    "version": 3
   },
   "file_extension": ".py",
   "mimetype": "text/x-python",
   "name": "python",
   "nbconvert_exporter": "python",
   "pygments_lexer": "ipython3",
   "version": "3.9.7"
  }
 },
 "nbformat": 4,
 "nbformat_minor": 5
}
